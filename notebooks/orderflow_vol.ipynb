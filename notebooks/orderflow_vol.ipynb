{
 "cells": [
  {
   "cell_type": "code",
   "execution_count": 4,
   "source": [
    "import numpy as np\n",
    "from numpy import linalg as LA\n",
    "import pandas as pd\n",
    "from datetime import datetime, timedelta, date\n",
    "import concurrent.futures\n",
    "\n",
    "\n",
    "from gtda.time_series import TakensEmbedding\n",
    "from gtda.time_series import SlidingWindow\n",
    "from gtda.time_series import SingleTakensEmbedding\n",
    "\n",
    "from gtda.time_series import PearsonDissimilarity\n",
    "from gtda.homology import VietorisRipsPersistence\n",
    "from gtda.diagrams import Amplitude\n",
    "from gtda.diagrams import PersistenceLandscape\n",
    "\n",
    "\n",
    "from gtda.pipeline import make_pipeline\n",
    "\n",
    "\n",
    "from sklearn import set_config\n",
    "set_config(display='diagram')  # For HTML representations of pipelines\n",
    "\n",
    "from sklearn.cluster import KMeans\n",
    "\n",
    "\n",
    "import plotly.express as px\n",
    "import plotly.graph_objects as go\n",
    "from plotly.subplots import make_subplots\n",
    "\n",
    "import json\n",
    "\n",
    "\n",
    "from binance import Client, ThreadedWebsocketManager, ThreadedDepthCacheManager\n",
    "import config as c \n",
    "\n",
    "key, secret = c.apis[0][0]+\"a\", c.apis[0][1]\n",
    "client = Client(key, secret)\n",
    "# config has variable 'apis = [[# YOUR API KEY],[#YOUR API SECRET]]"
   ],
   "outputs": [],
   "metadata": {}
  },
  {
   "cell_type": "code",
   "execution_count": 41,
   "source": [
    "def get_date(timestamp):\n",
    "    obj = datetime.fromtimestamp(timestamp/1000.0)\n",
    "    return \"%s/%s/%s %s:%s\" % (obj.month, obj.day, obj.year, obj.hour, obj.minute)\n",
    "\n",
    "def get_timestamp(date):\n",
    "    dt_obj = datetime.strptime(date, '%m/%d/%Y %H:%M')\n",
    "    return int(dt_obj.timestamp() * 1000)\n",
    "\n"
   ],
   "outputs": [],
   "metadata": {}
  },
  {
   "cell_type": "code",
   "execution_count": 197,
   "source": [
    "#  [\n",
    "#   {\n",
    "#     \"a\": 26129,         // Aggregate tradeId\n",
    "#     \"p\": \"0.01633102\",  // Price\n",
    "#     \"q\": \"4.70443515\",  // Quantity\n",
    "#     \"f\": 27781,         // First tradeId\n",
    "#     \"l\": 27781,         // Last tradeId\n",
    "#     \"T\": 1498793709153, // Timestamp\n",
    "#     \"m\": true,          // Was the buyer the maker?\n",
    "#     \"M\": true           // Was the trade the best price match?\n",
    "#   }\n",
    "# ]\n",
    "\n",
    "def generate_volumebars(trades, frequency=10):\n",
    "    times = trades[:,0]\n",
    "    prices = trades[:,1]\n",
    "    volumes = trades[:,2]\n",
    "    ans = np.zeros(shape=(len(prices), 6))\n",
    "    candle_counter = 0\n",
    "    vol = 0\n",
    "    lasti = 0\n",
    "    for i in range(len(prices)):\n",
    "        vol += volumes[i]\n",
    "        if vol >= frequency:\n",
    "            ans[candle_counter][0] = times[i]              # time\n",
    "            ans[candle_counter][1] = prices[lasti]                     # open\n",
    "            ans[candle_counter][2] = np.max(prices[lasti:i+1])         # high\n",
    "            ans[candle_counter][3] = np.min(prices[lasti:i+1])         # low\n",
    "            ans[candle_counter][4] = prices[i]                         # close\n",
    "            ans[candle_counter][5] = np.sum(volumes[lasti:i+1])        # volume\n",
    "            candle_counter += 1\n",
    "            lasti = i+1\n",
    "            vol = 0\n",
    "    return ans[:candle_counter]\n",
    "\n",
    "def gen_bars(bars_arr):\n",
    "    return pd.DataFrame([i[1:] for i in bars_arr], columns = [\"Open\", \"High\", \"Low\", \"Close\", \"Volume\"], index=pd.to_datetime([i[0] for i in bars_arr], unit='ms')).sort_index()"
   ],
   "outputs": [],
   "metadata": {}
  },
  {
   "cell_type": "code",
   "execution_count": 205,
   "source": [
    "# multiprocess network calls\n",
    "\n",
    "orderflow = []\n",
    "\n",
    "#worker method\n",
    "def get_orderflow(symbol, startTime):\n",
    "    # startTime = get_timestamp(start)\n",
    "    return client.get_aggregate_trades(symbol = symbol, startTime = startTime, endTime = startTime+3600000-1)\n",
    "\n",
    "with concurrent.futures.ThreadPoolExecutor(max_workers=400) as executor:\n",
    "    result = [executor.submit(get_orderflow, \"BTCUSDT\", time) for time in times]\n",
    "    for future in concurrent.futures.as_completed(result):\n",
    "        orderflow.extend(future.result())\n",
    "\n",
    "trades = np.array([[float(i[\"T\"]), float(i[\"p\"]), float(i[\"q\"])] for i in orderflow])\n",
    "\n",
    "bars_arr = generate_volumebars(trades)\n",
    "\n",
    "bars = gen_bars(bars_arr)\n",
    "\n",
    "with open('concurrent.json', 'w') as f:\n",
    "    json.dump(orderflow, f, indent=4)\n",
    "\n",
    "fig = go.Figure(data=[go.Candlestick(x=bars.index, open=bars['Open'], high=bars['High'], low=bars['Low'], close=bars['Close'])])\n",
    "\n",
    "fig.show()"
   ],
   "outputs": [
    {
     "output_type": "display_data",
     "data": {
      "application/vnd.plotly.v1+json": {
       "config": {
        "plotlyServerURL": "https://plot.ly"
       },
       "data": [
        {
         "close": [
          5477.88,
          5466.17,
          5464.89,
          5450.03,
          5449.83,
          5429.97,
          5435.98,
          5427.73,
          5435.98,
          5435.22,
          5435.46,
          5435,
          5420.35,
          5419.01,
          5433.02,
          5433.04,
          5470.01,
          5471.02,
          5469.96,
          5460.01,
          5460.02,
          5500.95,
          5490.04,
          5519,
          5520,
          5533.17,
          5550,
          5541.52,
          5532.01,
          5559.97,
          5560,
          5591.99,
          5638.13,
          5640,
          5612.98,
          5599.96,
          5609.99,
          5593.18,
          5593,
          5579.99,
          5584.49,
          5584.97,
          5592.98,
          5592.97,
          5591.01,
          5593.05,
          5595.88,
          5595.85,
          5585.01,
          5563.21,
          5500,
          5500,
          5500.09,
          5500.07,
          5500.05,
          5501.11,
          5485.01,
          5510.01,
          5500.02,
          5500.02,
          5492.01,
          5495.01,
          5469.94,
          5440.08,
          5440.08,
          5440.08,
          5440.07,
          5440.11,
          5450,
          5440.21,
          5403.01,
          5418.95,
          5418.93,
          5428.99,
          5420.03,
          5415.56,
          5415.51,
          5429,
          5449.96,
          5494.97,
          5456.16,
          5456.16,
          5458.02,
          5480.05,
          5477.02,
          5456.22,
          5479.99,
          5500,
          5483.19,
          5480.07,
          5469.98,
          5470.01,
          5474.97
         ],
         "high": [
          5499.97,
          5477.89,
          5466,
          5464.89,
          5464.79,
          5449.9,
          5439.98,
          5435.98,
          5435.98,
          5494.99,
          5450.07,
          5500.02,
          5436,
          5455.46,
          5455.45,
          5433.09,
          5470.01,
          5478.99,
          5478.98,
          5593.19,
          5489.99,
          5500.97,
          5519.5,
          5519.5,
          5520,
          5539.99,
          5550,
          5550,
          5532.04,
          5559.98,
          5564.98,
          5591.99,
          5638.16,
          5650,
          5640,
          5612.98,
          5619.99,
          5610,
          5593.18,
          5591.98,
          5585.99,
          5585,
          5593,
          5593,
          5593,
          5597,
          5596.98,
          5595.87,
          5595.85,
          5590,
          5565.03,
          5500,
          5559.74,
          5500.14,
          5520,
          5501.2,
          5501.02,
          5518,
          5518,
          5550,
          5500.02,
          5517.98,
          5499.99,
          5469.98,
          5443.97,
          5444,
          5444,
          5444,
          5598,
          5469.97,
          5446.48,
          5418.99,
          5418.96,
          5444.98,
          5429,
          5439.99,
          5415.56,
          5429,
          5479.97,
          5494.99,
          5499,
          5500.01,
          5499.85,
          5500,
          5500,
          5499.01,
          5479.99,
          5500,
          5500,
          5490.9,
          5480.08,
          5478.99,
          5477.98
         ],
         "low": [
          5450.02,
          5450,
          5450,
          5445.07,
          5436.01,
          5428.74,
          5429.97,
          5427.72,
          5427.73,
          5431.17,
          5435.22,
          5420.25,
          5420.25,
          5418.98,
          5419,
          5433.01,
          5430.01,
          5470,
          5435.03,
          5460.01,
          5460.01,
          5460.02,
          5480.03,
          5475.55,
          5490.5,
          5496.72,
          5531,
          5541.51,
          5456.2,
          5532.01,
          5549.98,
          5549.98,
          5590.03,
          5590.04,
          5590.45,
          5593.01,
          5594,
          5591.19,
          5435.46,
          5575,
          5559.69,
          5562.18,
          5580.03,
          5582.36,
          5591.01,
          5474.96,
          5591.01,
          5595.84,
          5580,
          5562.29,
          5500,
          5500,
          5482,
          5500.06,
          5500.03,
          5500.04,
          5482.01,
          5482,
          5500,
          5500.01,
          5491.02,
          5493.11,
          5455.02,
          5440.06,
          5440.06,
          5440.06,
          5440.07,
          5440.07,
          5440.21,
          5440.21,
          5403.01,
          5375,
          5415.62,
          5401.03,
          5401.07,
          5415.51,
          5415.51,
          5414.59,
          5400.05,
          5434.01,
          5441.04,
          5456.15,
          5456.15,
          5475,
          5477.01,
          5456.16,
          5457.02,
          5460.05,
          5465.01,
          5466,
          5466,
          5469.98,
          5469.99
         ],
         "open": [
          5450.02,
          5477.87,
          5466,
          5464.89,
          5450.02,
          5449.85,
          5429.98,
          5427.73,
          5435.98,
          5435.98,
          5435.22,
          5500.02,
          5436,
          5420.34,
          5436,
          5433.03,
          5433.04,
          5470,
          5471.02,
          5593.18,
          5460.02,
          5460.02,
          5500.95,
          5490.04,
          5490.5,
          5520,
          5533.19,
          5550,
          5456.2,
          5532.01,
          5559.96,
          5564.99,
          5592,
          5590.04,
          5640,
          5612.98,
          5599.97,
          5610,
          5435.46,
          5591.98,
          5579.98,
          5584.48,
          5585,
          5592.99,
          5592.98,
          5474.97,
          5593.06,
          5595.86,
          5595.85,
          5585.02,
          5563.23,
          5500,
          5500,
          5500.1,
          5500.06,
          5500.05,
          5501.02,
          5485.02,
          5508.98,
          5541.52,
          5500.01,
          5493.12,
          5499.99,
          5456,
          5440.07,
          5440.07,
          5440.07,
          5440.07,
          5593,
          5450,
          5440.06,
          5402,
          5418.95,
          5418.96,
          5428.99,
          5420.02,
          5415.55,
          5415.52,
          5428.97,
          5449.94,
          5494.97,
          5500,
          5456.15,
          5475,
          5480.02,
          5499,
          5465.02,
          5480,
          5500,
          5483.18,
          5480.08,
          5469.99,
          5470
         ],
         "type": "candlestick",
         "x": [
          "2017-10-25T05:02:51.176000",
          "2017-10-25T05:07:04.103000",
          "2017-10-25T05:12:06.116000",
          "2017-10-25T05:15:24.039000",
          "2017-10-25T05:26:03.056000",
          "2017-10-25T05:31:24.358000",
          "2017-10-25T05:34:35.232000",
          "2017-10-25T05:36:48.558000",
          "2017-10-25T05:39:14.619000",
          "2017-10-25T05:51:14.871000",
          "2017-10-25T05:58:13.265000",
          "2017-10-25T06:09:20.776000",
          "2017-10-25T06:16:23.949000",
          "2017-10-25T06:22:53.943000",
          "2017-10-25T06:29:43.411000",
          "2017-10-25T06:31:24.564000",
          "2017-10-25T06:37:48.906000",
          "2017-10-25T06:43:19.286000",
          "2017-10-25T06:55:34.407000",
          "2017-10-25T07:02:04.330000",
          "2017-10-25T07:14:13.850000",
          "2017-10-25T07:21:40.142000",
          "2017-10-25T07:27:40.248000",
          "2017-10-25T07:34:16.787000",
          "2017-10-25T07:40:05.817000",
          "2017-10-25T07:44:41.756000",
          "2017-10-25T07:51:11.471000",
          "2017-10-25T07:55:24.637000",
          "2017-10-25T08:06:45.107000",
          "2017-10-25T08:15:05.699000",
          "2017-10-25T08:19:20.942000",
          "2017-10-25T08:26:15.241000",
          "2017-10-25T08:28:04.709000",
          "2017-10-25T08:30:15.298000",
          "2017-10-25T08:37:12.220000",
          "2017-10-25T08:40:35.271000",
          "2017-10-25T08:48:37.372000",
          "2017-10-25T08:56:43.390000",
          "2017-10-25T09:05:07.983000",
          "2017-10-25T09:12:07.127000",
          "2017-10-25T09:25:32.698000",
          "2017-10-25T09:36:41.810000",
          "2017-10-25T09:42:54.908000",
          "2017-10-25T09:50:44.911000",
          "2017-10-25T09:54:10.756000",
          "2017-10-25T10:05:35.012000",
          "2017-10-25T10:13:23.471000",
          "2017-10-25T10:17:14.866000",
          "2017-10-25T10:20:14.715000",
          "2017-10-25T10:26:04.349000",
          "2017-10-25T10:28:55.705000",
          "2017-10-25T10:29:01.736000",
          "2017-10-25T10:31:47.524000",
          "2017-10-25T10:34:42.471000",
          "2017-10-25T10:38:23.988000",
          "2017-10-25T10:42:20.384000",
          "2017-10-25T10:47:47.443000",
          "2017-10-25T10:57:14.583000",
          "2017-10-25T10:59:07.546000",
          "2017-10-25T11:02:04.278000",
          "2017-10-25T11:05:45.403000",
          "2017-10-25T11:13:40.364000",
          "2017-10-25T11:24:12.023000",
          "2017-10-25T11:32:01.406000",
          "2017-10-25T11:40:23.763000",
          "2017-10-25T11:44:57.691000",
          "2017-10-25T11:47:01.150000",
          "2017-10-25T11:49:35.208000",
          "2017-10-25T12:01:00.407000",
          "2017-10-25T12:08:23.103000",
          "2017-10-25T12:13:53.653000",
          "2017-10-25T12:19:23.273000",
          "2017-10-25T12:27:23.082000",
          "2017-10-25T12:31:34.045000",
          "2017-10-25T12:35:53.841000",
          "2017-10-25T12:43:10.371000",
          "2017-10-25T12:48:13.475000",
          "2017-10-25T12:51:37.514000",
          "2017-10-25T12:59:04.738000",
          "2017-10-25T13:09:30.342000",
          "2017-10-25T13:17:23.293000",
          "2017-10-25T13:22:35.061000",
          "2017-10-25T13:35:01.697000",
          "2017-10-25T13:49:58.666000",
          "2017-10-25T13:53:54.123000",
          "2017-10-25T13:57:58.546000",
          "2017-10-25T14:07:00.018000",
          "2017-10-25T14:22:15.408000",
          "2017-10-25T14:40:33.423000",
          "2017-10-25T14:48:11.866000",
          "2017-10-25T14:52:14.172000",
          "2017-10-25T14:55:04.281000",
          "2017-10-25T14:59:05.507000"
         ]
        }
       ],
       "layout": {
        "template": {
         "data": {
          "bar": [
           {
            "error_x": {
             "color": "#2a3f5f"
            },
            "error_y": {
             "color": "#2a3f5f"
            },
            "marker": {
             "line": {
              "color": "#E5ECF6",
              "width": 0.5
             },
             "pattern": {
              "fillmode": "overlay",
              "size": 10,
              "solidity": 0.2
             }
            },
            "type": "bar"
           }
          ],
          "barpolar": [
           {
            "marker": {
             "line": {
              "color": "#E5ECF6",
              "width": 0.5
             },
             "pattern": {
              "fillmode": "overlay",
              "size": 10,
              "solidity": 0.2
             }
            },
            "type": "barpolar"
           }
          ],
          "carpet": [
           {
            "aaxis": {
             "endlinecolor": "#2a3f5f",
             "gridcolor": "white",
             "linecolor": "white",
             "minorgridcolor": "white",
             "startlinecolor": "#2a3f5f"
            },
            "baxis": {
             "endlinecolor": "#2a3f5f",
             "gridcolor": "white",
             "linecolor": "white",
             "minorgridcolor": "white",
             "startlinecolor": "#2a3f5f"
            },
            "type": "carpet"
           }
          ],
          "choropleth": [
           {
            "colorbar": {
             "outlinewidth": 0,
             "ticks": ""
            },
            "type": "choropleth"
           }
          ],
          "contour": [
           {
            "colorbar": {
             "outlinewidth": 0,
             "ticks": ""
            },
            "colorscale": [
             [
              0,
              "#0d0887"
             ],
             [
              0.1111111111111111,
              "#46039f"
             ],
             [
              0.2222222222222222,
              "#7201a8"
             ],
             [
              0.3333333333333333,
              "#9c179e"
             ],
             [
              0.4444444444444444,
              "#bd3786"
             ],
             [
              0.5555555555555556,
              "#d8576b"
             ],
             [
              0.6666666666666666,
              "#ed7953"
             ],
             [
              0.7777777777777778,
              "#fb9f3a"
             ],
             [
              0.8888888888888888,
              "#fdca26"
             ],
             [
              1,
              "#f0f921"
             ]
            ],
            "type": "contour"
           }
          ],
          "contourcarpet": [
           {
            "colorbar": {
             "outlinewidth": 0,
             "ticks": ""
            },
            "type": "contourcarpet"
           }
          ],
          "heatmap": [
           {
            "colorbar": {
             "outlinewidth": 0,
             "ticks": ""
            },
            "colorscale": [
             [
              0,
              "#0d0887"
             ],
             [
              0.1111111111111111,
              "#46039f"
             ],
             [
              0.2222222222222222,
              "#7201a8"
             ],
             [
              0.3333333333333333,
              "#9c179e"
             ],
             [
              0.4444444444444444,
              "#bd3786"
             ],
             [
              0.5555555555555556,
              "#d8576b"
             ],
             [
              0.6666666666666666,
              "#ed7953"
             ],
             [
              0.7777777777777778,
              "#fb9f3a"
             ],
             [
              0.8888888888888888,
              "#fdca26"
             ],
             [
              1,
              "#f0f921"
             ]
            ],
            "type": "heatmap"
           }
          ],
          "heatmapgl": [
           {
            "colorbar": {
             "outlinewidth": 0,
             "ticks": ""
            },
            "colorscale": [
             [
              0,
              "#0d0887"
             ],
             [
              0.1111111111111111,
              "#46039f"
             ],
             [
              0.2222222222222222,
              "#7201a8"
             ],
             [
              0.3333333333333333,
              "#9c179e"
             ],
             [
              0.4444444444444444,
              "#bd3786"
             ],
             [
              0.5555555555555556,
              "#d8576b"
             ],
             [
              0.6666666666666666,
              "#ed7953"
             ],
             [
              0.7777777777777778,
              "#fb9f3a"
             ],
             [
              0.8888888888888888,
              "#fdca26"
             ],
             [
              1,
              "#f0f921"
             ]
            ],
            "type": "heatmapgl"
           }
          ],
          "histogram": [
           {
            "marker": {
             "pattern": {
              "fillmode": "overlay",
              "size": 10,
              "solidity": 0.2
             }
            },
            "type": "histogram"
           }
          ],
          "histogram2d": [
           {
            "colorbar": {
             "outlinewidth": 0,
             "ticks": ""
            },
            "colorscale": [
             [
              0,
              "#0d0887"
             ],
             [
              0.1111111111111111,
              "#46039f"
             ],
             [
              0.2222222222222222,
              "#7201a8"
             ],
             [
              0.3333333333333333,
              "#9c179e"
             ],
             [
              0.4444444444444444,
              "#bd3786"
             ],
             [
              0.5555555555555556,
              "#d8576b"
             ],
             [
              0.6666666666666666,
              "#ed7953"
             ],
             [
              0.7777777777777778,
              "#fb9f3a"
             ],
             [
              0.8888888888888888,
              "#fdca26"
             ],
             [
              1,
              "#f0f921"
             ]
            ],
            "type": "histogram2d"
           }
          ],
          "histogram2dcontour": [
           {
            "colorbar": {
             "outlinewidth": 0,
             "ticks": ""
            },
            "colorscale": [
             [
              0,
              "#0d0887"
             ],
             [
              0.1111111111111111,
              "#46039f"
             ],
             [
              0.2222222222222222,
              "#7201a8"
             ],
             [
              0.3333333333333333,
              "#9c179e"
             ],
             [
              0.4444444444444444,
              "#bd3786"
             ],
             [
              0.5555555555555556,
              "#d8576b"
             ],
             [
              0.6666666666666666,
              "#ed7953"
             ],
             [
              0.7777777777777778,
              "#fb9f3a"
             ],
             [
              0.8888888888888888,
              "#fdca26"
             ],
             [
              1,
              "#f0f921"
             ]
            ],
            "type": "histogram2dcontour"
           }
          ],
          "mesh3d": [
           {
            "colorbar": {
             "outlinewidth": 0,
             "ticks": ""
            },
            "type": "mesh3d"
           }
          ],
          "parcoords": [
           {
            "line": {
             "colorbar": {
              "outlinewidth": 0,
              "ticks": ""
             }
            },
            "type": "parcoords"
           }
          ],
          "pie": [
           {
            "automargin": true,
            "type": "pie"
           }
          ],
          "scatter": [
           {
            "marker": {
             "colorbar": {
              "outlinewidth": 0,
              "ticks": ""
             }
            },
            "type": "scatter"
           }
          ],
          "scatter3d": [
           {
            "line": {
             "colorbar": {
              "outlinewidth": 0,
              "ticks": ""
             }
            },
            "marker": {
             "colorbar": {
              "outlinewidth": 0,
              "ticks": ""
             }
            },
            "type": "scatter3d"
           }
          ],
          "scattercarpet": [
           {
            "marker": {
             "colorbar": {
              "outlinewidth": 0,
              "ticks": ""
             }
            },
            "type": "scattercarpet"
           }
          ],
          "scattergeo": [
           {
            "marker": {
             "colorbar": {
              "outlinewidth": 0,
              "ticks": ""
             }
            },
            "type": "scattergeo"
           }
          ],
          "scattergl": [
           {
            "marker": {
             "colorbar": {
              "outlinewidth": 0,
              "ticks": ""
             }
            },
            "type": "scattergl"
           }
          ],
          "scattermapbox": [
           {
            "marker": {
             "colorbar": {
              "outlinewidth": 0,
              "ticks": ""
             }
            },
            "type": "scattermapbox"
           }
          ],
          "scatterpolar": [
           {
            "marker": {
             "colorbar": {
              "outlinewidth": 0,
              "ticks": ""
             }
            },
            "type": "scatterpolar"
           }
          ],
          "scatterpolargl": [
           {
            "marker": {
             "colorbar": {
              "outlinewidth": 0,
              "ticks": ""
             }
            },
            "type": "scatterpolargl"
           }
          ],
          "scatterternary": [
           {
            "marker": {
             "colorbar": {
              "outlinewidth": 0,
              "ticks": ""
             }
            },
            "type": "scatterternary"
           }
          ],
          "surface": [
           {
            "colorbar": {
             "outlinewidth": 0,
             "ticks": ""
            },
            "colorscale": [
             [
              0,
              "#0d0887"
             ],
             [
              0.1111111111111111,
              "#46039f"
             ],
             [
              0.2222222222222222,
              "#7201a8"
             ],
             [
              0.3333333333333333,
              "#9c179e"
             ],
             [
              0.4444444444444444,
              "#bd3786"
             ],
             [
              0.5555555555555556,
              "#d8576b"
             ],
             [
              0.6666666666666666,
              "#ed7953"
             ],
             [
              0.7777777777777778,
              "#fb9f3a"
             ],
             [
              0.8888888888888888,
              "#fdca26"
             ],
             [
              1,
              "#f0f921"
             ]
            ],
            "type": "surface"
           }
          ],
          "table": [
           {
            "cells": {
             "fill": {
              "color": "#EBF0F8"
             },
             "line": {
              "color": "white"
             }
            },
            "header": {
             "fill": {
              "color": "#C8D4E3"
             },
             "line": {
              "color": "white"
             }
            },
            "type": "table"
           }
          ]
         },
         "layout": {
          "annotationdefaults": {
           "arrowcolor": "#2a3f5f",
           "arrowhead": 0,
           "arrowwidth": 1
          },
          "autotypenumbers": "strict",
          "coloraxis": {
           "colorbar": {
            "outlinewidth": 0,
            "ticks": ""
           }
          },
          "colorscale": {
           "diverging": [
            [
             0,
             "#8e0152"
            ],
            [
             0.1,
             "#c51b7d"
            ],
            [
             0.2,
             "#de77ae"
            ],
            [
             0.3,
             "#f1b6da"
            ],
            [
             0.4,
             "#fde0ef"
            ],
            [
             0.5,
             "#f7f7f7"
            ],
            [
             0.6,
             "#e6f5d0"
            ],
            [
             0.7,
             "#b8e186"
            ],
            [
             0.8,
             "#7fbc41"
            ],
            [
             0.9,
             "#4d9221"
            ],
            [
             1,
             "#276419"
            ]
           ],
           "sequential": [
            [
             0,
             "#0d0887"
            ],
            [
             0.1111111111111111,
             "#46039f"
            ],
            [
             0.2222222222222222,
             "#7201a8"
            ],
            [
             0.3333333333333333,
             "#9c179e"
            ],
            [
             0.4444444444444444,
             "#bd3786"
            ],
            [
             0.5555555555555556,
             "#d8576b"
            ],
            [
             0.6666666666666666,
             "#ed7953"
            ],
            [
             0.7777777777777778,
             "#fb9f3a"
            ],
            [
             0.8888888888888888,
             "#fdca26"
            ],
            [
             1,
             "#f0f921"
            ]
           ],
           "sequentialminus": [
            [
             0,
             "#0d0887"
            ],
            [
             0.1111111111111111,
             "#46039f"
            ],
            [
             0.2222222222222222,
             "#7201a8"
            ],
            [
             0.3333333333333333,
             "#9c179e"
            ],
            [
             0.4444444444444444,
             "#bd3786"
            ],
            [
             0.5555555555555556,
             "#d8576b"
            ],
            [
             0.6666666666666666,
             "#ed7953"
            ],
            [
             0.7777777777777778,
             "#fb9f3a"
            ],
            [
             0.8888888888888888,
             "#fdca26"
            ],
            [
             1,
             "#f0f921"
            ]
           ]
          },
          "colorway": [
           "#636efa",
           "#EF553B",
           "#00cc96",
           "#ab63fa",
           "#FFA15A",
           "#19d3f3",
           "#FF6692",
           "#B6E880",
           "#FF97FF",
           "#FECB52"
          ],
          "font": {
           "color": "#2a3f5f"
          },
          "geo": {
           "bgcolor": "white",
           "lakecolor": "white",
           "landcolor": "#E5ECF6",
           "showlakes": true,
           "showland": true,
           "subunitcolor": "white"
          },
          "hoverlabel": {
           "align": "left"
          },
          "hovermode": "closest",
          "mapbox": {
           "style": "light"
          },
          "paper_bgcolor": "white",
          "plot_bgcolor": "#E5ECF6",
          "polar": {
           "angularaxis": {
            "gridcolor": "white",
            "linecolor": "white",
            "ticks": ""
           },
           "bgcolor": "#E5ECF6",
           "radialaxis": {
            "gridcolor": "white",
            "linecolor": "white",
            "ticks": ""
           }
          },
          "scene": {
           "xaxis": {
            "backgroundcolor": "#E5ECF6",
            "gridcolor": "white",
            "gridwidth": 2,
            "linecolor": "white",
            "showbackground": true,
            "ticks": "",
            "zerolinecolor": "white"
           },
           "yaxis": {
            "backgroundcolor": "#E5ECF6",
            "gridcolor": "white",
            "gridwidth": 2,
            "linecolor": "white",
            "showbackground": true,
            "ticks": "",
            "zerolinecolor": "white"
           },
           "zaxis": {
            "backgroundcolor": "#E5ECF6",
            "gridcolor": "white",
            "gridwidth": 2,
            "linecolor": "white",
            "showbackground": true,
            "ticks": "",
            "zerolinecolor": "white"
           }
          },
          "shapedefaults": {
           "line": {
            "color": "#2a3f5f"
           }
          },
          "ternary": {
           "aaxis": {
            "gridcolor": "white",
            "linecolor": "white",
            "ticks": ""
           },
           "baxis": {
            "gridcolor": "white",
            "linecolor": "white",
            "ticks": ""
           },
           "bgcolor": "#E5ECF6",
           "caxis": {
            "gridcolor": "white",
            "linecolor": "white",
            "ticks": ""
           }
          },
          "title": {
           "x": 0.05
          },
          "xaxis": {
           "automargin": true,
           "gridcolor": "white",
           "linecolor": "white",
           "ticks": "",
           "title": {
            "standoff": 15
           },
           "zerolinecolor": "white",
           "zerolinewidth": 2
          },
          "yaxis": {
           "automargin": true,
           "gridcolor": "white",
           "linecolor": "white",
           "ticks": "",
           "title": {
            "standoff": 15
           },
           "zerolinecolor": "white",
           "zerolinewidth": 2
          }
         }
        }
       }
      }
     },
     "metadata": {}
    }
   ],
   "metadata": {}
  },
  {
   "cell_type": "code",
   "execution_count": 206,
   "source": [
    "def get_linear_orderflow(symbol, start):\n",
    "    startTime = get_timestamp(start)\n",
    "    # endTime = get_timestamp(end)\n",
    "    endTime = startTime + 3600000*11\n",
    "    orders = []\n",
    "    while startTime<endTime:\n",
    "        orders.extend(client.get_aggregate_trades(symbol = symbol, startTime = startTime, endTime = startTime+3600000 - 1))\n",
    "        startTime +=3600000\n",
    "    return orders\n",
    "\n",
    "    \n",
    "orderflow = get_linear_orderflow(symbol=\"BTCUSDT\", start= '10/25/2017 00:00')\n",
    "\n",
    "trades = np.array([[float(i[\"T\"]), float(i[\"p\"]), float(i[\"q\"])] for i in orderflow])\n",
    "\n",
    "bars_arr = generate_volumebars(trades)\n",
    "\n",
    "bars = gen_bars(bars_arr)\n",
    "\n",
    "with open('linear.json', 'w') as f:\n",
    "    json.dump(orderflow, f, indent=4)\n",
    "\n",
    "fig = go.Figure(data=[go.Candlestick(x=bars.index, open=bars['Open'], high=bars['High'], low=bars['Low'], close=bars['Close'])])\n",
    "\n",
    "fig.show()"
   ],
   "outputs": [
    {
     "output_type": "display_data",
     "data": {
      "application/vnd.plotly.v1+json": {
       "config": {
        "plotlyServerURL": "https://plot.ly"
       },
       "data": [
        {
         "close": [
          5500,
          5501.01,
          5474.96,
          5478.02,
          5478.01,
          5479.96,
          5496.4,
          5478.03,
          5477.88,
          5466.17,
          5464.89,
          5450.03,
          5449.83,
          5429.97,
          5435.98,
          5427.73,
          5435.98,
          5435.22,
          5435.46,
          5422.33,
          5420.32,
          5419.01,
          5455.45,
          5433.01,
          5465.04,
          5471.01,
          5450.01,
          5469.98,
          5460.02,
          5460.05,
          5506.98,
          5490.48,
          5491.17,
          5510.02,
          5531.82,
          5541.51,
          5532.02,
          5549.99,
          5550.55,
          5565,
          5634.01,
          5615,
          5634.99,
          5610.99,
          5609.99,
          5594,
          5591.04,
          5575,
          5585.97,
          5585,
          5585,
          5592.97,
          5591.02,
          5598,
          5593.08,
          5595.99,
          5595.84,
          5580,
          5563.12,
          5500.02,
          5500,
          5500.09,
          5500.07,
          5500.05,
          5501.11,
          5485.01,
          5510.01,
          5500.02,
          5500.01,
          5493.13,
          5499.95,
          5440.06,
          5440.07,
          5444,
          5444,
          5440.07,
          5479.97,
          5447.97,
          5405,
          5418.97,
          5418.91,
          5429.98,
          5415.01,
          5415.52,
          5415.51,
          5414.59,
          5434.03,
          5459.98,
          5456.1,
          5456.16,
          5459.98,
          5498,
          5479.03,
          5456.21,
          5457.02,
          5465.06,
          5467.06,
          5490.88,
          5480.08,
          5470,
          5477.69
         ],
         "high": [
          5526.99,
          5524.99,
          5511.97,
          5499.98,
          5512.49,
          5494.99,
          5512.95,
          5496.4,
          5509.96,
          5477.89,
          5466,
          5464.89,
          5464.79,
          5449.9,
          5439.98,
          5435.98,
          5435.98,
          5494.99,
          5450.07,
          5436,
          5436,
          5455.46,
          5455.45,
          5433.09,
          5465.04,
          5478.99,
          5478.98,
          5469.98,
          5489.99,
          5489.99,
          5506.98,
          5519.5,
          5519,
          5525,
          5540,
          5550,
          5550,
          5549.99,
          5559.98,
          5565,
          5634.01,
          5638.16,
          5650,
          5628.99,
          5619.99,
          5610,
          5609.89,
          5593.08,
          5590.98,
          5585.99,
          5585,
          5593,
          5593,
          5598,
          5598,
          5596.98,
          5595.99,
          5595.85,
          5590,
          5565.03,
          5500.01,
          5559.74,
          5500.14,
          5520,
          5501.2,
          5501.02,
          5518,
          5518,
          5517.99,
          5500.02,
          5517.98,
          5499.96,
          5444,
          5444,
          5444,
          5444,
          5479.99,
          5489.98,
          5450.99,
          5418.99,
          5418.97,
          5444.98,
          5429,
          5439.99,
          5415.56,
          5418.98,
          5449.98,
          5479.97,
          5499,
          5500.01,
          5499.85,
          5499,
          5500,
          5499.01,
          5479.99,
          5499.99,
          5500,
          5490.9,
          5490.88,
          5480.08,
          5478.94
         ],
         "low": [
          5500,
          5499.98,
          5445.02,
          5445.6,
          5478,
          5478.01,
          5479.95,
          5478.01,
          5474.94,
          5450,
          5450,
          5445.07,
          5436.01,
          5428.74,
          5429.97,
          5427.72,
          5427.73,
          5431.17,
          5435.22,
          5420.25,
          5420.25,
          5418.98,
          5419,
          5433.01,
          5430.01,
          5465.04,
          5435.03,
          5450.01,
          5460.01,
          5460.01,
          5460.04,
          5475.55,
          5490.48,
          5491.25,
          5510.02,
          5531.81,
          5532.01,
          5532.01,
          5550,
          5549.98,
          5549.98,
          5590.03,
          5590.4,
          5591.01,
          5594.13,
          5594,
          5591.03,
          5575,
          5559.69,
          5560.05,
          5562.18,
          5580.03,
          5586.01,
          5591.01,
          5593.01,
          5591.01,
          5595.84,
          5580,
          5562.29,
          5500.02,
          5500,
          5482,
          5500.06,
          5500.03,
          5500.04,
          5482.01,
          5482,
          5500,
          5500,
          5491.02,
          5480,
          5440.06,
          5440.06,
          5440.06,
          5440.07,
          5440.07,
          5440.07,
          5440.21,
          5403.01,
          5375,
          5418.87,
          5401.03,
          5401.07,
          5415.01,
          5415.51,
          5414.59,
          5400.05,
          5434.01,
          5434.19,
          5456.09,
          5456.15,
          5456.41,
          5479.02,
          5456.16,
          5456.2,
          5457.02,
          5465.01,
          5466,
          5480.07,
          5466,
          5469.99
         ],
         "open": [
          5515.93,
          5500,
          5511.97,
          5474.97,
          5494.99,
          5478.02,
          5479.96,
          5496.39,
          5496.4,
          5450,
          5466,
          5464.89,
          5450.02,
          5449.85,
          5429.98,
          5427.73,
          5435.98,
          5435.98,
          5435.22,
          5435.46,
          5422.34,
          5420.31,
          5419,
          5433.02,
          5433.04,
          5465.04,
          5478.97,
          5469.95,
          5469.98,
          5460.02,
          5489.99,
          5506.97,
          5490.48,
          5518,
          5510.02,
          5531.82,
          5541.52,
          5532.02,
          5550,
          5550.5,
          5560.02,
          5635.12,
          5630,
          5628.98,
          5610.99,
          5610,
          5609.89,
          5591.03,
          5575,
          5585.97,
          5562.18,
          5585,
          5592.97,
          5591.01,
          5593.04,
          5593.06,
          5595.99,
          5595.85,
          5585.01,
          5563.13,
          5500.01,
          5500,
          5500.09,
          5500.06,
          5500.05,
          5501.02,
          5485.02,
          5508.98,
          5500.02,
          5500.01,
          5517.97,
          5480,
          5443.99,
          5440.07,
          5444,
          5444,
          5444,
          5479.98,
          5450.97,
          5403.01,
          5418.97,
          5418.9,
          5429,
          5415.01,
          5415.52,
          5415.52,
          5418.41,
          5450.94,
          5459.99,
          5456.1,
          5456.15,
          5459.98,
          5499,
          5479.02,
          5456.21,
          5457.02,
          5480.26,
          5467.06,
          5490.87,
          5480.08,
          5470.02
         ],
         "type": "candlestick",
         "x": [
          "2017-10-25T04:06:19.709000",
          "2017-10-25T04:13:22.230000",
          "2017-10-25T04:22:54.294000",
          "2017-10-25T04:28:30.221000",
          "2017-10-25T04:34:23.333000",
          "2017-10-25T04:43:22.076000",
          "2017-10-25T04:52:13.600000",
          "2017-10-25T04:55:27.979000",
          "2017-10-25T05:02:57.784000",
          "2017-10-25T05:07:04.103000",
          "2017-10-25T05:12:06.116000",
          "2017-10-25T05:15:24.039000",
          "2017-10-25T05:26:03.056000",
          "2017-10-25T05:31:24.358000",
          "2017-10-25T05:34:35.232000",
          "2017-10-25T05:36:48.558000",
          "2017-10-25T05:39:14.619000",
          "2017-10-25T05:51:14.871000",
          "2017-10-25T05:58:13.265000",
          "2017-10-25T06:09:07.624000",
          "2017-10-25T06:15:43.907000",
          "2017-10-25T06:22:13.341000",
          "2017-10-25T06:29:32.298000",
          "2017-10-25T06:31:24.419000",
          "2017-10-25T06:37:35.275000",
          "2017-10-25T06:42:07.305000",
          "2017-10-25T06:53:16.004000",
          "2017-10-25T07:00:28.814000",
          "2017-10-25T07:04:34.903000",
          "2017-10-25T07:18:33.962000",
          "2017-10-25T07:24:53.664000",
          "2017-10-25T07:32:40.559000",
          "2017-10-25T07:37:33.457000",
          "2017-10-25T07:41:01.359000",
          "2017-10-25T07:46:22.014000",
          "2017-10-25T07:53:03.377000",
          "2017-10-25T08:00:18.730000",
          "2017-10-25T08:07:48.697000",
          "2017-10-25T08:16:39.004000",
          "2017-10-25T08:21:42.238000",
          "2017-10-25T08:27:24.029000",
          "2017-10-25T08:29:58.869000",
          "2017-10-25T08:31:45.154000",
          "2017-10-25T08:37:44.115000",
          "2017-10-25T08:46:23.224000",
          "2017-10-25T08:54:24.524000",
          "2017-10-25T09:03:23.457000",
          "2017-10-25T09:06:59.460000",
          "2017-10-25T09:17:36.447000",
          "2017-10-25T09:26:13.440000",
          "2017-10-25T09:38:26.884000",
          "2017-10-25T09:46:43.840000",
          "2017-10-25T09:52:33.355000",
          "2017-10-25T09:56:16",
          "2017-10-25T10:05:15.754000",
          "2017-10-25T10:11:23.143000",
          "2017-10-25T10:16:44.653000",
          "2017-10-25T10:19:45.909000",
          "2017-10-25T10:25:24.332000",
          "2017-10-25T10:28:55.705000",
          "2017-10-25T10:29:01.012000",
          "2017-10-25T10:31:34.520000",
          "2017-10-25T10:34:42.471000",
          "2017-10-25T10:38:23.988000",
          "2017-10-25T10:42:20.384000",
          "2017-10-25T10:47:47.443000",
          "2017-10-25T10:57:14.583000",
          "2017-10-25T10:59:07.546000",
          "2017-10-25T11:02:45.270000",
          "2017-10-25T11:07:06.600000",
          "2017-10-25T11:16:04.092000",
          "2017-10-25T11:25:07.608000",
          "2017-10-25T11:36:13.170000",
          "2017-10-25T11:42:24.348000",
          "2017-10-25T11:46:07.047000",
          "2017-10-25T11:48:30.513000",
          "2017-10-25T11:52:21.090000",
          "2017-10-25T12:06:24.873000",
          "2017-10-25T12:13:53.653000",
          "2017-10-25T12:18:14.136000",
          "2017-10-25T12:23:38.268000",
          "2017-10-25T12:30:57.900000",
          "2017-10-25T12:34:04.847000",
          "2017-10-25T12:39:25.381000",
          "2017-10-25T12:47:14.365000",
          "2017-10-25T12:49:10.013000",
          "2017-10-25T12:57:54.935000",
          "2017-10-25T13:06:23.845000",
          "2017-10-25T13:15:54.881000",
          "2017-10-25T13:21:39.970000",
          "2017-10-25T13:29:24.961000",
          "2017-10-25T13:43:46.164000",
          "2017-10-25T13:52:04.528000",
          "2017-10-25T13:57:09.083000",
          "2017-10-25T14:03:53.635000",
          "2017-10-25T14:10:23.938000",
          "2017-10-25T14:35:25.494000",
          "2017-10-25T14:44:48.839000",
          "2017-10-25T14:49:25.396000",
          "2017-10-25T14:53:54.670000",
          "2017-10-25T14:56:46.826000"
         ]
        }
       ],
       "layout": {
        "template": {
         "data": {
          "bar": [
           {
            "error_x": {
             "color": "#2a3f5f"
            },
            "error_y": {
             "color": "#2a3f5f"
            },
            "marker": {
             "line": {
              "color": "#E5ECF6",
              "width": 0.5
             },
             "pattern": {
              "fillmode": "overlay",
              "size": 10,
              "solidity": 0.2
             }
            },
            "type": "bar"
           }
          ],
          "barpolar": [
           {
            "marker": {
             "line": {
              "color": "#E5ECF6",
              "width": 0.5
             },
             "pattern": {
              "fillmode": "overlay",
              "size": 10,
              "solidity": 0.2
             }
            },
            "type": "barpolar"
           }
          ],
          "carpet": [
           {
            "aaxis": {
             "endlinecolor": "#2a3f5f",
             "gridcolor": "white",
             "linecolor": "white",
             "minorgridcolor": "white",
             "startlinecolor": "#2a3f5f"
            },
            "baxis": {
             "endlinecolor": "#2a3f5f",
             "gridcolor": "white",
             "linecolor": "white",
             "minorgridcolor": "white",
             "startlinecolor": "#2a3f5f"
            },
            "type": "carpet"
           }
          ],
          "choropleth": [
           {
            "colorbar": {
             "outlinewidth": 0,
             "ticks": ""
            },
            "type": "choropleth"
           }
          ],
          "contour": [
           {
            "colorbar": {
             "outlinewidth": 0,
             "ticks": ""
            },
            "colorscale": [
             [
              0,
              "#0d0887"
             ],
             [
              0.1111111111111111,
              "#46039f"
             ],
             [
              0.2222222222222222,
              "#7201a8"
             ],
             [
              0.3333333333333333,
              "#9c179e"
             ],
             [
              0.4444444444444444,
              "#bd3786"
             ],
             [
              0.5555555555555556,
              "#d8576b"
             ],
             [
              0.6666666666666666,
              "#ed7953"
             ],
             [
              0.7777777777777778,
              "#fb9f3a"
             ],
             [
              0.8888888888888888,
              "#fdca26"
             ],
             [
              1,
              "#f0f921"
             ]
            ],
            "type": "contour"
           }
          ],
          "contourcarpet": [
           {
            "colorbar": {
             "outlinewidth": 0,
             "ticks": ""
            },
            "type": "contourcarpet"
           }
          ],
          "heatmap": [
           {
            "colorbar": {
             "outlinewidth": 0,
             "ticks": ""
            },
            "colorscale": [
             [
              0,
              "#0d0887"
             ],
             [
              0.1111111111111111,
              "#46039f"
             ],
             [
              0.2222222222222222,
              "#7201a8"
             ],
             [
              0.3333333333333333,
              "#9c179e"
             ],
             [
              0.4444444444444444,
              "#bd3786"
             ],
             [
              0.5555555555555556,
              "#d8576b"
             ],
             [
              0.6666666666666666,
              "#ed7953"
             ],
             [
              0.7777777777777778,
              "#fb9f3a"
             ],
             [
              0.8888888888888888,
              "#fdca26"
             ],
             [
              1,
              "#f0f921"
             ]
            ],
            "type": "heatmap"
           }
          ],
          "heatmapgl": [
           {
            "colorbar": {
             "outlinewidth": 0,
             "ticks": ""
            },
            "colorscale": [
             [
              0,
              "#0d0887"
             ],
             [
              0.1111111111111111,
              "#46039f"
             ],
             [
              0.2222222222222222,
              "#7201a8"
             ],
             [
              0.3333333333333333,
              "#9c179e"
             ],
             [
              0.4444444444444444,
              "#bd3786"
             ],
             [
              0.5555555555555556,
              "#d8576b"
             ],
             [
              0.6666666666666666,
              "#ed7953"
             ],
             [
              0.7777777777777778,
              "#fb9f3a"
             ],
             [
              0.8888888888888888,
              "#fdca26"
             ],
             [
              1,
              "#f0f921"
             ]
            ],
            "type": "heatmapgl"
           }
          ],
          "histogram": [
           {
            "marker": {
             "pattern": {
              "fillmode": "overlay",
              "size": 10,
              "solidity": 0.2
             }
            },
            "type": "histogram"
           }
          ],
          "histogram2d": [
           {
            "colorbar": {
             "outlinewidth": 0,
             "ticks": ""
            },
            "colorscale": [
             [
              0,
              "#0d0887"
             ],
             [
              0.1111111111111111,
              "#46039f"
             ],
             [
              0.2222222222222222,
              "#7201a8"
             ],
             [
              0.3333333333333333,
              "#9c179e"
             ],
             [
              0.4444444444444444,
              "#bd3786"
             ],
             [
              0.5555555555555556,
              "#d8576b"
             ],
             [
              0.6666666666666666,
              "#ed7953"
             ],
             [
              0.7777777777777778,
              "#fb9f3a"
             ],
             [
              0.8888888888888888,
              "#fdca26"
             ],
             [
              1,
              "#f0f921"
             ]
            ],
            "type": "histogram2d"
           }
          ],
          "histogram2dcontour": [
           {
            "colorbar": {
             "outlinewidth": 0,
             "ticks": ""
            },
            "colorscale": [
             [
              0,
              "#0d0887"
             ],
             [
              0.1111111111111111,
              "#46039f"
             ],
             [
              0.2222222222222222,
              "#7201a8"
             ],
             [
              0.3333333333333333,
              "#9c179e"
             ],
             [
              0.4444444444444444,
              "#bd3786"
             ],
             [
              0.5555555555555556,
              "#d8576b"
             ],
             [
              0.6666666666666666,
              "#ed7953"
             ],
             [
              0.7777777777777778,
              "#fb9f3a"
             ],
             [
              0.8888888888888888,
              "#fdca26"
             ],
             [
              1,
              "#f0f921"
             ]
            ],
            "type": "histogram2dcontour"
           }
          ],
          "mesh3d": [
           {
            "colorbar": {
             "outlinewidth": 0,
             "ticks": ""
            },
            "type": "mesh3d"
           }
          ],
          "parcoords": [
           {
            "line": {
             "colorbar": {
              "outlinewidth": 0,
              "ticks": ""
             }
            },
            "type": "parcoords"
           }
          ],
          "pie": [
           {
            "automargin": true,
            "type": "pie"
           }
          ],
          "scatter": [
           {
            "marker": {
             "colorbar": {
              "outlinewidth": 0,
              "ticks": ""
             }
            },
            "type": "scatter"
           }
          ],
          "scatter3d": [
           {
            "line": {
             "colorbar": {
              "outlinewidth": 0,
              "ticks": ""
             }
            },
            "marker": {
             "colorbar": {
              "outlinewidth": 0,
              "ticks": ""
             }
            },
            "type": "scatter3d"
           }
          ],
          "scattercarpet": [
           {
            "marker": {
             "colorbar": {
              "outlinewidth": 0,
              "ticks": ""
             }
            },
            "type": "scattercarpet"
           }
          ],
          "scattergeo": [
           {
            "marker": {
             "colorbar": {
              "outlinewidth": 0,
              "ticks": ""
             }
            },
            "type": "scattergeo"
           }
          ],
          "scattergl": [
           {
            "marker": {
             "colorbar": {
              "outlinewidth": 0,
              "ticks": ""
             }
            },
            "type": "scattergl"
           }
          ],
          "scattermapbox": [
           {
            "marker": {
             "colorbar": {
              "outlinewidth": 0,
              "ticks": ""
             }
            },
            "type": "scattermapbox"
           }
          ],
          "scatterpolar": [
           {
            "marker": {
             "colorbar": {
              "outlinewidth": 0,
              "ticks": ""
             }
            },
            "type": "scatterpolar"
           }
          ],
          "scatterpolargl": [
           {
            "marker": {
             "colorbar": {
              "outlinewidth": 0,
              "ticks": ""
             }
            },
            "type": "scatterpolargl"
           }
          ],
          "scatterternary": [
           {
            "marker": {
             "colorbar": {
              "outlinewidth": 0,
              "ticks": ""
             }
            },
            "type": "scatterternary"
           }
          ],
          "surface": [
           {
            "colorbar": {
             "outlinewidth": 0,
             "ticks": ""
            },
            "colorscale": [
             [
              0,
              "#0d0887"
             ],
             [
              0.1111111111111111,
              "#46039f"
             ],
             [
              0.2222222222222222,
              "#7201a8"
             ],
             [
              0.3333333333333333,
              "#9c179e"
             ],
             [
              0.4444444444444444,
              "#bd3786"
             ],
             [
              0.5555555555555556,
              "#d8576b"
             ],
             [
              0.6666666666666666,
              "#ed7953"
             ],
             [
              0.7777777777777778,
              "#fb9f3a"
             ],
             [
              0.8888888888888888,
              "#fdca26"
             ],
             [
              1,
              "#f0f921"
             ]
            ],
            "type": "surface"
           }
          ],
          "table": [
           {
            "cells": {
             "fill": {
              "color": "#EBF0F8"
             },
             "line": {
              "color": "white"
             }
            },
            "header": {
             "fill": {
              "color": "#C8D4E3"
             },
             "line": {
              "color": "white"
             }
            },
            "type": "table"
           }
          ]
         },
         "layout": {
          "annotationdefaults": {
           "arrowcolor": "#2a3f5f",
           "arrowhead": 0,
           "arrowwidth": 1
          },
          "autotypenumbers": "strict",
          "coloraxis": {
           "colorbar": {
            "outlinewidth": 0,
            "ticks": ""
           }
          },
          "colorscale": {
           "diverging": [
            [
             0,
             "#8e0152"
            ],
            [
             0.1,
             "#c51b7d"
            ],
            [
             0.2,
             "#de77ae"
            ],
            [
             0.3,
             "#f1b6da"
            ],
            [
             0.4,
             "#fde0ef"
            ],
            [
             0.5,
             "#f7f7f7"
            ],
            [
             0.6,
             "#e6f5d0"
            ],
            [
             0.7,
             "#b8e186"
            ],
            [
             0.8,
             "#7fbc41"
            ],
            [
             0.9,
             "#4d9221"
            ],
            [
             1,
             "#276419"
            ]
           ],
           "sequential": [
            [
             0,
             "#0d0887"
            ],
            [
             0.1111111111111111,
             "#46039f"
            ],
            [
             0.2222222222222222,
             "#7201a8"
            ],
            [
             0.3333333333333333,
             "#9c179e"
            ],
            [
             0.4444444444444444,
             "#bd3786"
            ],
            [
             0.5555555555555556,
             "#d8576b"
            ],
            [
             0.6666666666666666,
             "#ed7953"
            ],
            [
             0.7777777777777778,
             "#fb9f3a"
            ],
            [
             0.8888888888888888,
             "#fdca26"
            ],
            [
             1,
             "#f0f921"
            ]
           ],
           "sequentialminus": [
            [
             0,
             "#0d0887"
            ],
            [
             0.1111111111111111,
             "#46039f"
            ],
            [
             0.2222222222222222,
             "#7201a8"
            ],
            [
             0.3333333333333333,
             "#9c179e"
            ],
            [
             0.4444444444444444,
             "#bd3786"
            ],
            [
             0.5555555555555556,
             "#d8576b"
            ],
            [
             0.6666666666666666,
             "#ed7953"
            ],
            [
             0.7777777777777778,
             "#fb9f3a"
            ],
            [
             0.8888888888888888,
             "#fdca26"
            ],
            [
             1,
             "#f0f921"
            ]
           ]
          },
          "colorway": [
           "#636efa",
           "#EF553B",
           "#00cc96",
           "#ab63fa",
           "#FFA15A",
           "#19d3f3",
           "#FF6692",
           "#B6E880",
           "#FF97FF",
           "#FECB52"
          ],
          "font": {
           "color": "#2a3f5f"
          },
          "geo": {
           "bgcolor": "white",
           "lakecolor": "white",
           "landcolor": "#E5ECF6",
           "showlakes": true,
           "showland": true,
           "subunitcolor": "white"
          },
          "hoverlabel": {
           "align": "left"
          },
          "hovermode": "closest",
          "mapbox": {
           "style": "light"
          },
          "paper_bgcolor": "white",
          "plot_bgcolor": "#E5ECF6",
          "polar": {
           "angularaxis": {
            "gridcolor": "white",
            "linecolor": "white",
            "ticks": ""
           },
           "bgcolor": "#E5ECF6",
           "radialaxis": {
            "gridcolor": "white",
            "linecolor": "white",
            "ticks": ""
           }
          },
          "scene": {
           "xaxis": {
            "backgroundcolor": "#E5ECF6",
            "gridcolor": "white",
            "gridwidth": 2,
            "linecolor": "white",
            "showbackground": true,
            "ticks": "",
            "zerolinecolor": "white"
           },
           "yaxis": {
            "backgroundcolor": "#E5ECF6",
            "gridcolor": "white",
            "gridwidth": 2,
            "linecolor": "white",
            "showbackground": true,
            "ticks": "",
            "zerolinecolor": "white"
           },
           "zaxis": {
            "backgroundcolor": "#E5ECF6",
            "gridcolor": "white",
            "gridwidth": 2,
            "linecolor": "white",
            "showbackground": true,
            "ticks": "",
            "zerolinecolor": "white"
           }
          },
          "shapedefaults": {
           "line": {
            "color": "#2a3f5f"
           }
          },
          "ternary": {
           "aaxis": {
            "gridcolor": "white",
            "linecolor": "white",
            "ticks": ""
           },
           "baxis": {
            "gridcolor": "white",
            "linecolor": "white",
            "ticks": ""
           },
           "bgcolor": "#E5ECF6",
           "caxis": {
            "gridcolor": "white",
            "linecolor": "white",
            "ticks": ""
           }
          },
          "title": {
           "x": 0.05
          },
          "xaxis": {
           "automargin": true,
           "gridcolor": "white",
           "linecolor": "white",
           "ticks": "",
           "title": {
            "standoff": 15
           },
           "zerolinecolor": "white",
           "zerolinewidth": 2
          },
          "yaxis": {
           "automargin": true,
           "gridcolor": "white",
           "linecolor": "white",
           "ticks": "",
           "title": {
            "standoff": 15
           },
           "zerolinecolor": "white",
           "zerolinewidth": 2
          }
         }
        }
       }
      }
     },
     "metadata": {}
    }
   ],
   "metadata": {}
  },
  {
   "cell_type": "code",
   "execution_count": 204,
   "source": [],
   "outputs": [],
   "metadata": {}
  },
  {
   "cell_type": "code",
   "execution_count": null,
   "source": [],
   "outputs": [],
   "metadata": {}
  }
 ],
 "metadata": {
  "orig_nbformat": 4,
  "language_info": {
   "name": "python",
   "version": "3.7.10",
   "mimetype": "text/x-python",
   "codemirror_mode": {
    "name": "ipython",
    "version": 3
   },
   "pygments_lexer": "ipython3",
   "nbconvert_exporter": "python",
   "file_extension": ".py"
  },
  "kernelspec": {
   "name": "python3",
   "display_name": "Python 3.7.10 64-bit ('tda': conda)"
  },
  "interpreter": {
   "hash": "fe7e40918e936608d3d372707ad407c82a45124dfe21f6d77866cbb39f6abe77"
  }
 },
 "nbformat": 4,
 "nbformat_minor": 2
}