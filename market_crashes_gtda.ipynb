{
 "cells": [
  {
   "cell_type": "code",
   "execution_count": 1,
   "source": [
    "import yfinance as yf\n",
    "from tqdm import tqdm\n",
    "import numpy as np\n",
    "from numpy import linalg as LA\n",
    "import pandas as pd\n",
    "from datetime import datetime, timedelta, date\n",
    "\n",
    "\n",
    "from gtda.time_series import TakensEmbedding\n",
    "from gtda.time_series import SlidingWindow\n",
    "from gtda.time_series import SingleTakensEmbedding\n",
    "\n",
    "from gtda.time_series import PearsonDissimilarity\n",
    "from gtda.homology import VietorisRipsPersistence\n",
    "from gtda.diagrams import Amplitude\n",
    "from gtda.diagrams import PersistenceLandscape\n",
    "\n",
    "from gtda.plotting import plot_point_cloud\n",
    "\n",
    "\n",
    "from gtda.pipeline import make_pipeline\n",
    "\n",
    "\n",
    "from sklearn import set_config\n",
    "set_config(display='diagram')  # For HTML representations of pipelines\n",
    "\n",
    "from sklearn.cluster import KMeans\n",
    "\n",
    "\n",
    "import plotly.express as px\n",
    "import plotly.graph_objects as go\n",
    "from plotly.subplots import make_subplots\n",
    "\n",
    "#method get index of date in the datagrame\n",
    "def dates_to_index(dates, df):\n",
    "    dates = [dates] if isinstance(dates, str) else dates\n",
    "    return [len(df[:date])-1 for date in dates]"
   ],
   "outputs": [],
   "metadata": {}
  },
  {
   "cell_type": "code",
   "execution_count": 2,
   "source": [
    "#downloading data\n",
    "#gspc is spy, ixic is qqq, dji is dow, rut is russel\n",
    "data = yf.download(\"^GSPC ^DJI ^IXIC ^RUT\", start=\"1992-01-01\", end=\"2016-12-08\", interval = \"1d\", group_by = \"ticker\")\n",
    "data_df = np.log(data.xs(\"Adj Close\", level=1, axis=1).pct_change()+1)[1:]\n",
    "# price_data = data_df[[\"^GSPC\", \"^DJI\", \"^IXIC\", \"^RUT\"]]\n",
    "\n",
    "wins = [50, 100]\n"
   ],
   "outputs": [
    {
     "output_type": "stream",
     "name": "stdout",
     "text": [
      "[*********************100%***********************]  4 of 4 completed\n"
     ]
    }
   ],
   "metadata": {}
  },
  {
   "cell_type": "code",
   "execution_count": 3,
   "source": [
    "\n",
    "\n",
    "# index of the following dates in the data_df \n",
    "dates = dates_to_index([\"2000-5-08\", \"2000-5-09\", \"2000-5-31\"], data_df)\n",
    "\n",
    "layout = dict(\n",
    "    width = 500,\n",
    "    height = 250\n",
    ")\n",
    "plotly_params = {\n",
    "    \"layout\": layout\n",
    "}\n",
    "\n",
    "for date in dates:\n",
    "    plot_point_cloud(data_df[[\"^GSPC\", \"^IXIC\"]][date-50:date].to_numpy(), plotly_params = plotly_params).show()\n"
   ],
   "outputs": [
    {
     "output_type": "display_data",
     "data": {
      "application/vnd.plotly.v1+json": {
       "config": {
        "plotlyServerURL": "https://plot.ly"
       },
       "data": [
        {
         "marker": {
          "color": [
           0,
           1,
           2,
           3,
           4,
           5,
           6,
           7,
           8,
           9,
           10,
           11,
           12,
           13,
           14,
           15,
           16,
           17,
           18,
           19,
           20,
           21,
           22,
           23,
           24,
           25,
           26,
           27,
           28,
           29,
           30,
           31,
           32,
           33,
           34,
           35,
           36,
           37,
           38,
           39,
           40,
           41,
           42,
           43,
           44,
           45,
           46,
           47,
           48,
           49
          ],
          "colorscale": [
           [
            0,
            "#440154"
           ],
           [
            0.1111111111111111,
            "#482878"
           ],
           [
            0.2222222222222222,
            "#3e4989"
           ],
           [
            0.3333333333333333,
            "#31688e"
           ],
           [
            0.4444444444444444,
            "#26828e"
           ],
           [
            0.5555555555555556,
            "#1f9e89"
           ],
           [
            0.6666666666666666,
            "#35b779"
           ],
           [
            0.7777777777777778,
            "#6ece58"
           ],
           [
            0.8888888888888888,
            "#b5de2b"
           ],
           [
            1,
            "#fde725"
           ]
          ],
          "opacity": 0.8,
          "size": 4
         },
         "mode": "markers",
         "type": "scatter",
         "x": [
          -0.014940089385435541,
          0.010957078745980514,
          0.013535073096645703,
          0.009302114728482016,
          0.0018617281349938522,
          0.019642853797381482,
          -0.012776701994211102,
          -0.025965297120289534,
          0.008140128606934442,
          0.025279570403423504,
          -0.004734054939684533,
          -0.008241305233129576,
          -0.017843727175416074,
          0.023982619773033384,
          0.04654577885905088,
          0.004105461314759303,
          -0.005367830413634725,
          0.025244513080495853,
          0.004521628609461416,
          0.017642498044501166,
          0.00007200798340682352,
          -0.002359619652895298,
          -0.010641384406600805,
          0.0005238551715322017,
          -0.013749849620433678,
          0.007138762685515928,
          0.004919225661762653,
          -0.0074916139480272976,
          -0.004936119081060472,
          0.009348563512982749,
          0.009948095294857916,
          -0.007872111321383407,
          -0.002575662535388924,
          -0.022522936175410978,
          -0.018338180821660742,
          -0.060045097522022965,
          0.03254811081334026,
          0.028260296800704302,
          -0.00985690838193474,
          0.004940641519006726,
          -0.0032677404242178448,
          0.0327342935409904,
          -0.011196539243597151,
          0.0026863820339736388,
          -0.008562610676304283,
          0.010833162628904172,
          -0.015069531532927793,
          -0.02180150116391077,
          -0.0039155274882096275,
          0.016227264098328115
         ],
         "y": [
          -0.005896945924527321,
          -0.002759473675438853,
          0.025628515890873754,
          0.018435762429690136,
          -0.006200163276308955,
          0.03315544231593397,
          -0.0020245028662665317,
          -0.011691318728888601,
          0.010142604492005528,
          0.030090423449262625,
          0.0003487211955238174,
          -0.02840324843441064,
          -0.0417395852936131,
          -0.026701215559580903,
          0.028984796995092793,
          0.016970524714138843,
          -0.03999837724107467,
          0.0218167126274048,
          0.03197075722016617,
          0.015473450829388238,
          0.0045276203436989395,
          -0.0009010102080968014,
          -0.025463832997359645,
          -0.039931246035543426,
          -0.04104471820206457,
          0.025456695762186576,
          -0.07942545877185357,
          -0.017865966036752397,
          0.004888157946086338,
          0.023313229585792836,
          0.04106381984893341,
          -0.0598349749266351,
          -0.032098506918888374,
          -0.07319576475480725,
          -0.02493944520724865,
          -0.10168410367409852,
          0.06353611258018617,
          0.06941816024281028,
          -0.023243816822512905,
          -0.017014713589183397,
          -0.04530433780398313,
          0.06361867475251322,
          -0.022105887229165625,
          0.03888593823358578,
          0.022694726747705698,
          0.024920948391790605,
          -0.044594321662323945,
          -0.020858195229954163,
          0.0034816176576779366,
          0.02562945339966817
         ]
        }
       ],
       "layout": {
        "height": 250,
        "plot_bgcolor": "white",
        "template": {
         "data": {
          "bar": [
           {
            "error_x": {
             "color": "#2a3f5f"
            },
            "error_y": {
             "color": "#2a3f5f"
            },
            "marker": {
             "line": {
              "color": "#E5ECF6",
              "width": 0.5
             },
             "pattern": {
              "fillmode": "overlay",
              "size": 10,
              "solidity": 0.2
             }
            },
            "type": "bar"
           }
          ],
          "barpolar": [
           {
            "marker": {
             "line": {
              "color": "#E5ECF6",
              "width": 0.5
             },
             "pattern": {
              "fillmode": "overlay",
              "size": 10,
              "solidity": 0.2
             }
            },
            "type": "barpolar"
           }
          ],
          "carpet": [
           {
            "aaxis": {
             "endlinecolor": "#2a3f5f",
             "gridcolor": "white",
             "linecolor": "white",
             "minorgridcolor": "white",
             "startlinecolor": "#2a3f5f"
            },
            "baxis": {
             "endlinecolor": "#2a3f5f",
             "gridcolor": "white",
             "linecolor": "white",
             "minorgridcolor": "white",
             "startlinecolor": "#2a3f5f"
            },
            "type": "carpet"
           }
          ],
          "choropleth": [
           {
            "colorbar": {
             "outlinewidth": 0,
             "ticks": ""
            },
            "type": "choropleth"
           }
          ],
          "contour": [
           {
            "colorbar": {
             "outlinewidth": 0,
             "ticks": ""
            },
            "colorscale": [
             [
              0,
              "#0d0887"
             ],
             [
              0.1111111111111111,
              "#46039f"
             ],
             [
              0.2222222222222222,
              "#7201a8"
             ],
             [
              0.3333333333333333,
              "#9c179e"
             ],
             [
              0.4444444444444444,
              "#bd3786"
             ],
             [
              0.5555555555555556,
              "#d8576b"
             ],
             [
              0.6666666666666666,
              "#ed7953"
             ],
             [
              0.7777777777777778,
              "#fb9f3a"
             ],
             [
              0.8888888888888888,
              "#fdca26"
             ],
             [
              1,
              "#f0f921"
             ]
            ],
            "type": "contour"
           }
          ],
          "contourcarpet": [
           {
            "colorbar": {
             "outlinewidth": 0,
             "ticks": ""
            },
            "type": "contourcarpet"
           }
          ],
          "heatmap": [
           {
            "colorbar": {
             "outlinewidth": 0,
             "ticks": ""
            },
            "colorscale": [
             [
              0,
              "#0d0887"
             ],
             [
              0.1111111111111111,
              "#46039f"
             ],
             [
              0.2222222222222222,
              "#7201a8"
             ],
             [
              0.3333333333333333,
              "#9c179e"
             ],
             [
              0.4444444444444444,
              "#bd3786"
             ],
             [
              0.5555555555555556,
              "#d8576b"
             ],
             [
              0.6666666666666666,
              "#ed7953"
             ],
             [
              0.7777777777777778,
              "#fb9f3a"
             ],
             [
              0.8888888888888888,
              "#fdca26"
             ],
             [
              1,
              "#f0f921"
             ]
            ],
            "type": "heatmap"
           }
          ],
          "heatmapgl": [
           {
            "colorbar": {
             "outlinewidth": 0,
             "ticks": ""
            },
            "colorscale": [
             [
              0,
              "#0d0887"
             ],
             [
              0.1111111111111111,
              "#46039f"
             ],
             [
              0.2222222222222222,
              "#7201a8"
             ],
             [
              0.3333333333333333,
              "#9c179e"
             ],
             [
              0.4444444444444444,
              "#bd3786"
             ],
             [
              0.5555555555555556,
              "#d8576b"
             ],
             [
              0.6666666666666666,
              "#ed7953"
             ],
             [
              0.7777777777777778,
              "#fb9f3a"
             ],
             [
              0.8888888888888888,
              "#fdca26"
             ],
             [
              1,
              "#f0f921"
             ]
            ],
            "type": "heatmapgl"
           }
          ],
          "histogram": [
           {
            "marker": {
             "pattern": {
              "fillmode": "overlay",
              "size": 10,
              "solidity": 0.2
             }
            },
            "type": "histogram"
           }
          ],
          "histogram2d": [
           {
            "colorbar": {
             "outlinewidth": 0,
             "ticks": ""
            },
            "colorscale": [
             [
              0,
              "#0d0887"
             ],
             [
              0.1111111111111111,
              "#46039f"
             ],
             [
              0.2222222222222222,
              "#7201a8"
             ],
             [
              0.3333333333333333,
              "#9c179e"
             ],
             [
              0.4444444444444444,
              "#bd3786"
             ],
             [
              0.5555555555555556,
              "#d8576b"
             ],
             [
              0.6666666666666666,
              "#ed7953"
             ],
             [
              0.7777777777777778,
              "#fb9f3a"
             ],
             [
              0.8888888888888888,
              "#fdca26"
             ],
             [
              1,
              "#f0f921"
             ]
            ],
            "type": "histogram2d"
           }
          ],
          "histogram2dcontour": [
           {
            "colorbar": {
             "outlinewidth": 0,
             "ticks": ""
            },
            "colorscale": [
             [
              0,
              "#0d0887"
             ],
             [
              0.1111111111111111,
              "#46039f"
             ],
             [
              0.2222222222222222,
              "#7201a8"
             ],
             [
              0.3333333333333333,
              "#9c179e"
             ],
             [
              0.4444444444444444,
              "#bd3786"
             ],
             [
              0.5555555555555556,
              "#d8576b"
             ],
             [
              0.6666666666666666,
              "#ed7953"
             ],
             [
              0.7777777777777778,
              "#fb9f3a"
             ],
             [
              0.8888888888888888,
              "#fdca26"
             ],
             [
              1,
              "#f0f921"
             ]
            ],
            "type": "histogram2dcontour"
           }
          ],
          "mesh3d": [
           {
            "colorbar": {
             "outlinewidth": 0,
             "ticks": ""
            },
            "type": "mesh3d"
           }
          ],
          "parcoords": [
           {
            "line": {
             "colorbar": {
              "outlinewidth": 0,
              "ticks": ""
             }
            },
            "type": "parcoords"
           }
          ],
          "pie": [
           {
            "automargin": true,
            "type": "pie"
           }
          ],
          "scatter": [
           {
            "marker": {
             "colorbar": {
              "outlinewidth": 0,
              "ticks": ""
             }
            },
            "type": "scatter"
           }
          ],
          "scatter3d": [
           {
            "line": {
             "colorbar": {
              "outlinewidth": 0,
              "ticks": ""
             }
            },
            "marker": {
             "colorbar": {
              "outlinewidth": 0,
              "ticks": ""
             }
            },
            "type": "scatter3d"
           }
          ],
          "scattercarpet": [
           {
            "marker": {
             "colorbar": {
              "outlinewidth": 0,
              "ticks": ""
             }
            },
            "type": "scattercarpet"
           }
          ],
          "scattergeo": [
           {
            "marker": {
             "colorbar": {
              "outlinewidth": 0,
              "ticks": ""
             }
            },
            "type": "scattergeo"
           }
          ],
          "scattergl": [
           {
            "marker": {
             "colorbar": {
              "outlinewidth": 0,
              "ticks": ""
             }
            },
            "type": "scattergl"
           }
          ],
          "scattermapbox": [
           {
            "marker": {
             "colorbar": {
              "outlinewidth": 0,
              "ticks": ""
             }
            },
            "type": "scattermapbox"
           }
          ],
          "scatterpolar": [
           {
            "marker": {
             "colorbar": {
              "outlinewidth": 0,
              "ticks": ""
             }
            },
            "type": "scatterpolar"
           }
          ],
          "scatterpolargl": [
           {
            "marker": {
             "colorbar": {
              "outlinewidth": 0,
              "ticks": ""
             }
            },
            "type": "scatterpolargl"
           }
          ],
          "scatterternary": [
           {
            "marker": {
             "colorbar": {
              "outlinewidth": 0,
              "ticks": ""
             }
            },
            "type": "scatterternary"
           }
          ],
          "surface": [
           {
            "colorbar": {
             "outlinewidth": 0,
             "ticks": ""
            },
            "colorscale": [
             [
              0,
              "#0d0887"
             ],
             [
              0.1111111111111111,
              "#46039f"
             ],
             [
              0.2222222222222222,
              "#7201a8"
             ],
             [
              0.3333333333333333,
              "#9c179e"
             ],
             [
              0.4444444444444444,
              "#bd3786"
             ],
             [
              0.5555555555555556,
              "#d8576b"
             ],
             [
              0.6666666666666666,
              "#ed7953"
             ],
             [
              0.7777777777777778,
              "#fb9f3a"
             ],
             [
              0.8888888888888888,
              "#fdca26"
             ],
             [
              1,
              "#f0f921"
             ]
            ],
            "type": "surface"
           }
          ],
          "table": [
           {
            "cells": {
             "fill": {
              "color": "#EBF0F8"
             },
             "line": {
              "color": "white"
             }
            },
            "header": {
             "fill": {
              "color": "#C8D4E3"
             },
             "line": {
              "color": "white"
             }
            },
            "type": "table"
           }
          ]
         },
         "layout": {
          "annotationdefaults": {
           "arrowcolor": "#2a3f5f",
           "arrowhead": 0,
           "arrowwidth": 1
          },
          "autotypenumbers": "strict",
          "coloraxis": {
           "colorbar": {
            "outlinewidth": 0,
            "ticks": ""
           }
          },
          "colorscale": {
           "diverging": [
            [
             0,
             "#8e0152"
            ],
            [
             0.1,
             "#c51b7d"
            ],
            [
             0.2,
             "#de77ae"
            ],
            [
             0.3,
             "#f1b6da"
            ],
            [
             0.4,
             "#fde0ef"
            ],
            [
             0.5,
             "#f7f7f7"
            ],
            [
             0.6,
             "#e6f5d0"
            ],
            [
             0.7,
             "#b8e186"
            ],
            [
             0.8,
             "#7fbc41"
            ],
            [
             0.9,
             "#4d9221"
            ],
            [
             1,
             "#276419"
            ]
           ],
           "sequential": [
            [
             0,
             "#0d0887"
            ],
            [
             0.1111111111111111,
             "#46039f"
            ],
            [
             0.2222222222222222,
             "#7201a8"
            ],
            [
             0.3333333333333333,
             "#9c179e"
            ],
            [
             0.4444444444444444,
             "#bd3786"
            ],
            [
             0.5555555555555556,
             "#d8576b"
            ],
            [
             0.6666666666666666,
             "#ed7953"
            ],
            [
             0.7777777777777778,
             "#fb9f3a"
            ],
            [
             0.8888888888888888,
             "#fdca26"
            ],
            [
             1,
             "#f0f921"
            ]
           ],
           "sequentialminus": [
            [
             0,
             "#0d0887"
            ],
            [
             0.1111111111111111,
             "#46039f"
            ],
            [
             0.2222222222222222,
             "#7201a8"
            ],
            [
             0.3333333333333333,
             "#9c179e"
            ],
            [
             0.4444444444444444,
             "#bd3786"
            ],
            [
             0.5555555555555556,
             "#d8576b"
            ],
            [
             0.6666666666666666,
             "#ed7953"
            ],
            [
             0.7777777777777778,
             "#fb9f3a"
            ],
            [
             0.8888888888888888,
             "#fdca26"
            ],
            [
             1,
             "#f0f921"
            ]
           ]
          },
          "colorway": [
           "#636efa",
           "#EF553B",
           "#00cc96",
           "#ab63fa",
           "#FFA15A",
           "#19d3f3",
           "#FF6692",
           "#B6E880",
           "#FF97FF",
           "#FECB52"
          ],
          "font": {
           "color": "#2a3f5f"
          },
          "geo": {
           "bgcolor": "white",
           "lakecolor": "white",
           "landcolor": "#E5ECF6",
           "showlakes": true,
           "showland": true,
           "subunitcolor": "white"
          },
          "hoverlabel": {
           "align": "left"
          },
          "hovermode": "closest",
          "mapbox": {
           "style": "light"
          },
          "paper_bgcolor": "white",
          "plot_bgcolor": "#E5ECF6",
          "polar": {
           "angularaxis": {
            "gridcolor": "white",
            "linecolor": "white",
            "ticks": ""
           },
           "bgcolor": "#E5ECF6",
           "radialaxis": {
            "gridcolor": "white",
            "linecolor": "white",
            "ticks": ""
           }
          },
          "scene": {
           "xaxis": {
            "backgroundcolor": "#E5ECF6",
            "gridcolor": "white",
            "gridwidth": 2,
            "linecolor": "white",
            "showbackground": true,
            "ticks": "",
            "zerolinecolor": "white"
           },
           "yaxis": {
            "backgroundcolor": "#E5ECF6",
            "gridcolor": "white",
            "gridwidth": 2,
            "linecolor": "white",
            "showbackground": true,
            "ticks": "",
            "zerolinecolor": "white"
           },
           "zaxis": {
            "backgroundcolor": "#E5ECF6",
            "gridcolor": "white",
            "gridwidth": 2,
            "linecolor": "white",
            "showbackground": true,
            "ticks": "",
            "zerolinecolor": "white"
           }
          },
          "shapedefaults": {
           "line": {
            "color": "#2a3f5f"
           }
          },
          "ternary": {
           "aaxis": {
            "gridcolor": "white",
            "linecolor": "white",
            "ticks": ""
           },
           "baxis": {
            "gridcolor": "white",
            "linecolor": "white",
            "ticks": ""
           },
           "bgcolor": "#E5ECF6",
           "caxis": {
            "gridcolor": "white",
            "linecolor": "white",
            "ticks": ""
           }
          },
          "title": {
           "x": 0.05
          },
          "xaxis": {
           "automargin": true,
           "gridcolor": "white",
           "linecolor": "white",
           "ticks": "",
           "title": {
            "standoff": 15
           },
           "zerolinecolor": "white",
           "zerolinewidth": 2
          },
          "yaxis": {
           "automargin": true,
           "gridcolor": "white",
           "linecolor": "white",
           "ticks": "",
           "title": {
            "standoff": 15
           },
           "zerolinecolor": "white",
           "zerolinewidth": 2
          }
         }
        },
        "width": 500,
        "xaxis": {
         "anchor": "x",
         "exponentformat": "e",
         "linecolor": "black",
         "linewidth": 1,
         "mirror": false,
         "showexponent": "all",
         "showline": true,
         "side": "bottom",
         "ticks": "outside",
         "title": {
          "text": "0th"
         },
         "type": "linear",
         "zeroline": true
        },
        "yaxis": {
         "anchor": "y",
         "exponentformat": "e",
         "linecolor": "black",
         "linewidth": 1,
         "mirror": false,
         "showexponent": "all",
         "showline": true,
         "side": "left",
         "ticks": "outside",
         "title": {
          "text": "1st"
         },
         "type": "linear",
         "zeroline": true
        }
       }
      }
     },
     "metadata": {}
    },
    {
     "output_type": "display_data",
     "data": {
      "application/vnd.plotly.v1+json": {
       "config": {
        "plotlyServerURL": "https://plot.ly"
       },
       "data": [
        {
         "marker": {
          "color": [
           0,
           1,
           2,
           3,
           4,
           5,
           6,
           7,
           8,
           9,
           10,
           11,
           12,
           13,
           14,
           15,
           16,
           17,
           18,
           19,
           20,
           21,
           22,
           23,
           24,
           25,
           26,
           27,
           28,
           29,
           30,
           31,
           32,
           33,
           34,
           35,
           36,
           37,
           38,
           39,
           40,
           41,
           42,
           43,
           44,
           45,
           46,
           47,
           48,
           49
          ],
          "colorscale": [
           [
            0,
            "#440154"
           ],
           [
            0.1111111111111111,
            "#482878"
           ],
           [
            0.2222222222222222,
            "#3e4989"
           ],
           [
            0.3333333333333333,
            "#31688e"
           ],
           [
            0.4444444444444444,
            "#26828e"
           ],
           [
            0.5555555555555556,
            "#1f9e89"
           ],
           [
            0.6666666666666666,
            "#35b779"
           ],
           [
            0.7777777777777778,
            "#6ece58"
           ],
           [
            0.8888888888888888,
            "#b5de2b"
           ],
           [
            1,
            "#fde725"
           ]
          ],
          "opacity": 0.8,
          "size": 4
         },
         "mode": "markers",
         "type": "scatter",
         "x": [
          0.010957078745980514,
          0.013535073096645703,
          0.009302114728482016,
          0.0018617281349938522,
          0.019642853797381482,
          -0.012776701994211102,
          -0.025965297120289534,
          0.008140128606934442,
          0.025279570403423504,
          -0.004734054939684533,
          -0.008241305233129576,
          -0.017843727175416074,
          0.023982619773033384,
          0.04654577885905088,
          0.004105461314759303,
          -0.005367830413634725,
          0.025244513080495853,
          0.004521628609461416,
          0.017642498044501166,
          0.00007200798340682352,
          -0.002359619652895298,
          -0.010641384406600805,
          0.0005238551715322017,
          -0.013749849620433678,
          0.007138762685515928,
          0.004919225661762653,
          -0.0074916139480272976,
          -0.004936119081060472,
          0.009348563512982749,
          0.009948095294857916,
          -0.007872111321383407,
          -0.002575662535388924,
          -0.022522936175410978,
          -0.018338180821660742,
          -0.060045097522022965,
          0.03254811081334026,
          0.028260296800704302,
          -0.00985690838193474,
          0.004940641519006726,
          -0.0032677404242178448,
          0.0327342935409904,
          -0.011196539243597151,
          0.0026863820339736388,
          -0.008562610676304283,
          0.010833162628904172,
          -0.015069531532927793,
          -0.02180150116391077,
          -0.0039155274882096275,
          0.016227264098328115,
          -0.005922700590194449
         ],
         "y": [
          -0.002759473675438853,
          0.025628515890873754,
          0.018435762429690136,
          -0.006200163276308955,
          0.03315544231593397,
          -0.0020245028662665317,
          -0.011691318728888601,
          0.010142604492005528,
          0.030090423449262625,
          0.0003487211955238174,
          -0.02840324843441064,
          -0.0417395852936131,
          -0.026701215559580903,
          0.028984796995092793,
          0.016970524714138843,
          -0.03999837724107467,
          0.0218167126274048,
          0.03197075722016617,
          0.015473450829388238,
          0.0045276203436989395,
          -0.0009010102080968014,
          -0.025463832997359645,
          -0.039931246035543426,
          -0.04104471820206457,
          0.025456695762186576,
          -0.07942545877185357,
          -0.017865966036752397,
          0.004888157946086338,
          0.023313229585792836,
          0.04106381984893341,
          -0.0598349749266351,
          -0.032098506918888374,
          -0.07319576475480725,
          -0.02493944520724865,
          -0.10168410367409852,
          0.06353611258018617,
          0.06941816024281028,
          -0.023243816822512905,
          -0.017014713589183397,
          -0.04530433780398313,
          0.06361867475251322,
          -0.022105887229165625,
          0.03888593823358578,
          0.022694726747705698,
          0.024920948391790605,
          -0.044594321662323945,
          -0.020858195229954163,
          0.0034816176576779366,
          0.02562945339966817,
          -0.03939495457901516
         ]
        }
       ],
       "layout": {
        "height": 250,
        "plot_bgcolor": "white",
        "template": {
         "data": {
          "bar": [
           {
            "error_x": {
             "color": "#2a3f5f"
            },
            "error_y": {
             "color": "#2a3f5f"
            },
            "marker": {
             "line": {
              "color": "#E5ECF6",
              "width": 0.5
             },
             "pattern": {
              "fillmode": "overlay",
              "size": 10,
              "solidity": 0.2
             }
            },
            "type": "bar"
           }
          ],
          "barpolar": [
           {
            "marker": {
             "line": {
              "color": "#E5ECF6",
              "width": 0.5
             },
             "pattern": {
              "fillmode": "overlay",
              "size": 10,
              "solidity": 0.2
             }
            },
            "type": "barpolar"
           }
          ],
          "carpet": [
           {
            "aaxis": {
             "endlinecolor": "#2a3f5f",
             "gridcolor": "white",
             "linecolor": "white",
             "minorgridcolor": "white",
             "startlinecolor": "#2a3f5f"
            },
            "baxis": {
             "endlinecolor": "#2a3f5f",
             "gridcolor": "white",
             "linecolor": "white",
             "minorgridcolor": "white",
             "startlinecolor": "#2a3f5f"
            },
            "type": "carpet"
           }
          ],
          "choropleth": [
           {
            "colorbar": {
             "outlinewidth": 0,
             "ticks": ""
            },
            "type": "choropleth"
           }
          ],
          "contour": [
           {
            "colorbar": {
             "outlinewidth": 0,
             "ticks": ""
            },
            "colorscale": [
             [
              0,
              "#0d0887"
             ],
             [
              0.1111111111111111,
              "#46039f"
             ],
             [
              0.2222222222222222,
              "#7201a8"
             ],
             [
              0.3333333333333333,
              "#9c179e"
             ],
             [
              0.4444444444444444,
              "#bd3786"
             ],
             [
              0.5555555555555556,
              "#d8576b"
             ],
             [
              0.6666666666666666,
              "#ed7953"
             ],
             [
              0.7777777777777778,
              "#fb9f3a"
             ],
             [
              0.8888888888888888,
              "#fdca26"
             ],
             [
              1,
              "#f0f921"
             ]
            ],
            "type": "contour"
           }
          ],
          "contourcarpet": [
           {
            "colorbar": {
             "outlinewidth": 0,
             "ticks": ""
            },
            "type": "contourcarpet"
           }
          ],
          "heatmap": [
           {
            "colorbar": {
             "outlinewidth": 0,
             "ticks": ""
            },
            "colorscale": [
             [
              0,
              "#0d0887"
             ],
             [
              0.1111111111111111,
              "#46039f"
             ],
             [
              0.2222222222222222,
              "#7201a8"
             ],
             [
              0.3333333333333333,
              "#9c179e"
             ],
             [
              0.4444444444444444,
              "#bd3786"
             ],
             [
              0.5555555555555556,
              "#d8576b"
             ],
             [
              0.6666666666666666,
              "#ed7953"
             ],
             [
              0.7777777777777778,
              "#fb9f3a"
             ],
             [
              0.8888888888888888,
              "#fdca26"
             ],
             [
              1,
              "#f0f921"
             ]
            ],
            "type": "heatmap"
           }
          ],
          "heatmapgl": [
           {
            "colorbar": {
             "outlinewidth": 0,
             "ticks": ""
            },
            "colorscale": [
             [
              0,
              "#0d0887"
             ],
             [
              0.1111111111111111,
              "#46039f"
             ],
             [
              0.2222222222222222,
              "#7201a8"
             ],
             [
              0.3333333333333333,
              "#9c179e"
             ],
             [
              0.4444444444444444,
              "#bd3786"
             ],
             [
              0.5555555555555556,
              "#d8576b"
             ],
             [
              0.6666666666666666,
              "#ed7953"
             ],
             [
              0.7777777777777778,
              "#fb9f3a"
             ],
             [
              0.8888888888888888,
              "#fdca26"
             ],
             [
              1,
              "#f0f921"
             ]
            ],
            "type": "heatmapgl"
           }
          ],
          "histogram": [
           {
            "marker": {
             "pattern": {
              "fillmode": "overlay",
              "size": 10,
              "solidity": 0.2
             }
            },
            "type": "histogram"
           }
          ],
          "histogram2d": [
           {
            "colorbar": {
             "outlinewidth": 0,
             "ticks": ""
            },
            "colorscale": [
             [
              0,
              "#0d0887"
             ],
             [
              0.1111111111111111,
              "#46039f"
             ],
             [
              0.2222222222222222,
              "#7201a8"
             ],
             [
              0.3333333333333333,
              "#9c179e"
             ],
             [
              0.4444444444444444,
              "#bd3786"
             ],
             [
              0.5555555555555556,
              "#d8576b"
             ],
             [
              0.6666666666666666,
              "#ed7953"
             ],
             [
              0.7777777777777778,
              "#fb9f3a"
             ],
             [
              0.8888888888888888,
              "#fdca26"
             ],
             [
              1,
              "#f0f921"
             ]
            ],
            "type": "histogram2d"
           }
          ],
          "histogram2dcontour": [
           {
            "colorbar": {
             "outlinewidth": 0,
             "ticks": ""
            },
            "colorscale": [
             [
              0,
              "#0d0887"
             ],
             [
              0.1111111111111111,
              "#46039f"
             ],
             [
              0.2222222222222222,
              "#7201a8"
             ],
             [
              0.3333333333333333,
              "#9c179e"
             ],
             [
              0.4444444444444444,
              "#bd3786"
             ],
             [
              0.5555555555555556,
              "#d8576b"
             ],
             [
              0.6666666666666666,
              "#ed7953"
             ],
             [
              0.7777777777777778,
              "#fb9f3a"
             ],
             [
              0.8888888888888888,
              "#fdca26"
             ],
             [
              1,
              "#f0f921"
             ]
            ],
            "type": "histogram2dcontour"
           }
          ],
          "mesh3d": [
           {
            "colorbar": {
             "outlinewidth": 0,
             "ticks": ""
            },
            "type": "mesh3d"
           }
          ],
          "parcoords": [
           {
            "line": {
             "colorbar": {
              "outlinewidth": 0,
              "ticks": ""
             }
            },
            "type": "parcoords"
           }
          ],
          "pie": [
           {
            "automargin": true,
            "type": "pie"
           }
          ],
          "scatter": [
           {
            "marker": {
             "colorbar": {
              "outlinewidth": 0,
              "ticks": ""
             }
            },
            "type": "scatter"
           }
          ],
          "scatter3d": [
           {
            "line": {
             "colorbar": {
              "outlinewidth": 0,
              "ticks": ""
             }
            },
            "marker": {
             "colorbar": {
              "outlinewidth": 0,
              "ticks": ""
             }
            },
            "type": "scatter3d"
           }
          ],
          "scattercarpet": [
           {
            "marker": {
             "colorbar": {
              "outlinewidth": 0,
              "ticks": ""
             }
            },
            "type": "scattercarpet"
           }
          ],
          "scattergeo": [
           {
            "marker": {
             "colorbar": {
              "outlinewidth": 0,
              "ticks": ""
             }
            },
            "type": "scattergeo"
           }
          ],
          "scattergl": [
           {
            "marker": {
             "colorbar": {
              "outlinewidth": 0,
              "ticks": ""
             }
            },
            "type": "scattergl"
           }
          ],
          "scattermapbox": [
           {
            "marker": {
             "colorbar": {
              "outlinewidth": 0,
              "ticks": ""
             }
            },
            "type": "scattermapbox"
           }
          ],
          "scatterpolar": [
           {
            "marker": {
             "colorbar": {
              "outlinewidth": 0,
              "ticks": ""
             }
            },
            "type": "scatterpolar"
           }
          ],
          "scatterpolargl": [
           {
            "marker": {
             "colorbar": {
              "outlinewidth": 0,
              "ticks": ""
             }
            },
            "type": "scatterpolargl"
           }
          ],
          "scatterternary": [
           {
            "marker": {
             "colorbar": {
              "outlinewidth": 0,
              "ticks": ""
             }
            },
            "type": "scatterternary"
           }
          ],
          "surface": [
           {
            "colorbar": {
             "outlinewidth": 0,
             "ticks": ""
            },
            "colorscale": [
             [
              0,
              "#0d0887"
             ],
             [
              0.1111111111111111,
              "#46039f"
             ],
             [
              0.2222222222222222,
              "#7201a8"
             ],
             [
              0.3333333333333333,
              "#9c179e"
             ],
             [
              0.4444444444444444,
              "#bd3786"
             ],
             [
              0.5555555555555556,
              "#d8576b"
             ],
             [
              0.6666666666666666,
              "#ed7953"
             ],
             [
              0.7777777777777778,
              "#fb9f3a"
             ],
             [
              0.8888888888888888,
              "#fdca26"
             ],
             [
              1,
              "#f0f921"
             ]
            ],
            "type": "surface"
           }
          ],
          "table": [
           {
            "cells": {
             "fill": {
              "color": "#EBF0F8"
             },
             "line": {
              "color": "white"
             }
            },
            "header": {
             "fill": {
              "color": "#C8D4E3"
             },
             "line": {
              "color": "white"
             }
            },
            "type": "table"
           }
          ]
         },
         "layout": {
          "annotationdefaults": {
           "arrowcolor": "#2a3f5f",
           "arrowhead": 0,
           "arrowwidth": 1
          },
          "autotypenumbers": "strict",
          "coloraxis": {
           "colorbar": {
            "outlinewidth": 0,
            "ticks": ""
           }
          },
          "colorscale": {
           "diverging": [
            [
             0,
             "#8e0152"
            ],
            [
             0.1,
             "#c51b7d"
            ],
            [
             0.2,
             "#de77ae"
            ],
            [
             0.3,
             "#f1b6da"
            ],
            [
             0.4,
             "#fde0ef"
            ],
            [
             0.5,
             "#f7f7f7"
            ],
            [
             0.6,
             "#e6f5d0"
            ],
            [
             0.7,
             "#b8e186"
            ],
            [
             0.8,
             "#7fbc41"
            ],
            [
             0.9,
             "#4d9221"
            ],
            [
             1,
             "#276419"
            ]
           ],
           "sequential": [
            [
             0,
             "#0d0887"
            ],
            [
             0.1111111111111111,
             "#46039f"
            ],
            [
             0.2222222222222222,
             "#7201a8"
            ],
            [
             0.3333333333333333,
             "#9c179e"
            ],
            [
             0.4444444444444444,
             "#bd3786"
            ],
            [
             0.5555555555555556,
             "#d8576b"
            ],
            [
             0.6666666666666666,
             "#ed7953"
            ],
            [
             0.7777777777777778,
             "#fb9f3a"
            ],
            [
             0.8888888888888888,
             "#fdca26"
            ],
            [
             1,
             "#f0f921"
            ]
           ],
           "sequentialminus": [
            [
             0,
             "#0d0887"
            ],
            [
             0.1111111111111111,
             "#46039f"
            ],
            [
             0.2222222222222222,
             "#7201a8"
            ],
            [
             0.3333333333333333,
             "#9c179e"
            ],
            [
             0.4444444444444444,
             "#bd3786"
            ],
            [
             0.5555555555555556,
             "#d8576b"
            ],
            [
             0.6666666666666666,
             "#ed7953"
            ],
            [
             0.7777777777777778,
             "#fb9f3a"
            ],
            [
             0.8888888888888888,
             "#fdca26"
            ],
            [
             1,
             "#f0f921"
            ]
           ]
          },
          "colorway": [
           "#636efa",
           "#EF553B",
           "#00cc96",
           "#ab63fa",
           "#FFA15A",
           "#19d3f3",
           "#FF6692",
           "#B6E880",
           "#FF97FF",
           "#FECB52"
          ],
          "font": {
           "color": "#2a3f5f"
          },
          "geo": {
           "bgcolor": "white",
           "lakecolor": "white",
           "landcolor": "#E5ECF6",
           "showlakes": true,
           "showland": true,
           "subunitcolor": "white"
          },
          "hoverlabel": {
           "align": "left"
          },
          "hovermode": "closest",
          "mapbox": {
           "style": "light"
          },
          "paper_bgcolor": "white",
          "plot_bgcolor": "#E5ECF6",
          "polar": {
           "angularaxis": {
            "gridcolor": "white",
            "linecolor": "white",
            "ticks": ""
           },
           "bgcolor": "#E5ECF6",
           "radialaxis": {
            "gridcolor": "white",
            "linecolor": "white",
            "ticks": ""
           }
          },
          "scene": {
           "xaxis": {
            "backgroundcolor": "#E5ECF6",
            "gridcolor": "white",
            "gridwidth": 2,
            "linecolor": "white",
            "showbackground": true,
            "ticks": "",
            "zerolinecolor": "white"
           },
           "yaxis": {
            "backgroundcolor": "#E5ECF6",
            "gridcolor": "white",
            "gridwidth": 2,
            "linecolor": "white",
            "showbackground": true,
            "ticks": "",
            "zerolinecolor": "white"
           },
           "zaxis": {
            "backgroundcolor": "#E5ECF6",
            "gridcolor": "white",
            "gridwidth": 2,
            "linecolor": "white",
            "showbackground": true,
            "ticks": "",
            "zerolinecolor": "white"
           }
          },
          "shapedefaults": {
           "line": {
            "color": "#2a3f5f"
           }
          },
          "ternary": {
           "aaxis": {
            "gridcolor": "white",
            "linecolor": "white",
            "ticks": ""
           },
           "baxis": {
            "gridcolor": "white",
            "linecolor": "white",
            "ticks": ""
           },
           "bgcolor": "#E5ECF6",
           "caxis": {
            "gridcolor": "white",
            "linecolor": "white",
            "ticks": ""
           }
          },
          "title": {
           "x": 0.05
          },
          "xaxis": {
           "automargin": true,
           "gridcolor": "white",
           "linecolor": "white",
           "ticks": "",
           "title": {
            "standoff": 15
           },
           "zerolinecolor": "white",
           "zerolinewidth": 2
          },
          "yaxis": {
           "automargin": true,
           "gridcolor": "white",
           "linecolor": "white",
           "ticks": "",
           "title": {
            "standoff": 15
           },
           "zerolinecolor": "white",
           "zerolinewidth": 2
          }
         }
        },
        "width": 500,
        "xaxis": {
         "anchor": "x",
         "exponentformat": "e",
         "linecolor": "black",
         "linewidth": 1,
         "mirror": false,
         "showexponent": "all",
         "showline": true,
         "side": "bottom",
         "ticks": "outside",
         "title": {
          "text": "0th"
         },
         "type": "linear",
         "zeroline": true
        },
        "yaxis": {
         "anchor": "y",
         "exponentformat": "e",
         "linecolor": "black",
         "linewidth": 1,
         "mirror": false,
         "showexponent": "all",
         "showline": true,
         "side": "left",
         "ticks": "outside",
         "title": {
          "text": "1st"
         },
         "type": "linear",
         "zeroline": true
        }
       }
      }
     },
     "metadata": {}
    },
    {
     "output_type": "display_data",
     "data": {
      "application/vnd.plotly.v1+json": {
       "config": {
        "plotlyServerURL": "https://plot.ly"
       },
       "data": [
        {
         "marker": {
          "color": [
           0,
           1,
           2,
           3,
           4,
           5,
           6,
           7,
           8,
           9,
           10,
           11,
           12,
           13,
           14,
           15,
           16,
           17,
           18,
           19,
           20,
           21,
           22,
           23,
           24,
           25,
           26,
           27,
           28,
           29,
           30,
           31,
           32,
           33,
           34,
           35,
           36,
           37,
           38,
           39,
           40,
           41,
           42,
           43,
           44,
           45,
           46,
           47,
           48,
           49
          ],
          "colorscale": [
           [
            0,
            "#440154"
           ],
           [
            0.1111111111111111,
            "#482878"
           ],
           [
            0.2222222222222222,
            "#3e4989"
           ],
           [
            0.3333333333333333,
            "#31688e"
           ],
           [
            0.4444444444444444,
            "#26828e"
           ],
           [
            0.5555555555555556,
            "#1f9e89"
           ],
           [
            0.6666666666666666,
            "#35b779"
           ],
           [
            0.7777777777777778,
            "#6ece58"
           ],
           [
            0.8888888888888888,
            "#b5de2b"
           ],
           [
            1,
            "#fde725"
           ]
          ],
          "opacity": 0.8,
          "size": 4
         },
         "mode": "markers",
         "type": "scatter",
         "x": [
          -0.005367830413634725,
          0.025244513080495853,
          0.004521628609461416,
          0.017642498044501166,
          0.00007200798340682352,
          -0.002359619652895298,
          -0.010641384406600805,
          0.0005238551715322017,
          -0.013749849620433678,
          0.007138762685515928,
          0.004919225661762653,
          -0.0074916139480272976,
          -0.004936119081060472,
          0.009348563512982749,
          0.009948095294857916,
          -0.007872111321383407,
          -0.002575662535388924,
          -0.022522936175410978,
          -0.018338180821660742,
          -0.060045097522022965,
          0.03254811081334026,
          0.028260296800704302,
          -0.00985690838193474,
          0.004940641519006726,
          -0.0032677404242178448,
          0.0327342935409904,
          -0.011196539243597151,
          0.0026863820339736388,
          -0.008562610676304283,
          0.010833162628904172,
          -0.015069531532927793,
          -0.02180150116391077,
          -0.0039155274882096275,
          0.016227264098328115,
          -0.005922700590194449,
          -0.008482924072715453,
          -0.020815054047135646,
          0.01774410644515053,
          0.009297324968961716,
          0.021857137432581965,
          0.009375105396318107,
          -0.012519718264096237,
          -0.007341489575181015,
          -0.021279500834297728,
          -0.004437836972822325,
          -0.019362083559102846,
          0.018169184098520846,
          -0.012609113327974117,
          -0.002536655984128445,
          0.031733002241273844
         ],
         "y": [
          -0.03999837724107467,
          0.0218167126274048,
          0.03197075722016617,
          0.015473450829388238,
          0.0045276203436989395,
          -0.0009010102080968014,
          -0.025463832997359645,
          -0.039931246035543426,
          -0.04104471820206457,
          0.025456695762186576,
          -0.07942545877185357,
          -0.017865966036752397,
          0.004888157946086338,
          0.023313229585792836,
          0.04106381984893341,
          -0.0598349749266351,
          -0.032098506918888374,
          -0.07319576475480725,
          -0.02493944520724865,
          -0.10168410367409852,
          0.06353611258018617,
          0.06941816024281028,
          -0.023243816822512905,
          -0.017014713589183397,
          -0.04530433780398313,
          0.06361867475251322,
          -0.022105887229165625,
          0.03888593823358578,
          0.022694726747705698,
          0.024920948391790605,
          -0.044594321662323945,
          -0.020858195229954163,
          0.0034816176576779366,
          0.02562945339966817,
          -0.03939495457901516,
          -0.023261412356677502,
          -0.05748713242266147,
          0.033368849869572385,
          0.008388579516483766,
          0.022025000638445702,
          0.03001368364802856,
          -0.019724866675202474,
          -0.029583137831544704,
          -0.042814363186967366,
          -0.0077547254933284645,
          -0.06118227341228775,
          0.0329656638765099,
          -0.02015522545394975,
          -0.00007487457274818489,
          0.07637183843970911
         ]
        }
       ],
       "layout": {
        "height": 250,
        "plot_bgcolor": "white",
        "template": {
         "data": {
          "bar": [
           {
            "error_x": {
             "color": "#2a3f5f"
            },
            "error_y": {
             "color": "#2a3f5f"
            },
            "marker": {
             "line": {
              "color": "#E5ECF6",
              "width": 0.5
             },
             "pattern": {
              "fillmode": "overlay",
              "size": 10,
              "solidity": 0.2
             }
            },
            "type": "bar"
           }
          ],
          "barpolar": [
           {
            "marker": {
             "line": {
              "color": "#E5ECF6",
              "width": 0.5
             },
             "pattern": {
              "fillmode": "overlay",
              "size": 10,
              "solidity": 0.2
             }
            },
            "type": "barpolar"
           }
          ],
          "carpet": [
           {
            "aaxis": {
             "endlinecolor": "#2a3f5f",
             "gridcolor": "white",
             "linecolor": "white",
             "minorgridcolor": "white",
             "startlinecolor": "#2a3f5f"
            },
            "baxis": {
             "endlinecolor": "#2a3f5f",
             "gridcolor": "white",
             "linecolor": "white",
             "minorgridcolor": "white",
             "startlinecolor": "#2a3f5f"
            },
            "type": "carpet"
           }
          ],
          "choropleth": [
           {
            "colorbar": {
             "outlinewidth": 0,
             "ticks": ""
            },
            "type": "choropleth"
           }
          ],
          "contour": [
           {
            "colorbar": {
             "outlinewidth": 0,
             "ticks": ""
            },
            "colorscale": [
             [
              0,
              "#0d0887"
             ],
             [
              0.1111111111111111,
              "#46039f"
             ],
             [
              0.2222222222222222,
              "#7201a8"
             ],
             [
              0.3333333333333333,
              "#9c179e"
             ],
             [
              0.4444444444444444,
              "#bd3786"
             ],
             [
              0.5555555555555556,
              "#d8576b"
             ],
             [
              0.6666666666666666,
              "#ed7953"
             ],
             [
              0.7777777777777778,
              "#fb9f3a"
             ],
             [
              0.8888888888888888,
              "#fdca26"
             ],
             [
              1,
              "#f0f921"
             ]
            ],
            "type": "contour"
           }
          ],
          "contourcarpet": [
           {
            "colorbar": {
             "outlinewidth": 0,
             "ticks": ""
            },
            "type": "contourcarpet"
           }
          ],
          "heatmap": [
           {
            "colorbar": {
             "outlinewidth": 0,
             "ticks": ""
            },
            "colorscale": [
             [
              0,
              "#0d0887"
             ],
             [
              0.1111111111111111,
              "#46039f"
             ],
             [
              0.2222222222222222,
              "#7201a8"
             ],
             [
              0.3333333333333333,
              "#9c179e"
             ],
             [
              0.4444444444444444,
              "#bd3786"
             ],
             [
              0.5555555555555556,
              "#d8576b"
             ],
             [
              0.6666666666666666,
              "#ed7953"
             ],
             [
              0.7777777777777778,
              "#fb9f3a"
             ],
             [
              0.8888888888888888,
              "#fdca26"
             ],
             [
              1,
              "#f0f921"
             ]
            ],
            "type": "heatmap"
           }
          ],
          "heatmapgl": [
           {
            "colorbar": {
             "outlinewidth": 0,
             "ticks": ""
            },
            "colorscale": [
             [
              0,
              "#0d0887"
             ],
             [
              0.1111111111111111,
              "#46039f"
             ],
             [
              0.2222222222222222,
              "#7201a8"
             ],
             [
              0.3333333333333333,
              "#9c179e"
             ],
             [
              0.4444444444444444,
              "#bd3786"
             ],
             [
              0.5555555555555556,
              "#d8576b"
             ],
             [
              0.6666666666666666,
              "#ed7953"
             ],
             [
              0.7777777777777778,
              "#fb9f3a"
             ],
             [
              0.8888888888888888,
              "#fdca26"
             ],
             [
              1,
              "#f0f921"
             ]
            ],
            "type": "heatmapgl"
           }
          ],
          "histogram": [
           {
            "marker": {
             "pattern": {
              "fillmode": "overlay",
              "size": 10,
              "solidity": 0.2
             }
            },
            "type": "histogram"
           }
          ],
          "histogram2d": [
           {
            "colorbar": {
             "outlinewidth": 0,
             "ticks": ""
            },
            "colorscale": [
             [
              0,
              "#0d0887"
             ],
             [
              0.1111111111111111,
              "#46039f"
             ],
             [
              0.2222222222222222,
              "#7201a8"
             ],
             [
              0.3333333333333333,
              "#9c179e"
             ],
             [
              0.4444444444444444,
              "#bd3786"
             ],
             [
              0.5555555555555556,
              "#d8576b"
             ],
             [
              0.6666666666666666,
              "#ed7953"
             ],
             [
              0.7777777777777778,
              "#fb9f3a"
             ],
             [
              0.8888888888888888,
              "#fdca26"
             ],
             [
              1,
              "#f0f921"
             ]
            ],
            "type": "histogram2d"
           }
          ],
          "histogram2dcontour": [
           {
            "colorbar": {
             "outlinewidth": 0,
             "ticks": ""
            },
            "colorscale": [
             [
              0,
              "#0d0887"
             ],
             [
              0.1111111111111111,
              "#46039f"
             ],
             [
              0.2222222222222222,
              "#7201a8"
             ],
             [
              0.3333333333333333,
              "#9c179e"
             ],
             [
              0.4444444444444444,
              "#bd3786"
             ],
             [
              0.5555555555555556,
              "#d8576b"
             ],
             [
              0.6666666666666666,
              "#ed7953"
             ],
             [
              0.7777777777777778,
              "#fb9f3a"
             ],
             [
              0.8888888888888888,
              "#fdca26"
             ],
             [
              1,
              "#f0f921"
             ]
            ],
            "type": "histogram2dcontour"
           }
          ],
          "mesh3d": [
           {
            "colorbar": {
             "outlinewidth": 0,
             "ticks": ""
            },
            "type": "mesh3d"
           }
          ],
          "parcoords": [
           {
            "line": {
             "colorbar": {
              "outlinewidth": 0,
              "ticks": ""
             }
            },
            "type": "parcoords"
           }
          ],
          "pie": [
           {
            "automargin": true,
            "type": "pie"
           }
          ],
          "scatter": [
           {
            "marker": {
             "colorbar": {
              "outlinewidth": 0,
              "ticks": ""
             }
            },
            "type": "scatter"
           }
          ],
          "scatter3d": [
           {
            "line": {
             "colorbar": {
              "outlinewidth": 0,
              "ticks": ""
             }
            },
            "marker": {
             "colorbar": {
              "outlinewidth": 0,
              "ticks": ""
             }
            },
            "type": "scatter3d"
           }
          ],
          "scattercarpet": [
           {
            "marker": {
             "colorbar": {
              "outlinewidth": 0,
              "ticks": ""
             }
            },
            "type": "scattercarpet"
           }
          ],
          "scattergeo": [
           {
            "marker": {
             "colorbar": {
              "outlinewidth": 0,
              "ticks": ""
             }
            },
            "type": "scattergeo"
           }
          ],
          "scattergl": [
           {
            "marker": {
             "colorbar": {
              "outlinewidth": 0,
              "ticks": ""
             }
            },
            "type": "scattergl"
           }
          ],
          "scattermapbox": [
           {
            "marker": {
             "colorbar": {
              "outlinewidth": 0,
              "ticks": ""
             }
            },
            "type": "scattermapbox"
           }
          ],
          "scatterpolar": [
           {
            "marker": {
             "colorbar": {
              "outlinewidth": 0,
              "ticks": ""
             }
            },
            "type": "scatterpolar"
           }
          ],
          "scatterpolargl": [
           {
            "marker": {
             "colorbar": {
              "outlinewidth": 0,
              "ticks": ""
             }
            },
            "type": "scatterpolargl"
           }
          ],
          "scatterternary": [
           {
            "marker": {
             "colorbar": {
              "outlinewidth": 0,
              "ticks": ""
             }
            },
            "type": "scatterternary"
           }
          ],
          "surface": [
           {
            "colorbar": {
             "outlinewidth": 0,
             "ticks": ""
            },
            "colorscale": [
             [
              0,
              "#0d0887"
             ],
             [
              0.1111111111111111,
              "#46039f"
             ],
             [
              0.2222222222222222,
              "#7201a8"
             ],
             [
              0.3333333333333333,
              "#9c179e"
             ],
             [
              0.4444444444444444,
              "#bd3786"
             ],
             [
              0.5555555555555556,
              "#d8576b"
             ],
             [
              0.6666666666666666,
              "#ed7953"
             ],
             [
              0.7777777777777778,
              "#fb9f3a"
             ],
             [
              0.8888888888888888,
              "#fdca26"
             ],
             [
              1,
              "#f0f921"
             ]
            ],
            "type": "surface"
           }
          ],
          "table": [
           {
            "cells": {
             "fill": {
              "color": "#EBF0F8"
             },
             "line": {
              "color": "white"
             }
            },
            "header": {
             "fill": {
              "color": "#C8D4E3"
             },
             "line": {
              "color": "white"
             }
            },
            "type": "table"
           }
          ]
         },
         "layout": {
          "annotationdefaults": {
           "arrowcolor": "#2a3f5f",
           "arrowhead": 0,
           "arrowwidth": 1
          },
          "autotypenumbers": "strict",
          "coloraxis": {
           "colorbar": {
            "outlinewidth": 0,
            "ticks": ""
           }
          },
          "colorscale": {
           "diverging": [
            [
             0,
             "#8e0152"
            ],
            [
             0.1,
             "#c51b7d"
            ],
            [
             0.2,
             "#de77ae"
            ],
            [
             0.3,
             "#f1b6da"
            ],
            [
             0.4,
             "#fde0ef"
            ],
            [
             0.5,
             "#f7f7f7"
            ],
            [
             0.6,
             "#e6f5d0"
            ],
            [
             0.7,
             "#b8e186"
            ],
            [
             0.8,
             "#7fbc41"
            ],
            [
             0.9,
             "#4d9221"
            ],
            [
             1,
             "#276419"
            ]
           ],
           "sequential": [
            [
             0,
             "#0d0887"
            ],
            [
             0.1111111111111111,
             "#46039f"
            ],
            [
             0.2222222222222222,
             "#7201a8"
            ],
            [
             0.3333333333333333,
             "#9c179e"
            ],
            [
             0.4444444444444444,
             "#bd3786"
            ],
            [
             0.5555555555555556,
             "#d8576b"
            ],
            [
             0.6666666666666666,
             "#ed7953"
            ],
            [
             0.7777777777777778,
             "#fb9f3a"
            ],
            [
             0.8888888888888888,
             "#fdca26"
            ],
            [
             1,
             "#f0f921"
            ]
           ],
           "sequentialminus": [
            [
             0,
             "#0d0887"
            ],
            [
             0.1111111111111111,
             "#46039f"
            ],
            [
             0.2222222222222222,
             "#7201a8"
            ],
            [
             0.3333333333333333,
             "#9c179e"
            ],
            [
             0.4444444444444444,
             "#bd3786"
            ],
            [
             0.5555555555555556,
             "#d8576b"
            ],
            [
             0.6666666666666666,
             "#ed7953"
            ],
            [
             0.7777777777777778,
             "#fb9f3a"
            ],
            [
             0.8888888888888888,
             "#fdca26"
            ],
            [
             1,
             "#f0f921"
            ]
           ]
          },
          "colorway": [
           "#636efa",
           "#EF553B",
           "#00cc96",
           "#ab63fa",
           "#FFA15A",
           "#19d3f3",
           "#FF6692",
           "#B6E880",
           "#FF97FF",
           "#FECB52"
          ],
          "font": {
           "color": "#2a3f5f"
          },
          "geo": {
           "bgcolor": "white",
           "lakecolor": "white",
           "landcolor": "#E5ECF6",
           "showlakes": true,
           "showland": true,
           "subunitcolor": "white"
          },
          "hoverlabel": {
           "align": "left"
          },
          "hovermode": "closest",
          "mapbox": {
           "style": "light"
          },
          "paper_bgcolor": "white",
          "plot_bgcolor": "#E5ECF6",
          "polar": {
           "angularaxis": {
            "gridcolor": "white",
            "linecolor": "white",
            "ticks": ""
           },
           "bgcolor": "#E5ECF6",
           "radialaxis": {
            "gridcolor": "white",
            "linecolor": "white",
            "ticks": ""
           }
          },
          "scene": {
           "xaxis": {
            "backgroundcolor": "#E5ECF6",
            "gridcolor": "white",
            "gridwidth": 2,
            "linecolor": "white",
            "showbackground": true,
            "ticks": "",
            "zerolinecolor": "white"
           },
           "yaxis": {
            "backgroundcolor": "#E5ECF6",
            "gridcolor": "white",
            "gridwidth": 2,
            "linecolor": "white",
            "showbackground": true,
            "ticks": "",
            "zerolinecolor": "white"
           },
           "zaxis": {
            "backgroundcolor": "#E5ECF6",
            "gridcolor": "white",
            "gridwidth": 2,
            "linecolor": "white",
            "showbackground": true,
            "ticks": "",
            "zerolinecolor": "white"
           }
          },
          "shapedefaults": {
           "line": {
            "color": "#2a3f5f"
           }
          },
          "ternary": {
           "aaxis": {
            "gridcolor": "white",
            "linecolor": "white",
            "ticks": ""
           },
           "baxis": {
            "gridcolor": "white",
            "linecolor": "white",
            "ticks": ""
           },
           "bgcolor": "#E5ECF6",
           "caxis": {
            "gridcolor": "white",
            "linecolor": "white",
            "ticks": ""
           }
          },
          "title": {
           "x": 0.05
          },
          "xaxis": {
           "automargin": true,
           "gridcolor": "white",
           "linecolor": "white",
           "ticks": "",
           "title": {
            "standoff": 15
           },
           "zerolinecolor": "white",
           "zerolinewidth": 2
          },
          "yaxis": {
           "automargin": true,
           "gridcolor": "white",
           "linecolor": "white",
           "ticks": "",
           "title": {
            "standoff": 15
           },
           "zerolinecolor": "white",
           "zerolinewidth": 2
          }
         }
        },
        "width": 500,
        "xaxis": {
         "anchor": "x",
         "exponentformat": "e",
         "linecolor": "black",
         "linewidth": 1,
         "mirror": false,
         "showexponent": "all",
         "showline": true,
         "side": "bottom",
         "ticks": "outside",
         "title": {
          "text": "0th"
         },
         "type": "linear",
         "zeroline": true
        },
        "yaxis": {
         "anchor": "y",
         "exponentformat": "e",
         "linecolor": "black",
         "linewidth": 1,
         "mirror": false,
         "showexponent": "all",
         "showline": true,
         "side": "left",
         "ticks": "outside",
         "title": {
          "text": "1st"
         },
         "type": "linear",
         "zeroline": true
        }
       }
      }
     },
     "metadata": {}
    }
   ],
   "metadata": {}
  },
  {
   "cell_type": "code",
   "execution_count": 4,
   "source": [
    "x, dates = data_df.to_numpy(), data_df.index\n",
    "\n",
    "SW = SlidingWindow(size=50)\n",
    "x_sw, y_sw  = SW.fit_transform_resample(x, dates)\n",
    "\n",
    "VR = VietorisRipsPersistence(homology_dimensions=[0,1], n_jobs=6)\n",
    "x_vr = VR.fit_transform(X = x_sw)\n",
    "\n",
    "# PL = PersistenceLandscape()\n",
    "# x_pl = PL.fit_transform(X = x_vr, y = y_sw)\n",
    "\n",
    "Ampl = Amplitude(metric=\"landscape\", metric_params={\"p\":1})\n",
    "norm = Ampl.fit_transform(X=x_vr, y=y_sw)"
   ],
   "outputs": [],
   "metadata": {}
  },
  {
   "cell_type": "code",
   "execution_count": 5,
   "source": [
    "# dates = [\"2000-01-10\"]\n",
    "# inds = dates_to_index(dates)\n",
    "\n",
    "\n",
    "# fig, axs = plt.subplots(1, 3)\n",
    "# fig_size = 4\n",
    "# fig.set_size_inches(fig_size*3, fig_size)\n",
    "\n",
    "# axs[0].plot(np.arange(0, wins[0]), data_df.to_numpy()[inds[0]-50:inds[0]])\n",
    "# axs[0].set_title(\"Price Returns\")\n",
    "# plot_diagrams(dgms, title=\"Persis Diagram\", ax=axs[1])\n",
    "\n",
    "# persim.landscapes.plot_landscape_simple(persim.landscapes.PersLandscapeExact(dgms, hom_deg=1), title=\"Persis Landscape\", ax=axs[2])\n",
    "\n",
    "# fig.suptitle(dates[0])\n",
    "# plt.tight_layout()\n",
    "# plt.show()\n",
    "\n",
    "# modify this code to see price returns, diagram, and landscape. did it on previous notebook for reference, but not really needed."
   ],
   "outputs": [],
   "metadata": {}
  },
  {
   "cell_type": "code",
   "execution_count": 6,
   "source": [
    "dates = [\"1996-02-01\", \"2000-02-01\"]\n",
    "clean_data = yf.download(\"^GSPC ^VIX\", start=dates[0], end=dates[1], interval = \"1d\", group_by = \"ticker\").xs(\"Adj Close\", level=1, axis=1)\n",
    "\n",
    "calced_df = pd.DataFrame(\n",
    "    {\n",
    "        # \"log_price\": log_price[1:],\n",
    "        \"spy_price\": clean_data[\"^GSPC\"][50:],\n",
    "        \"norm\": norm[:,1][1:],\n",
    "        \"vix_price\": clean_data[\"^VIX\"][50:]\n",
    "        # \"log_returns\": np.diff(log_price),\n",
    "    },\n",
    "    index = y_sw[1:]\n",
    ")\n",
    "\n",
    "\n",
    "\n",
    "fig = make_subplots(rows=len(calced_df.keys()), cols=1, shared_xaxes=True, vertical_spacing = 0.01)\n",
    "fig.update_layout(\n",
    "    height=1000,\n",
    ")\n",
    "\n",
    "for i, col in enumerate(calced_df.keys(), start=1):\n",
    "    if col == \"norm\":\n",
    "        normed_norm = calced_df[dates[0]:dates[1]][col].values/max(calced_df[dates[0]:dates[1]][col].values)\n",
    "        fig.add_trace(go.Scatter(x=calced_df[dates[0]:dates[1]][col].index, y=normed_norm, name=col), row=i, col=1)\n",
    "    else:\n",
    "        fig.add_trace(go.Scatter(x=calced_df[dates[0]:dates[1]][col].index, y=calced_df[dates[0]:dates[1]][col].values, name=col), row=i, col=1)\n",
    "    \n",
    "fig.show()\n",
    "\n",
    "# to fix data, change which homology is being used"
   ],
   "outputs": [
    {
     "output_type": "stream",
     "name": "stdout",
     "text": [
      "[*********************100%***********************]  2 of 2 completed\n"
     ]
    },
    {
     "output_type": "display_data",
     "data": {
      "application/vnd.plotly.v1+json": {
       "config": {
        "plotlyServerURL": "https://plot.ly"
       },
       "data": [
        {
         "name": "spy_price",
         "type": "scatter",
         "x": [
          "1996-02-01T00:00:00",
          "1996-02-02T00:00:00",
          "1996-02-05T00:00:00",
          "1996-02-06T00:00:00",
          "1996-02-07T00:00:00",
          "1996-02-08T00:00:00",
          "1996-02-09T00:00:00",
          "1996-02-12T00:00:00",
          "1996-02-13T00:00:00",
          "1996-02-14T00:00:00",
          "1996-02-15T00:00:00",
          "1996-02-16T00:00:00",
          "1996-02-20T00:00:00",
          "1996-02-21T00:00:00",
          "1996-02-22T00:00:00",
          "1996-02-23T00:00:00",
          "1996-02-26T00:00:00",
          "1996-02-27T00:00:00",
          "1996-02-28T00:00:00",
          "1996-02-29T00:00:00",
          "1996-03-01T00:00:00",
          "1996-03-04T00:00:00",
          "1996-03-05T00:00:00",
          "1996-03-06T00:00:00",
          "1996-03-07T00:00:00",
          "1996-03-08T00:00:00",
          "1996-03-11T00:00:00",
          "1996-03-12T00:00:00",
          "1996-03-13T00:00:00",
          "1996-03-14T00:00:00",
          "1996-03-15T00:00:00",
          "1996-03-18T00:00:00",
          "1996-03-19T00:00:00",
          "1996-03-20T00:00:00",
          "1996-03-21T00:00:00",
          "1996-03-22T00:00:00",
          "1996-03-25T00:00:00",
          "1996-03-26T00:00:00",
          "1996-03-27T00:00:00",
          "1996-03-28T00:00:00",
          "1996-03-29T00:00:00",
          "1996-04-01T00:00:00",
          "1996-04-02T00:00:00",
          "1996-04-03T00:00:00",
          "1996-04-04T00:00:00",
          "1996-04-08T00:00:00",
          "1996-04-09T00:00:00",
          "1996-04-10T00:00:00",
          "1996-04-11T00:00:00",
          "1996-04-12T00:00:00",
          "1996-04-15T00:00:00",
          "1996-04-16T00:00:00",
          "1996-04-17T00:00:00",
          "1996-04-18T00:00:00",
          "1996-04-19T00:00:00",
          "1996-04-22T00:00:00",
          "1996-04-23T00:00:00",
          "1996-04-24T00:00:00",
          "1996-04-25T00:00:00",
          "1996-04-26T00:00:00",
          "1996-04-29T00:00:00",
          "1996-04-30T00:00:00",
          "1996-05-01T00:00:00",
          "1996-05-02T00:00:00",
          "1996-05-03T00:00:00",
          "1996-05-06T00:00:00",
          "1996-05-07T00:00:00",
          "1996-05-08T00:00:00",
          "1996-05-09T00:00:00",
          "1996-05-10T00:00:00",
          "1996-05-13T00:00:00",
          "1996-05-14T00:00:00",
          "1996-05-15T00:00:00",
          "1996-05-16T00:00:00",
          "1996-05-17T00:00:00",
          "1996-05-20T00:00:00",
          "1996-05-21T00:00:00",
          "1996-05-22T00:00:00",
          "1996-05-23T00:00:00",
          "1996-05-24T00:00:00",
          "1996-05-28T00:00:00",
          "1996-05-29T00:00:00",
          "1996-05-30T00:00:00",
          "1996-05-31T00:00:00",
          "1996-06-03T00:00:00",
          "1996-06-04T00:00:00",
          "1996-06-05T00:00:00",
          "1996-06-06T00:00:00",
          "1996-06-07T00:00:00",
          "1996-06-10T00:00:00",
          "1996-06-11T00:00:00",
          "1996-06-12T00:00:00",
          "1996-06-13T00:00:00",
          "1996-06-14T00:00:00",
          "1996-06-17T00:00:00",
          "1996-06-18T00:00:00",
          "1996-06-19T00:00:00",
          "1996-06-20T00:00:00",
          "1996-06-21T00:00:00",
          "1996-06-24T00:00:00",
          "1996-06-25T00:00:00",
          "1996-06-26T00:00:00",
          "1996-06-27T00:00:00",
          "1996-06-28T00:00:00",
          "1996-07-01T00:00:00",
          "1996-07-02T00:00:00",
          "1996-07-03T00:00:00",
          "1996-07-05T00:00:00",
          "1996-07-08T00:00:00",
          "1996-07-09T00:00:00",
          "1996-07-10T00:00:00",
          "1996-07-11T00:00:00",
          "1996-07-12T00:00:00",
          "1996-07-15T00:00:00",
          "1996-07-16T00:00:00",
          "1996-07-17T00:00:00",
          "1996-07-18T00:00:00",
          "1996-07-19T00:00:00",
          "1996-07-22T00:00:00",
          "1996-07-23T00:00:00",
          "1996-07-24T00:00:00",
          "1996-07-25T00:00:00",
          "1996-07-26T00:00:00",
          "1996-07-29T00:00:00",
          "1996-07-30T00:00:00",
          "1996-07-31T00:00:00",
          "1996-08-01T00:00:00",
          "1996-08-02T00:00:00",
          "1996-08-05T00:00:00",
          "1996-08-06T00:00:00",
          "1996-08-07T00:00:00",
          "1996-08-08T00:00:00",
          "1996-08-09T00:00:00",
          "1996-08-12T00:00:00",
          "1996-08-13T00:00:00",
          "1996-08-14T00:00:00",
          "1996-08-15T00:00:00",
          "1996-08-16T00:00:00",
          "1996-08-19T00:00:00",
          "1996-08-20T00:00:00",
          "1996-08-21T00:00:00",
          "1996-08-22T00:00:00",
          "1996-08-23T00:00:00",
          "1996-08-26T00:00:00",
          "1996-08-27T00:00:00",
          "1996-08-28T00:00:00",
          "1996-08-29T00:00:00",
          "1996-08-30T00:00:00",
          "1996-09-03T00:00:00",
          "1996-09-04T00:00:00",
          "1996-09-05T00:00:00",
          "1996-09-06T00:00:00",
          "1996-09-09T00:00:00",
          "1996-09-10T00:00:00",
          "1996-09-11T00:00:00",
          "1996-09-12T00:00:00",
          "1996-09-13T00:00:00",
          "1996-09-16T00:00:00",
          "1996-09-17T00:00:00",
          "1996-09-18T00:00:00",
          "1996-09-19T00:00:00",
          "1996-09-20T00:00:00",
          "1996-09-23T00:00:00",
          "1996-09-24T00:00:00",
          "1996-09-25T00:00:00",
          "1996-09-26T00:00:00",
          "1996-09-27T00:00:00",
          "1996-09-30T00:00:00",
          "1996-10-01T00:00:00",
          "1996-10-02T00:00:00",
          "1996-10-03T00:00:00",
          "1996-10-04T00:00:00",
          "1996-10-07T00:00:00",
          "1996-10-08T00:00:00",
          "1996-10-09T00:00:00",
          "1996-10-10T00:00:00",
          "1996-10-11T00:00:00",
          "1996-10-14T00:00:00",
          "1996-10-15T00:00:00",
          "1996-10-16T00:00:00",
          "1996-10-17T00:00:00",
          "1996-10-18T00:00:00",
          "1996-10-21T00:00:00",
          "1996-10-22T00:00:00",
          "1996-10-23T00:00:00",
          "1996-10-24T00:00:00",
          "1996-10-25T00:00:00",
          "1996-10-28T00:00:00",
          "1996-10-29T00:00:00",
          "1996-10-30T00:00:00",
          "1996-10-31T00:00:00",
          "1996-11-01T00:00:00",
          "1996-11-04T00:00:00",
          "1996-11-05T00:00:00",
          "1996-11-06T00:00:00",
          "1996-11-07T00:00:00",
          "1996-11-08T00:00:00",
          "1996-11-11T00:00:00",
          "1996-11-12T00:00:00",
          "1996-11-13T00:00:00",
          "1996-11-14T00:00:00",
          "1996-11-15T00:00:00",
          "1996-11-18T00:00:00",
          "1996-11-19T00:00:00",
          "1996-11-20T00:00:00",
          "1996-11-21T00:00:00",
          "1996-11-22T00:00:00",
          "1996-11-25T00:00:00",
          "1996-11-26T00:00:00",
          "1996-11-27T00:00:00",
          "1996-11-29T00:00:00",
          "1996-12-02T00:00:00",
          "1996-12-03T00:00:00",
          "1996-12-04T00:00:00",
          "1996-12-05T00:00:00",
          "1996-12-06T00:00:00",
          "1996-12-09T00:00:00",
          "1996-12-10T00:00:00",
          "1996-12-11T00:00:00",
          "1996-12-12T00:00:00",
          "1996-12-13T00:00:00",
          "1996-12-16T00:00:00",
          "1996-12-17T00:00:00",
          "1996-12-18T00:00:00",
          "1996-12-19T00:00:00",
          "1996-12-20T00:00:00",
          "1996-12-23T00:00:00",
          "1996-12-24T00:00:00",
          "1996-12-26T00:00:00",
          "1996-12-27T00:00:00",
          "1996-12-30T00:00:00",
          "1996-12-31T00:00:00",
          "1997-01-02T00:00:00",
          "1997-01-03T00:00:00",
          "1997-01-06T00:00:00",
          "1997-01-07T00:00:00",
          "1997-01-08T00:00:00",
          "1997-01-09T00:00:00",
          "1997-01-10T00:00:00",
          "1997-01-13T00:00:00",
          "1997-01-14T00:00:00",
          "1997-01-15T00:00:00",
          "1997-01-16T00:00:00",
          "1997-01-17T00:00:00",
          "1997-01-20T00:00:00",
          "1997-01-21T00:00:00",
          "1997-01-22T00:00:00",
          "1997-01-23T00:00:00",
          "1997-01-24T00:00:00",
          "1997-01-27T00:00:00",
          "1997-01-28T00:00:00",
          "1997-01-29T00:00:00",
          "1997-01-30T00:00:00",
          "1997-01-31T00:00:00",
          "1997-02-03T00:00:00",
          "1997-02-04T00:00:00",
          "1997-02-05T00:00:00",
          "1997-02-06T00:00:00",
          "1997-02-07T00:00:00",
          "1997-02-10T00:00:00",
          "1997-02-11T00:00:00",
          "1997-02-12T00:00:00",
          "1997-02-13T00:00:00",
          "1997-02-14T00:00:00",
          "1997-02-18T00:00:00",
          "1997-02-19T00:00:00",
          "1997-02-20T00:00:00",
          "1997-02-21T00:00:00",
          "1997-02-24T00:00:00",
          "1997-02-25T00:00:00",
          "1997-02-26T00:00:00",
          "1997-02-27T00:00:00",
          "1997-02-28T00:00:00",
          "1997-03-03T00:00:00",
          "1997-03-04T00:00:00",
          "1997-03-05T00:00:00",
          "1997-03-06T00:00:00",
          "1997-03-07T00:00:00",
          "1997-03-10T00:00:00",
          "1997-03-11T00:00:00",
          "1997-03-12T00:00:00",
          "1997-03-13T00:00:00",
          "1997-03-14T00:00:00",
          "1997-03-17T00:00:00",
          "1997-03-18T00:00:00",
          "1997-03-19T00:00:00",
          "1997-03-20T00:00:00",
          "1997-03-21T00:00:00",
          "1997-03-24T00:00:00",
          "1997-03-25T00:00:00",
          "1997-03-26T00:00:00",
          "1997-03-27T00:00:00",
          "1997-03-31T00:00:00",
          "1997-04-01T00:00:00",
          "1997-04-02T00:00:00",
          "1997-04-03T00:00:00",
          "1997-04-04T00:00:00",
          "1997-04-07T00:00:00",
          "1997-04-08T00:00:00",
          "1997-04-09T00:00:00",
          "1997-04-10T00:00:00",
          "1997-04-11T00:00:00",
          "1997-04-14T00:00:00",
          "1997-04-15T00:00:00",
          "1997-04-16T00:00:00",
          "1997-04-17T00:00:00",
          "1997-04-18T00:00:00",
          "1997-04-21T00:00:00",
          "1997-04-22T00:00:00",
          "1997-04-23T00:00:00",
          "1997-04-24T00:00:00",
          "1997-04-25T00:00:00",
          "1997-04-28T00:00:00",
          "1997-04-29T00:00:00",
          "1997-04-30T00:00:00",
          "1997-05-01T00:00:00",
          "1997-05-02T00:00:00",
          "1997-05-05T00:00:00",
          "1997-05-06T00:00:00",
          "1997-05-07T00:00:00",
          "1997-05-08T00:00:00",
          "1997-05-09T00:00:00",
          "1997-05-12T00:00:00",
          "1997-05-13T00:00:00",
          "1997-05-14T00:00:00",
          "1997-05-15T00:00:00",
          "1997-05-16T00:00:00",
          "1997-05-19T00:00:00",
          "1997-05-20T00:00:00",
          "1997-05-21T00:00:00",
          "1997-05-22T00:00:00",
          "1997-05-23T00:00:00",
          "1997-05-27T00:00:00",
          "1997-05-28T00:00:00",
          "1997-05-29T00:00:00",
          "1997-05-30T00:00:00",
          "1997-06-02T00:00:00",
          "1997-06-03T00:00:00",
          "1997-06-04T00:00:00",
          "1997-06-05T00:00:00",
          "1997-06-06T00:00:00",
          "1997-06-09T00:00:00",
          "1997-06-10T00:00:00",
          "1997-06-11T00:00:00",
          "1997-06-12T00:00:00",
          "1997-06-13T00:00:00",
          "1997-06-16T00:00:00",
          "1997-06-17T00:00:00",
          "1997-06-18T00:00:00",
          "1997-06-19T00:00:00",
          "1997-06-20T00:00:00",
          "1997-06-23T00:00:00",
          "1997-06-24T00:00:00",
          "1997-06-25T00:00:00",
          "1997-06-26T00:00:00",
          "1997-06-27T00:00:00",
          "1997-06-30T00:00:00",
          "1997-07-01T00:00:00",
          "1997-07-02T00:00:00",
          "1997-07-03T00:00:00",
          "1997-07-07T00:00:00",
          "1997-07-08T00:00:00",
          "1997-07-09T00:00:00",
          "1997-07-10T00:00:00",
          "1997-07-11T00:00:00",
          "1997-07-14T00:00:00",
          "1997-07-15T00:00:00",
          "1997-07-16T00:00:00",
          "1997-07-17T00:00:00",
          "1997-07-18T00:00:00",
          "1997-07-21T00:00:00",
          "1997-07-22T00:00:00",
          "1997-07-23T00:00:00",
          "1997-07-24T00:00:00",
          "1997-07-25T00:00:00",
          "1997-07-28T00:00:00",
          "1997-07-29T00:00:00",
          "1997-07-30T00:00:00",
          "1997-07-31T00:00:00",
          "1997-08-01T00:00:00",
          "1997-08-04T00:00:00",
          "1997-08-05T00:00:00",
          "1997-08-06T00:00:00",
          "1997-08-07T00:00:00",
          "1997-08-08T00:00:00",
          "1997-08-11T00:00:00",
          "1997-08-12T00:00:00",
          "1997-08-13T00:00:00",
          "1997-08-14T00:00:00",
          "1997-08-15T00:00:00",
          "1997-08-18T00:00:00",
          "1997-08-19T00:00:00",
          "1997-08-20T00:00:00",
          "1997-08-21T00:00:00",
          "1997-08-22T00:00:00",
          "1997-08-25T00:00:00",
          "1997-08-26T00:00:00",
          "1997-08-27T00:00:00",
          "1997-08-28T00:00:00",
          "1997-08-29T00:00:00",
          "1997-09-02T00:00:00",
          "1997-09-03T00:00:00",
          "1997-09-04T00:00:00",
          "1997-09-05T00:00:00",
          "1997-09-08T00:00:00",
          "1997-09-09T00:00:00",
          "1997-09-10T00:00:00",
          "1997-09-11T00:00:00",
          "1997-09-12T00:00:00",
          "1997-09-15T00:00:00",
          "1997-09-16T00:00:00",
          "1997-09-17T00:00:00",
          "1997-09-18T00:00:00",
          "1997-09-19T00:00:00",
          "1997-09-22T00:00:00",
          "1997-09-23T00:00:00",
          "1997-09-24T00:00:00",
          "1997-09-25T00:00:00",
          "1997-09-26T00:00:00",
          "1997-09-29T00:00:00",
          "1997-09-30T00:00:00",
          "1997-10-01T00:00:00",
          "1997-10-02T00:00:00",
          "1997-10-03T00:00:00",
          "1997-10-06T00:00:00",
          "1997-10-07T00:00:00",
          "1997-10-08T00:00:00",
          "1997-10-09T00:00:00",
          "1997-10-10T00:00:00",
          "1997-10-13T00:00:00",
          "1997-10-14T00:00:00",
          "1997-10-15T00:00:00",
          "1997-10-16T00:00:00",
          "1997-10-17T00:00:00",
          "1997-10-20T00:00:00",
          "1997-10-21T00:00:00",
          "1997-10-22T00:00:00",
          "1997-10-23T00:00:00",
          "1997-10-24T00:00:00",
          "1997-10-27T00:00:00",
          "1997-10-28T00:00:00",
          "1997-10-29T00:00:00",
          "1997-10-30T00:00:00",
          "1997-10-31T00:00:00",
          "1997-11-03T00:00:00",
          "1997-11-04T00:00:00",
          "1997-11-05T00:00:00",
          "1997-11-06T00:00:00",
          "1997-11-07T00:00:00",
          "1997-11-10T00:00:00",
          "1997-11-11T00:00:00",
          "1997-11-12T00:00:00",
          "1997-11-13T00:00:00",
          "1997-11-14T00:00:00",
          "1997-11-17T00:00:00",
          "1997-11-18T00:00:00",
          "1997-11-19T00:00:00",
          "1997-11-20T00:00:00",
          "1997-11-21T00:00:00",
          "1997-11-24T00:00:00",
          "1997-11-25T00:00:00",
          "1997-11-26T00:00:00",
          "1997-11-28T00:00:00",
          "1997-12-01T00:00:00",
          "1997-12-02T00:00:00",
          "1997-12-03T00:00:00",
          "1997-12-04T00:00:00",
          "1997-12-05T00:00:00",
          "1997-12-08T00:00:00",
          "1997-12-09T00:00:00",
          "1997-12-10T00:00:00",
          "1997-12-11T00:00:00",
          "1997-12-12T00:00:00",
          "1997-12-15T00:00:00",
          "1997-12-16T00:00:00",
          "1997-12-17T00:00:00",
          "1997-12-18T00:00:00",
          "1997-12-19T00:00:00",
          "1997-12-22T00:00:00",
          "1997-12-23T00:00:00",
          "1997-12-24T00:00:00",
          "1997-12-26T00:00:00",
          "1997-12-29T00:00:00",
          "1997-12-30T00:00:00",
          "1997-12-31T00:00:00",
          "1998-01-02T00:00:00",
          "1998-01-05T00:00:00",
          "1998-01-06T00:00:00",
          "1998-01-07T00:00:00",
          "1998-01-08T00:00:00",
          "1998-01-09T00:00:00",
          "1998-01-12T00:00:00",
          "1998-01-13T00:00:00",
          "1998-01-14T00:00:00",
          "1998-01-15T00:00:00",
          "1998-01-16T00:00:00",
          "1998-01-20T00:00:00",
          "1998-01-21T00:00:00",
          "1998-01-22T00:00:00",
          "1998-01-23T00:00:00",
          "1998-01-26T00:00:00",
          "1998-01-27T00:00:00",
          "1998-01-28T00:00:00",
          "1998-01-29T00:00:00",
          "1998-01-30T00:00:00",
          "1998-02-02T00:00:00",
          "1998-02-03T00:00:00",
          "1998-02-04T00:00:00",
          "1998-02-05T00:00:00",
          "1998-02-06T00:00:00",
          "1998-02-09T00:00:00",
          "1998-02-10T00:00:00",
          "1998-02-11T00:00:00",
          "1998-02-12T00:00:00",
          "1998-02-13T00:00:00",
          "1998-02-17T00:00:00",
          "1998-02-18T00:00:00",
          "1998-02-19T00:00:00",
          "1998-02-20T00:00:00",
          "1998-02-23T00:00:00",
          "1998-02-24T00:00:00",
          "1998-02-25T00:00:00",
          "1998-02-26T00:00:00",
          "1998-02-27T00:00:00",
          "1998-03-02T00:00:00",
          "1998-03-03T00:00:00",
          "1998-03-04T00:00:00",
          "1998-03-05T00:00:00",
          "1998-03-06T00:00:00",
          "1998-03-09T00:00:00",
          "1998-03-10T00:00:00",
          "1998-03-11T00:00:00",
          "1998-03-12T00:00:00",
          "1998-03-13T00:00:00",
          "1998-03-16T00:00:00",
          "1998-03-17T00:00:00",
          "1998-03-18T00:00:00",
          "1998-03-19T00:00:00",
          "1998-03-20T00:00:00",
          "1998-03-23T00:00:00",
          "1998-03-24T00:00:00",
          "1998-03-25T00:00:00",
          "1998-03-26T00:00:00",
          "1998-03-27T00:00:00",
          "1998-03-30T00:00:00",
          "1998-03-31T00:00:00",
          "1998-04-01T00:00:00",
          "1998-04-02T00:00:00",
          "1998-04-03T00:00:00",
          "1998-04-06T00:00:00",
          "1998-04-07T00:00:00",
          "1998-04-08T00:00:00",
          "1998-04-09T00:00:00",
          "1998-04-13T00:00:00",
          "1998-04-14T00:00:00",
          "1998-04-15T00:00:00",
          "1998-04-16T00:00:00",
          "1998-04-17T00:00:00",
          "1998-04-20T00:00:00",
          "1998-04-21T00:00:00",
          "1998-04-22T00:00:00",
          "1998-04-23T00:00:00",
          "1998-04-24T00:00:00",
          "1998-04-27T00:00:00",
          "1998-04-28T00:00:00",
          "1998-04-29T00:00:00",
          "1998-04-30T00:00:00",
          "1998-05-01T00:00:00",
          "1998-05-04T00:00:00",
          "1998-05-05T00:00:00",
          "1998-05-06T00:00:00",
          "1998-05-07T00:00:00",
          "1998-05-08T00:00:00",
          "1998-05-11T00:00:00",
          "1998-05-12T00:00:00",
          "1998-05-13T00:00:00",
          "1998-05-14T00:00:00",
          "1998-05-15T00:00:00",
          "1998-05-18T00:00:00",
          "1998-05-19T00:00:00",
          "1998-05-20T00:00:00",
          "1998-05-21T00:00:00",
          "1998-05-22T00:00:00",
          "1998-05-26T00:00:00",
          "1998-05-27T00:00:00",
          "1998-05-28T00:00:00",
          "1998-05-29T00:00:00",
          "1998-06-01T00:00:00",
          "1998-06-02T00:00:00",
          "1998-06-03T00:00:00",
          "1998-06-04T00:00:00",
          "1998-06-05T00:00:00",
          "1998-06-08T00:00:00",
          "1998-06-09T00:00:00",
          "1998-06-10T00:00:00",
          "1998-06-11T00:00:00",
          "1998-06-12T00:00:00",
          "1998-06-15T00:00:00",
          "1998-06-16T00:00:00",
          "1998-06-17T00:00:00",
          "1998-06-18T00:00:00",
          "1998-06-19T00:00:00",
          "1998-06-22T00:00:00",
          "1998-06-23T00:00:00",
          "1998-06-24T00:00:00",
          "1998-06-25T00:00:00",
          "1998-06-26T00:00:00",
          "1998-06-29T00:00:00",
          "1998-06-30T00:00:00",
          "1998-07-01T00:00:00",
          "1998-07-02T00:00:00",
          "1998-07-06T00:00:00",
          "1998-07-07T00:00:00",
          "1998-07-08T00:00:00",
          "1998-07-09T00:00:00",
          "1998-07-10T00:00:00",
          "1998-07-13T00:00:00",
          "1998-07-14T00:00:00",
          "1998-07-15T00:00:00",
          "1998-07-16T00:00:00",
          "1998-07-17T00:00:00",
          "1998-07-20T00:00:00",
          "1998-07-21T00:00:00",
          "1998-07-22T00:00:00",
          "1998-07-23T00:00:00",
          "1998-07-24T00:00:00",
          "1998-07-27T00:00:00",
          "1998-07-28T00:00:00",
          "1998-07-29T00:00:00",
          "1998-07-30T00:00:00",
          "1998-07-31T00:00:00",
          "1998-08-03T00:00:00",
          "1998-08-04T00:00:00",
          "1998-08-05T00:00:00",
          "1998-08-06T00:00:00",
          "1998-08-07T00:00:00",
          "1998-08-10T00:00:00",
          "1998-08-11T00:00:00",
          "1998-08-12T00:00:00",
          "1998-08-13T00:00:00",
          "1998-08-14T00:00:00",
          "1998-08-17T00:00:00",
          "1998-08-18T00:00:00",
          "1998-08-19T00:00:00",
          "1998-08-20T00:00:00",
          "1998-08-21T00:00:00",
          "1998-08-24T00:00:00",
          "1998-08-25T00:00:00",
          "1998-08-26T00:00:00",
          "1998-08-27T00:00:00",
          "1998-08-28T00:00:00",
          "1998-08-31T00:00:00",
          "1998-09-01T00:00:00",
          "1998-09-02T00:00:00",
          "1998-09-03T00:00:00",
          "1998-09-04T00:00:00",
          "1998-09-08T00:00:00",
          "1998-09-09T00:00:00",
          "1998-09-10T00:00:00",
          "1998-09-11T00:00:00",
          "1998-09-14T00:00:00",
          "1998-09-15T00:00:00",
          "1998-09-16T00:00:00",
          "1998-09-17T00:00:00",
          "1998-09-18T00:00:00",
          "1998-09-21T00:00:00",
          "1998-09-22T00:00:00",
          "1998-09-23T00:00:00",
          "1998-09-24T00:00:00",
          "1998-09-25T00:00:00",
          "1998-09-28T00:00:00",
          "1998-09-29T00:00:00",
          "1998-09-30T00:00:00",
          "1998-10-01T00:00:00",
          "1998-10-02T00:00:00",
          "1998-10-05T00:00:00",
          "1998-10-06T00:00:00",
          "1998-10-07T00:00:00",
          "1998-10-08T00:00:00",
          "1998-10-09T00:00:00",
          "1998-10-12T00:00:00",
          "1998-10-13T00:00:00",
          "1998-10-14T00:00:00",
          "1998-10-15T00:00:00",
          "1998-10-16T00:00:00",
          "1998-10-19T00:00:00",
          "1998-10-20T00:00:00",
          "1998-10-21T00:00:00",
          "1998-10-22T00:00:00",
          "1998-10-23T00:00:00",
          "1998-10-26T00:00:00",
          "1998-10-27T00:00:00",
          "1998-10-28T00:00:00",
          "1998-10-29T00:00:00",
          "1998-10-30T00:00:00",
          "1998-11-02T00:00:00",
          "1998-11-03T00:00:00",
          "1998-11-04T00:00:00",
          "1998-11-05T00:00:00",
          "1998-11-06T00:00:00",
          "1998-11-09T00:00:00",
          "1998-11-10T00:00:00",
          "1998-11-11T00:00:00",
          "1998-11-12T00:00:00",
          "1998-11-13T00:00:00",
          "1998-11-16T00:00:00",
          "1998-11-17T00:00:00",
          "1998-11-18T00:00:00",
          "1998-11-19T00:00:00",
          "1998-11-20T00:00:00",
          "1998-11-23T00:00:00",
          "1998-11-24T00:00:00",
          "1998-11-25T00:00:00",
          "1998-11-27T00:00:00",
          "1998-11-30T00:00:00",
          "1998-12-01T00:00:00",
          "1998-12-02T00:00:00",
          "1998-12-03T00:00:00",
          "1998-12-04T00:00:00",
          "1998-12-07T00:00:00",
          "1998-12-08T00:00:00",
          "1998-12-09T00:00:00",
          "1998-12-10T00:00:00",
          "1998-12-11T00:00:00",
          "1998-12-14T00:00:00",
          "1998-12-15T00:00:00",
          "1998-12-16T00:00:00",
          "1998-12-17T00:00:00",
          "1998-12-18T00:00:00",
          "1998-12-21T00:00:00",
          "1998-12-22T00:00:00",
          "1998-12-23T00:00:00",
          "1998-12-24T00:00:00",
          "1998-12-28T00:00:00",
          "1998-12-29T00:00:00",
          "1998-12-30T00:00:00",
          "1998-12-31T00:00:00",
          "1999-01-04T00:00:00",
          "1999-01-05T00:00:00",
          "1999-01-06T00:00:00",
          "1999-01-07T00:00:00",
          "1999-01-08T00:00:00",
          "1999-01-11T00:00:00",
          "1999-01-12T00:00:00",
          "1999-01-13T00:00:00",
          "1999-01-14T00:00:00",
          "1999-01-15T00:00:00",
          "1999-01-19T00:00:00",
          "1999-01-20T00:00:00",
          "1999-01-21T00:00:00",
          "1999-01-22T00:00:00",
          "1999-01-25T00:00:00",
          "1999-01-26T00:00:00",
          "1999-01-27T00:00:00",
          "1999-01-28T00:00:00",
          "1999-01-29T00:00:00",
          "1999-02-01T00:00:00",
          "1999-02-02T00:00:00",
          "1999-02-03T00:00:00",
          "1999-02-04T00:00:00",
          "1999-02-05T00:00:00",
          "1999-02-08T00:00:00",
          "1999-02-09T00:00:00",
          "1999-02-10T00:00:00",
          "1999-02-11T00:00:00",
          "1999-02-12T00:00:00",
          "1999-02-16T00:00:00",
          "1999-02-17T00:00:00",
          "1999-02-18T00:00:00",
          "1999-02-19T00:00:00",
          "1999-02-22T00:00:00",
          "1999-02-23T00:00:00",
          "1999-02-24T00:00:00",
          "1999-02-25T00:00:00",
          "1999-02-26T00:00:00",
          "1999-03-01T00:00:00",
          "1999-03-02T00:00:00",
          "1999-03-03T00:00:00",
          "1999-03-04T00:00:00",
          "1999-03-05T00:00:00",
          "1999-03-08T00:00:00",
          "1999-03-09T00:00:00",
          "1999-03-10T00:00:00",
          "1999-03-11T00:00:00",
          "1999-03-12T00:00:00",
          "1999-03-15T00:00:00",
          "1999-03-16T00:00:00",
          "1999-03-17T00:00:00",
          "1999-03-18T00:00:00",
          "1999-03-19T00:00:00",
          "1999-03-22T00:00:00",
          "1999-03-23T00:00:00",
          "1999-03-24T00:00:00",
          "1999-03-25T00:00:00",
          "1999-03-26T00:00:00",
          "1999-03-29T00:00:00",
          "1999-03-30T00:00:00",
          "1999-03-31T00:00:00",
          "1999-04-01T00:00:00",
          "1999-04-05T00:00:00",
          "1999-04-06T00:00:00",
          "1999-04-07T00:00:00",
          "1999-04-08T00:00:00",
          "1999-04-09T00:00:00",
          "1999-04-12T00:00:00",
          "1999-04-13T00:00:00",
          "1999-04-14T00:00:00",
          "1999-04-15T00:00:00",
          "1999-04-16T00:00:00",
          "1999-04-19T00:00:00",
          "1999-04-20T00:00:00",
          "1999-04-21T00:00:00",
          "1999-04-22T00:00:00",
          "1999-04-23T00:00:00",
          "1999-04-26T00:00:00",
          "1999-04-27T00:00:00",
          "1999-04-28T00:00:00",
          "1999-04-29T00:00:00",
          "1999-04-30T00:00:00",
          "1999-05-03T00:00:00",
          "1999-05-04T00:00:00",
          "1999-05-05T00:00:00",
          "1999-05-06T00:00:00",
          "1999-05-07T00:00:00",
          "1999-05-10T00:00:00",
          "1999-05-11T00:00:00",
          "1999-05-12T00:00:00",
          "1999-05-13T00:00:00",
          "1999-05-14T00:00:00",
          "1999-05-17T00:00:00",
          "1999-05-18T00:00:00",
          "1999-05-19T00:00:00",
          "1999-05-20T00:00:00",
          "1999-05-21T00:00:00",
          "1999-05-24T00:00:00",
          "1999-05-25T00:00:00",
          "1999-05-26T00:00:00",
          "1999-05-27T00:00:00",
          "1999-05-28T00:00:00",
          "1999-06-01T00:00:00",
          "1999-06-02T00:00:00",
          "1999-06-03T00:00:00",
          "1999-06-04T00:00:00",
          "1999-06-07T00:00:00",
          "1999-06-08T00:00:00",
          "1999-06-09T00:00:00",
          "1999-06-10T00:00:00",
          "1999-06-11T00:00:00",
          "1999-06-14T00:00:00",
          "1999-06-15T00:00:00",
          "1999-06-16T00:00:00",
          "1999-06-17T00:00:00",
          "1999-06-18T00:00:00",
          "1999-06-21T00:00:00",
          "1999-06-22T00:00:00",
          "1999-06-23T00:00:00",
          "1999-06-24T00:00:00",
          "1999-06-25T00:00:00",
          "1999-06-28T00:00:00",
          "1999-06-29T00:00:00",
          "1999-06-30T00:00:00",
          "1999-07-01T00:00:00",
          "1999-07-02T00:00:00",
          "1999-07-06T00:00:00",
          "1999-07-07T00:00:00",
          "1999-07-08T00:00:00",
          "1999-07-09T00:00:00",
          "1999-07-12T00:00:00",
          "1999-07-13T00:00:00",
          "1999-07-14T00:00:00",
          "1999-07-15T00:00:00",
          "1999-07-16T00:00:00",
          "1999-07-19T00:00:00",
          "1999-07-20T00:00:00",
          "1999-07-21T00:00:00",
          "1999-07-22T00:00:00",
          "1999-07-23T00:00:00",
          "1999-07-26T00:00:00",
          "1999-07-27T00:00:00",
          "1999-07-28T00:00:00",
          "1999-07-29T00:00:00",
          "1999-07-30T00:00:00",
          "1999-08-02T00:00:00",
          "1999-08-03T00:00:00",
          "1999-08-04T00:00:00",
          "1999-08-05T00:00:00",
          "1999-08-06T00:00:00",
          "1999-08-09T00:00:00",
          "1999-08-10T00:00:00",
          "1999-08-11T00:00:00",
          "1999-08-12T00:00:00",
          "1999-08-13T00:00:00",
          "1999-08-16T00:00:00",
          "1999-08-17T00:00:00",
          "1999-08-18T00:00:00",
          "1999-08-19T00:00:00",
          "1999-08-20T00:00:00",
          "1999-08-23T00:00:00",
          "1999-08-24T00:00:00",
          "1999-08-25T00:00:00",
          "1999-08-26T00:00:00",
          "1999-08-27T00:00:00",
          "1999-08-30T00:00:00",
          "1999-08-31T00:00:00",
          "1999-09-01T00:00:00",
          "1999-09-02T00:00:00",
          "1999-09-03T00:00:00",
          "1999-09-07T00:00:00",
          "1999-09-08T00:00:00",
          "1999-09-09T00:00:00",
          "1999-09-10T00:00:00",
          "1999-09-13T00:00:00",
          "1999-09-14T00:00:00",
          "1999-09-15T00:00:00",
          "1999-09-16T00:00:00",
          "1999-09-17T00:00:00",
          "1999-09-20T00:00:00",
          "1999-09-21T00:00:00",
          "1999-09-22T00:00:00",
          "1999-09-23T00:00:00",
          "1999-09-24T00:00:00",
          "1999-09-27T00:00:00",
          "1999-09-28T00:00:00",
          "1999-09-29T00:00:00",
          "1999-09-30T00:00:00",
          "1999-10-01T00:00:00",
          "1999-10-04T00:00:00",
          "1999-10-05T00:00:00",
          "1999-10-06T00:00:00",
          "1999-10-07T00:00:00",
          "1999-10-08T00:00:00",
          "1999-10-11T00:00:00",
          "1999-10-12T00:00:00",
          "1999-10-13T00:00:00",
          "1999-10-14T00:00:00",
          "1999-10-15T00:00:00",
          "1999-10-18T00:00:00",
          "1999-10-19T00:00:00",
          "1999-10-20T00:00:00",
          "1999-10-21T00:00:00",
          "1999-10-22T00:00:00",
          "1999-10-25T00:00:00",
          "1999-10-26T00:00:00",
          "1999-10-27T00:00:00",
          "1999-10-28T00:00:00",
          "1999-10-29T00:00:00",
          "1999-11-01T00:00:00",
          "1999-11-02T00:00:00",
          "1999-11-03T00:00:00",
          "1999-11-04T00:00:00",
          "1999-11-05T00:00:00",
          "1999-11-08T00:00:00",
          "1999-11-09T00:00:00",
          "1999-11-10T00:00:00",
          "1999-11-11T00:00:00",
          "1999-11-12T00:00:00",
          "1999-11-15T00:00:00",
          "1999-11-16T00:00:00",
          "1999-11-17T00:00:00",
          "1999-11-18T00:00:00",
          "1999-11-19T00:00:00",
          "1999-11-22T00:00:00",
          "1999-11-23T00:00:00",
          "1999-11-24T00:00:00",
          "1999-11-26T00:00:00",
          "1999-11-29T00:00:00",
          "1999-11-30T00:00:00",
          "1999-12-01T00:00:00",
          "1999-12-02T00:00:00",
          "1999-12-03T00:00:00",
          "1999-12-06T00:00:00",
          "1999-12-07T00:00:00",
          "1999-12-08T00:00:00",
          "1999-12-09T00:00:00",
          "1999-12-10T00:00:00",
          "1999-12-13T00:00:00",
          "1999-12-14T00:00:00",
          "1999-12-15T00:00:00",
          "1999-12-16T00:00:00",
          "1999-12-17T00:00:00",
          "1999-12-20T00:00:00",
          "1999-12-21T00:00:00",
          "1999-12-22T00:00:00",
          "1999-12-23T00:00:00",
          "1999-12-27T00:00:00",
          "1999-12-28T00:00:00",
          "1999-12-29T00:00:00",
          "1999-12-30T00:00:00",
          "1999-12-31T00:00:00",
          "2000-01-03T00:00:00",
          "2000-01-04T00:00:00",
          "2000-01-05T00:00:00",
          "2000-01-06T00:00:00",
          "2000-01-07T00:00:00",
          "2000-01-10T00:00:00",
          "2000-01-11T00:00:00",
          "2000-01-12T00:00:00",
          "2000-01-13T00:00:00",
          "2000-01-14T00:00:00",
          "2000-01-18T00:00:00",
          "2000-01-19T00:00:00",
          "2000-01-20T00:00:00",
          "2000-01-21T00:00:00",
          "2000-01-24T00:00:00",
          "2000-01-25T00:00:00",
          "2000-01-26T00:00:00",
          "2000-01-27T00:00:00",
          "2000-01-28T00:00:00",
          "2000-01-31T00:00:00",
          "2000-02-01T00:00:00"
         ],
         "xaxis": "x",
         "y": [
          null,
          null,
          null,
          null,
          null,
          null,
          null,
          null,
          null,
          null,
          null,
          null,
          null,
          null,
          null,
          null,
          null,
          null,
          null,
          null,
          null,
          null,
          null,
          null,
          null,
          null,
          null,
          null,
          null,
          null,
          null,
          null,
          null,
          null,
          null,
          null,
          null,
          null,
          null,
          null,
          null,
          null,
          null,
          null,
          null,
          null,
          null,
          null,
          null,
          null,
          642.489990234375,
          645,
          641.6099853515625,
          643.6099853515625,
          645.0700073242188,
          647.8900146484375,
          651.5800170898438,
          650.1699829101562,
          652.8699951171875,
          653.4600219726562,
          654.1599731445312,
          654.1699829101562,
          654.5800170898438,
          643.3800048828125,
          641.6300048828125,
          640.8099975585938,
          638.260009765625,
          644.77001953125,
          645.4400024414062,
          652.0900268554688,
          661.510009765625,
          665.5999755859375,
          665.4199829101562,
          664.8499755859375,
          668.9099731445312,
          673.1500244140625,
          672.760009765625,
          678.4199829101562,
          676,
          678.510009765625,
          672.22998046875,
          667.9299926757812,
          671.7000122070312,
          669.1199951171875,
          667.6799926757812,
          672.5599975585938,
          678.4400024414062,
          673.030029296875,
          673.3099975585938,
          672.1599731445312,
          670.969970703125,
          669.0399780273438,
          667.9199829101562,
          665.8499755859375,
          665.1599731445312,
          662.0599975585938,
          661.9600219726562,
          662.0999755859375,
          666.8400268554688,
          668.8499755859375,
          668.47998046875,
          664.3900146484375,
          668.5499877929688,
          670.6300048828125,
          675.8800048828125,
          673.6099853515625,
          672.4000244140625,
          657.4400024414062,
          652.5399780273438,
          654.75,
          656.0599975585938,
          645.6699829101562,
          646.1900024414062,
          629.7999877929688,
          628.3699951171875,
          634.0700073242188,
          643.5599975585938,
          638.72998046875,
          633.77001953125,
          626.8699951171875,
          626.6500244140625,
          631.1699829101562,
          635.9000244140625,
          630.9099731445312,
          635.260009765625,
          639.9500122070312,
          650.02001953125,
          662.489990234375,
          660.22998046875,
          662.3800048828125,
          664.1599731445312,
          662.5900268554688,
          662.0999755859375,
          665.77001953125,
          660.2000122070312,
          662.0499877929688,
          662.280029296875,
          665.2100219726562,
          666.5800170898438,
          665.6900024414062,
          665.0700073242188,
          670.6799926757812,
          667.030029296875,
          663.8800048828125,
          666.4000244140625,
          664.8099975585938,
          657.4000244140625,
          651.989990234375,
          654.719970703125,
          655.6099853515625,
          649.4400024414062,
          655.6799926757812,
          663.760009765625,
          663.8099975585938,
          667.280029296875,
          671.1500244140625,
          680.5399780273438,
          683.97998046875,
          682.9400024414062,
          681.469970703125,
          683,
          687.030029296875,
          686.47998046875,
          685.6099853515625,
          685.8300170898438,
          685.8599853515625,
          686.1900024414062,
          687.3300170898438,
          689.0800170898438,
          694.010009765625,
          692.780029296875,
          701.4600219726562,
          703.3400268554688,
          700.6400146484375,
          696.739990234375,
          694.6099853515625,
          700.6599731445312,
          703.5399780273438,
          702.5700073242188,
          704.4099731445312,
          706.989990234375,
          710.8200073242188,
          709.8499755859375,
          706.5700073242188,
          707.27001953125,
          702.2899780273438,
          700.9199829101562,
          697.260009765625,
          701.5,
          700.9000244140625,
          705.27001953125,
          703.77001953125,
          706.72998046875,
          714.1400146484375,
          724.5900268554688,
          727.6500244140625,
          730.8200073242188,
          731.8699951171875,
          729.5599975585938,
          731.1300048828125,
          735.8800048828125,
          737.6199951171875,
          737.02001953125,
          742.1599731445312,
          743.9500122070312,
          742.75,
          748.72998046875,
          757.030029296875,
          755.9600219726562,
          755,
          757.02001953125,
          756.5599975585938,
          748.280029296875,
          745.0999755859375,
          744.3800048828125,
          739.5999755859375,
          749.760009765625,
          747.5399780273438,
          740.72998046875,
          729.2999877929688,
          728.6400146484375,
          720.97998046875,
          726.0399780273438,
          731.5399780273438,
          745.760009765625,
          748.8699951171875,
          746.9199829101562,
          751.030029296875,
          755.8200073242188,
          756.7899780273438,
          753.8499755859375,
          740.739990234375,
          737.010009765625,
          748.030029296875,
          747.6500244140625,
          753.22998046875,
          748.4099731445312,
          754.8499755859375,
          759.5,
          759.510009765625,
          768.8599853515625,
          767.2000122070312,
          769.75,
          776.1699829101562,
          776.7000122070312,
          782.719970703125,
          786.22998046875,
          777.5599975585938,
          770.52001953125,
          765.02001953125,
          765.02001953125,
          772.5,
          784.1699829101562,
          786.1599731445312,
          786.72998046875,
          789.260009765625,
          778.280029296875,
          780.1500244140625,
          789.5599975585938,
          785.4299926757812,
          789.5900268554688,
          802.77001953125,
          811.8200073242188,
          808.47998046875,
          816.2899780273438,
          812.489990234375,
          802.7999877929688,
          801.77001953125,
          810.280029296875,
          812.030029296875,
          805.6799926757812,
          795.0700073242188,
          790.8200073242188,
          795.3099975585938,
          790.9500122070312,
          801.989990234375,
          798.5599975585938,
          804.969970703125,
          813.6500244140625,
          811.3400268554688,
          804.260009765625,
          789.5599975585938,
          793.1699829101562,
          795.7100219726562,
          789.6599731445312,
          785.77001953125,
          782.6500244140625,
          784.0999755859375,
          790.8900146484375,
          789.0700073242188,
          790.5,
          773.8800048828125,
          757.1199951171875,
          759.6400146484375,
          750.1099853515625,
          750.3200073242188,
          757.9000244140625,
          762.1300048828125,
          766.1199951171875,
          760.5999755859375,
          758.3400268554688,
          737.6500244140625,
          743.72998046875,
          754.719970703125,
          763.530029296875,
          761.77001953125,
          766.3400268554688,
          760.3699951171875,
          774.6099853515625,
          773.6400146484375,
          771.1799926757812,
          765.3699951171875,
          772.9600219726562,
          794.0499877929688,
          801.3400268554688,
          798.530029296875,
          812.969970703125,
          830.2899780273438,
          827.760009765625,
          815.6199951171875,
          820.260009765625,
          824.780029296875,
          837.6599731445312,
          833.1300048828125,
          836.0399780273438,
          841.8800048828125,
          829.75,
          833.27001953125,
          841.6599731445312,
          839.3499755859375,
          835.6599731445312,
          847.030029296875,
          849.7100219726562,
          847.2100219726562,
          844.0800170898438,
          848.280029296875,
          846.3599853515625,
          845.47998046875,
          840.1099853515625,
          843.4299926757812,
          858.010009765625,
          862.9099731445312,
          865.27001953125,
          869.5700073242188,
          883.4600219726562,
          893.27001953125,
          893.9000244140625,
          894.4199829101562,
          889.0599975585938,
          897.989990234375,
          898.7000122070312,
          878.6199951171875,
          896.3400268554688,
          888.989990234375,
          883.6799926757812,
          887.2999877929688,
          885.1400146484375,
          891.030029296875,
          904.030029296875,
          916.9199829101562,
          912.2000122070312,
          918.75,
          907.5399780273438,
          913.780029296875,
          916.6799926757812,
          918.3800048828125,
          925.760009765625,
          936.5900268554688,
          931.6099853515625,
          915.2999877929688,
          912.9400024414062,
          933.97998046875,
          936.5599975585938,
          940.2999877929688,
          938.7899780273438,
          936.4500122070312,
          942.2899780273438,
          952.2899780273438,
          954.3099975585938,
          947.1400146484375,
          950.2999877929688,
          952.3699951171875,
          960.3200073242188,
          951.1900024414062,
          933.5399780273438,
          937,
          926.530029296875,
          922.02001953125,
          924.77001953125,
          900.8099975585938,
          912.489990234375,
          926.010009765625,
          939.3499755859375,
          925.0499877929688,
          923.5399780273438,
          920.1599731445312,
          913.02001953125,
          913.7000122070312,
          903.6699829101562,
          899.469970703125,
          927.5800170898438,
          927.8599853515625,
          930.8699951171875,
          929.0499877929688,
          931.2000122070312,
          933.6199951171875,
          919.030029296875,
          912.5900268554688,
          923.9099731445312,
          919.77001953125,
          945.6400146484375,
          943,
          947.2899780273438,
          950.510009765625,
          955.4299926757812,
          951.9299926757812,
          944.47998046875,
          937.9099731445312,
          945.219970703125,
          953.3400268554688,
          947.280029296875,
          955.4099731445312,
          960.4600219726562,
          965.030029296875,
          972.6900024414062,
          983.1199951171875,
          973.8400268554688,
          970.6199951171875,
          966.97998046875,
          968.0999755859375,
          970.280029296875,
          965.719970703125,
          955.25,
          944.1599731445312,
          955.6099853515625,
          972.280029296875,
          968.489990234375,
          950.6900024414062,
          941.6400146484375,
          876.989990234375,
          921.8499755859375,
          919.1599731445312,
          903.6799926757812,
          914.6199951171875,
          938.989990234375,
          940.760009765625,
          942.760009765625,
          938.030029296875,
          927.510009765625,
          921.1300048828125,
          923.780029296875,
          905.9600219726562,
          916.6599731445312,
          928.3499755859375,
          946.2000122070312,
          938.22998046875,
          944.5900268554688,
          958.97998046875,
          963.0900268554688,
          946.6699829101562,
          950.8200073242188,
          951.6400146484375,
          955.4000244140625,
          974.77001953125,
          971.6799926757812,
          976.77001953125,
          973.0999755859375,
          983.7899780273438,
          982.3699951171875,
          975.780029296875,
          969.7899780273438,
          954.9400024414062,
          953.3900146484375,
          963.3900146484375,
          968.0399780273438,
          965.5399780273438,
          955.2999877929688,
          946.780029296875,
          953.7000122070312,
          939.1300048828125,
          932.7000122070312,
          936.4600219726562,
          953.3499755859375,
          970.8400268554688,
          970.4299926757812,
          975.0399780273438,
          977.0700073242188,
          966.5800170898438,
          964,
          956.0499877929688,
          927.6900024414062,
          939.2100219726562,
          952.1199951171875,
          957.9400024414062,
          950.72998046875,
          961.510009765625,
          978.5999755859375,
          970.8099975585938,
          963.0399780273438,
          957.5900268554688,
          956.9500122070312,
          969.02001953125,
          977.4600219726562,
          985.489990234375,
          980.280029296875,
          1001.27001953125,
          1006,
          1006.9000244140625,
          1003.5399780273438,
          1012.4600219726562,
          1010.739990234375,
          1019.010009765625,
          1020.010009765625,
          1024.1400146484375,
          1020.0900268554688,
          1022.760009765625,
          1032.0799560546875,
          1028.280029296875,
          1034.2099609375,
          1038.1400146484375,
          1030.56005859375,
          1042.9000244140625,
          1048.6700439453125,
          1049.3399658203125,
          1047.699951171875,
          1052.02001953125,
          1047.3299560546875,
          1035.050048828125,
          1055.68994140625,
          1052.31005859375,
          1064.25,
          1068.469970703125,
          1069.9200439453125,
          1068.6099853515625,
          1079.27001953125,
          1080.449951171875,
          1085.52001953125,
          1089.739990234375,
          1099.1600341796875,
          1095.550048828125,
          1105.6500244140625,
          1101.9300537109375,
          1100.800048828125,
          1095.43994140625,
          1093.5999755859375,
          1101.75,
          1108.1500244140625,
          1120.010009765625,
          1122.699951171875,
          1121.3800048828125,
          1109.550048828125,
          1101.6500244140625,
          1110.6700439453125,
          1109.68994140625,
          1115.75,
          1119.3199462890625,
          1108.1700439453125,
          1122.719970703125,
          1123.6500244140625,
          1126.6700439453125,
          1130.5400390625,
          1119.5799560546875,
          1107.9000244140625,
          1086.5400390625,
          1085.1099853515625,
          1094.6199951171875,
          1111.75,
          1121,
          1122.0699462890625,
          1115.5,
          1104.9200439453125,
          1095.1400146484375,
          1108.1400146484375,
          1106.6400146484375,
          1115.7900390625,
          1118.8599853515625,
          1117.3699951171875,
          1108.72998046875,
          1105.8199462890625,
          1109.52001953125,
          1119.06005859375,
          1114.6400146484375,
          1110.469970703125,
          1094.02001953125,
          1092.22998046875,
          1097.5999755859375,
          1090.8199462890625,
          1090.97998046875,
          1093.219970703125,
          1082.72998046875,
          1094.8299560546875,
          1113.8599853515625,
          1115.719970703125,
          1118.4100341796875,
          1112.280029296875,
          1094.5799560546875,
          1098.8399658203125,
          1077.010009765625,
          1087.5899658203125,
          1107.1099853515625,
          1106.3699951171875,
          1100.6500244140625,
          1103.2099609375,
          1119.489990234375,
          1132.8800048828125,
          1129.280029296875,
          1133.199951171875,
          1138.489990234375,
          1133.8399658203125,
          1148.56005859375,
          1146.4200439453125,
          1157.3299560546875,
          1154.6600341796875,
          1166.3800048828125,
          1158.56005859375,
          1164.3299560546875,
          1165.18994140625,
          1177.5799560546875,
          1174.81005859375,
          1183.989990234375,
          1186.75,
          1184.0999755859375,
          1165.0699462890625,
          1164.0799560546875,
          1139.75,
          1140.800048828125,
          1147.27001953125,
          1130.239990234375,
          1125.2099609375,
          1142.949951171875,
          1120.6700439453125,
          1112.43994140625,
          1072.1199951171875,
          1081.4300537109375,
          1089.6300048828125,
          1089.449951171875,
          1083.1400146484375,
          1068.97998046875,
          1084.219970703125,
          1074.9100341796875,
          1062.75,
          1083.6700439453125,
          1101.199951171875,
          1098.06005859375,
          1091.5999755859375,
          1081.239990234375,
          1088.1400146484375,
          1092.8499755859375,
          1084.18994140625,
          1042.5899658203125,
          1027.1400146484375,
          957.280029296875,
          994.260009765625,
          990.47998046875,
          982.260009765625,
          973.8900146484375,
          1023.4600219726562,
          1006.2000122070312,
          980.1900024414062,
          1009.0599975585938,
          1029.719970703125,
          1037.6800537109375,
          1045.47998046875,
          1018.8699951171875,
          1020.0900268554688,
          1023.8900146484375,
          1029.6300048828125,
          1066.0899658203125,
          1042.719970703125,
          1044.75,
          1048.68994140625,
          1049.02001953125,
          1017.010009765625,
          986.3900146484375,
          1002.5999755859375,
          988.5599975585938,
          984.5900268554688,
          970.6799926757812,
          959.4400024414062,
          984.3900146484375,
          997.7100219726562,
          994.7999877929688,
          1005.530029296875,
          1047.489990234375,
          1056.4200439453125,
          1062.3900146484375,
          1063.9300537109375,
          1069.9200439453125,
          1078.47998046875,
          1070.6700439453125,
          1072.3199462890625,
          1065.3399658203125,
          1068.0899658203125,
          1085.9300537109375,
          1098.6700439453125,
          1111.5999755859375,
          1110.8399658203125,
          1118.6700439453125,
          1133.8499755859375,
          1141.010009765625,
          1130.199951171875,
          1128.260009765625,
          1120.969970703125,
          1117.68994140625,
          1125.719970703125,
          1135.8699951171875,
          1139.3199462890625,
          1144.47998046875,
          1152.6099853515625,
          1163.550048828125,
          1188.2099609375,
          1182.989990234375,
          1186.8699951171875,
          1192.3299560546875,
          1163.6300048828125,
          1175.280029296875,
          1171.25,
          1150.1400146484375,
          1176.739990234375,
          1187.699951171875,
          1181.3800048828125,
          1183.489990234375,
          1165.02001953125,
          1166.4599609375,
          1141.199951171875,
          1162.8299560546875,
          1161.93994140625,
          1179.97998046875,
          1188.030029296875,
          1202.8399658203125,
          1203.5699462890625,
          1228.5400390625,
          1226.27001953125,
          1225.489990234375,
          1241.81005859375,
          1231.9300537109375,
          1229.22998046875,
          1228.0999755859375,
          1244.780029296875,
          1272.3399658203125,
          1269.72998046875,
          1275.0899658203125,
          1263.8800048828125,
          1239.510009765625,
          1234.4000244140625,
          1212.18994140625,
          1243.260009765625,
          1252,
          1256.6199951171875,
          1235.1600341796875,
          1225.18994140625,
          1233.97998046875,
          1252.31005859375,
          1243.1700439453125,
          1265.3699951171875,
          1279.6400146484375,
          1273,
          1261.989990234375,
          1272.0699462890625,
          1248.489990234375,
          1239.4000244140625,
          1243.77001953125,
          1216.1400146484375,
          1223.550048828125,
          1254.0400390625,
          1230.1300048828125,
          1241.8699951171875,
          1224.030029296875,
          1237.280029296875,
          1239.219970703125,
          1272.1400146484375,
          1271.1800537109375,
          1253.4100341796875,
          1245.02001953125,
          1238.3299560546875,
          1236.1600341796875,
          1225.5,
          1227.699951171875,
          1246.6400146484375,
          1275.469970703125,
          1282.72998046875,
          1279.8399658203125,
          1286.8399658203125,
          1297.6800537109375,
          1294.5899658203125,
          1307.260009765625,
          1306.3800048828125,
          1297.8199462890625,
          1316.550048828125,
          1299.2900390625,
          1297.010009765625,
          1262.1400146484375,
          1268.5899658203125,
          1289.989990234375,
          1282.800048828125,
          1310.1700439453125,
          1300.75,
          1286.3699951171875,
          1293.719970703125,
          1321.1199951171875,
          1317.8900146484375,
          1326.8900146484375,
          1343.97998046875,
          1348.3499755859375,
          1358.6300048828125,
          1349.8199462890625,
          1328.43994140625,
          1322.8499755859375,
          1319,
          1289.47998046875,
          1306.1700439453125,
          1336.1199951171875,
          1358.8199462890625,
          1356.8499755859375,
          1360.0400390625,
          1362.800048828125,
          1350.9100341796875,
          1342.8299560546875,
          1335.1800537109375,
          1354.6300048828125,
          1332,
          1347.31005859375,
          1332.050048828125,
          1345,
          1340.300048828125,
          1355.6099853515625,
          1364,
          1367.56005859375,
          1337.800048828125,
          1339.489990234375,
          1333.3199462890625,
          1344.22998046875,
          1338.8299560546875,
          1330.2900390625,
          1306.6500244140625,
          1284.4000244140625,
          1304.760009765625,
          1281.4100341796875,
          1301.8399658203125,
          1294.260009765625,
          1294.81005859375,
          1299.5400390625,
          1327.75,
          1334.52001953125,
          1317.3299560546875,
          1318.6400146484375,
          1302.8199462890625,
          1293.6400146484375,
          1294,
          1301.1600341796875,
          1330.4100341796875,
          1339.9000244140625,
          1342.8399658203125,
          1349,
          1335.8800048828125,
          1333.06005859375,
          1315.780029296875,
          1315.31005859375,
          1331.3499755859375,
          1351.449951171875,
          1372.7099609375,
          1380.9599609375,
          1391.219970703125,
          1388.1199951171875,
          1395.8599853515625,
          1394.4200439453125,
          1403.280029296875,
          1399.0999755859375,
          1393.56005859375,
          1398.1700439453125,
          1409.6199951171875,
          1418.780029296875,
          1407.6500244140625,
          1377.0999755859375,
          1379.2900390625,
          1360.969970703125,
          1356.93994140625,
          1347.760009765625,
          1362.8399658203125,
          1365.4000244140625,
          1341.030029296875,
          1328.719970703125,
          1328.050048828125,
          1322.1800537109375,
          1305.3299560546875,
          1313.7099609375,
          1300.2900390625,
          1297.800048828125,
          1281.4300537109375,
          1301.9300537109375,
          1298.1600341796875,
          1327.6800537109375,
          1330.77001953125,
          1344.1600341796875,
          1332.8399658203125,
          1323.5899658203125,
          1336.6099853515625,
          1360.219970703125,
          1363.5,
          1381.7900390625,
          1362.010009765625,
          1348.27001953125,
          1324.02001953125,
          1320.4100341796875,
          1331.0699462890625,
          1319.1099853515625,
          1357.239990234375,
          1350.449951171875,
          1344.1500244140625,
          1347.6600341796875,
          1351.6600341796875,
          1344.1300048828125,
          1336.2900390625,
          1317.969970703125,
          1318.47998046875,
          1335.4200439453125,
          1335.530029296875,
          1307.5799560546875,
          1310.510009765625,
          1280.4100341796875,
          1277.3599853515625,
          1283.31005859375,
          1282.199951171875,
          1268.3699951171875,
          1282.7099609375,
          1282.81005859375,
          1304.5999755859375,
          1301.3499755859375,
          1325.4000244140625,
          1317.6400146484375,
          1336.02001953125,
          1335.2099609375,
          1313.0400390625,
          1285.550048828125,
          1283.4200439453125,
          1247.4100341796875,
          1254.1300048828125,
          1261.3199462890625,
          1289.4300537109375,
          1283.6099853515625,
          1301.6500244140625,
          1293.6300048828125,
          1281.9100341796875,
          1296.7099609375,
          1342.43994140625,
          1362.9300537109375,
          1354.1199951171875,
          1347.739990234375,
          1354.9300537109375,
          1362.6400146484375,
          1370.22998046875,
          1377.010009765625,
          1365.280029296875,
          1373.4599609375,
          1381.4599609375,
          1396.06005859375,
          1394.3900146484375,
          1420.0699462890625,
          1410.7099609375,
          1424.93994140625,
          1422,
          1420.93994140625,
          1404.6400146484375,
          1417.0799560546875,
          1416.6199951171875,
          1407.8299560546875,
          1388.9100341796875,
          1397.719970703125,
          1409.0400390625,
          1433.300048828125,
          1423.3299560546875,
          1409.1700439453125,
          1403.8800048828125,
          1408.1099853515625,
          1417.0400390625,
          1415.219970703125,
          1403.1700439453125,
          1413.3299560546875,
          1418.780029296875,
          1421.030029296875,
          1418.0899658203125,
          1433.4300537109375,
          1436.1300048828125,
          1458.3399658203125,
          1457.0999755859375,
          1457.6600341796875,
          1463.4599609375,
          1464.469970703125,
          1469.25,
          1455.219970703125,
          1399.4200439453125,
          1402.1099853515625,
          1403.449951171875,
          1441.469970703125,
          1457.5999755859375,
          1438.56005859375,
          1432.25,
          1449.6800537109375,
          1465.1500244140625,
          1455.1400146484375,
          1455.9000244140625,
          1445.5699462890625,
          1441.3599853515625,
          1401.530029296875,
          1410.030029296875,
          1404.0899658203125,
          1398.56005859375,
          1360.1600341796875,
          1394.4599609375,
          null
         ],
         "yaxis": "y"
        },
        {
         "name": "norm",
         "type": "scatter",
         "x": [
          "1996-02-01T00:00:00",
          "1996-02-02T00:00:00",
          "1996-02-05T00:00:00",
          "1996-02-06T00:00:00",
          "1996-02-07T00:00:00",
          "1996-02-08T00:00:00",
          "1996-02-09T00:00:00",
          "1996-02-12T00:00:00",
          "1996-02-13T00:00:00",
          "1996-02-14T00:00:00",
          "1996-02-15T00:00:00",
          "1996-02-16T00:00:00",
          "1996-02-20T00:00:00",
          "1996-02-21T00:00:00",
          "1996-02-22T00:00:00",
          "1996-02-23T00:00:00",
          "1996-02-26T00:00:00",
          "1996-02-27T00:00:00",
          "1996-02-28T00:00:00",
          "1996-02-29T00:00:00",
          "1996-03-01T00:00:00",
          "1996-03-04T00:00:00",
          "1996-03-05T00:00:00",
          "1996-03-06T00:00:00",
          "1996-03-07T00:00:00",
          "1996-03-08T00:00:00",
          "1996-03-11T00:00:00",
          "1996-03-12T00:00:00",
          "1996-03-13T00:00:00",
          "1996-03-14T00:00:00",
          "1996-03-15T00:00:00",
          "1996-03-18T00:00:00",
          "1996-03-19T00:00:00",
          "1996-03-20T00:00:00",
          "1996-03-21T00:00:00",
          "1996-03-22T00:00:00",
          "1996-03-25T00:00:00",
          "1996-03-26T00:00:00",
          "1996-03-27T00:00:00",
          "1996-03-28T00:00:00",
          "1996-03-29T00:00:00",
          "1996-04-01T00:00:00",
          "1996-04-02T00:00:00",
          "1996-04-03T00:00:00",
          "1996-04-04T00:00:00",
          "1996-04-08T00:00:00",
          "1996-04-09T00:00:00",
          "1996-04-10T00:00:00",
          "1996-04-11T00:00:00",
          "1996-04-12T00:00:00",
          "1996-04-15T00:00:00",
          "1996-04-16T00:00:00",
          "1996-04-17T00:00:00",
          "1996-04-18T00:00:00",
          "1996-04-19T00:00:00",
          "1996-04-22T00:00:00",
          "1996-04-23T00:00:00",
          "1996-04-24T00:00:00",
          "1996-04-25T00:00:00",
          "1996-04-26T00:00:00",
          "1996-04-29T00:00:00",
          "1996-04-30T00:00:00",
          "1996-05-01T00:00:00",
          "1996-05-02T00:00:00",
          "1996-05-03T00:00:00",
          "1996-05-06T00:00:00",
          "1996-05-07T00:00:00",
          "1996-05-08T00:00:00",
          "1996-05-09T00:00:00",
          "1996-05-10T00:00:00",
          "1996-05-13T00:00:00",
          "1996-05-14T00:00:00",
          "1996-05-15T00:00:00",
          "1996-05-16T00:00:00",
          "1996-05-17T00:00:00",
          "1996-05-20T00:00:00",
          "1996-05-21T00:00:00",
          "1996-05-22T00:00:00",
          "1996-05-23T00:00:00",
          "1996-05-24T00:00:00",
          "1996-05-28T00:00:00",
          "1996-05-29T00:00:00",
          "1996-05-30T00:00:00",
          "1996-05-31T00:00:00",
          "1996-06-03T00:00:00",
          "1996-06-04T00:00:00",
          "1996-06-05T00:00:00",
          "1996-06-06T00:00:00",
          "1996-06-07T00:00:00",
          "1996-06-10T00:00:00",
          "1996-06-11T00:00:00",
          "1996-06-12T00:00:00",
          "1996-06-13T00:00:00",
          "1996-06-14T00:00:00",
          "1996-06-17T00:00:00",
          "1996-06-18T00:00:00",
          "1996-06-19T00:00:00",
          "1996-06-20T00:00:00",
          "1996-06-21T00:00:00",
          "1996-06-24T00:00:00",
          "1996-06-25T00:00:00",
          "1996-06-26T00:00:00",
          "1996-06-27T00:00:00",
          "1996-06-28T00:00:00",
          "1996-07-01T00:00:00",
          "1996-07-02T00:00:00",
          "1996-07-03T00:00:00",
          "1996-07-05T00:00:00",
          "1996-07-08T00:00:00",
          "1996-07-09T00:00:00",
          "1996-07-10T00:00:00",
          "1996-07-11T00:00:00",
          "1996-07-12T00:00:00",
          "1996-07-15T00:00:00",
          "1996-07-16T00:00:00",
          "1996-07-17T00:00:00",
          "1996-07-18T00:00:00",
          "1996-07-19T00:00:00",
          "1996-07-22T00:00:00",
          "1996-07-23T00:00:00",
          "1996-07-24T00:00:00",
          "1996-07-25T00:00:00",
          "1996-07-26T00:00:00",
          "1996-07-29T00:00:00",
          "1996-07-30T00:00:00",
          "1996-07-31T00:00:00",
          "1996-08-01T00:00:00",
          "1996-08-02T00:00:00",
          "1996-08-05T00:00:00",
          "1996-08-06T00:00:00",
          "1996-08-07T00:00:00",
          "1996-08-08T00:00:00",
          "1996-08-09T00:00:00",
          "1996-08-12T00:00:00",
          "1996-08-13T00:00:00",
          "1996-08-14T00:00:00",
          "1996-08-15T00:00:00",
          "1996-08-16T00:00:00",
          "1996-08-19T00:00:00",
          "1996-08-20T00:00:00",
          "1996-08-21T00:00:00",
          "1996-08-22T00:00:00",
          "1996-08-23T00:00:00",
          "1996-08-26T00:00:00",
          "1996-08-27T00:00:00",
          "1996-08-28T00:00:00",
          "1996-08-29T00:00:00",
          "1996-08-30T00:00:00",
          "1996-09-03T00:00:00",
          "1996-09-04T00:00:00",
          "1996-09-05T00:00:00",
          "1996-09-06T00:00:00",
          "1996-09-09T00:00:00",
          "1996-09-10T00:00:00",
          "1996-09-11T00:00:00",
          "1996-09-12T00:00:00",
          "1996-09-13T00:00:00",
          "1996-09-16T00:00:00",
          "1996-09-17T00:00:00",
          "1996-09-18T00:00:00",
          "1996-09-19T00:00:00",
          "1996-09-20T00:00:00",
          "1996-09-23T00:00:00",
          "1996-09-24T00:00:00",
          "1996-09-25T00:00:00",
          "1996-09-26T00:00:00",
          "1996-09-27T00:00:00",
          "1996-09-30T00:00:00",
          "1996-10-01T00:00:00",
          "1996-10-02T00:00:00",
          "1996-10-03T00:00:00",
          "1996-10-04T00:00:00",
          "1996-10-07T00:00:00",
          "1996-10-08T00:00:00",
          "1996-10-09T00:00:00",
          "1996-10-10T00:00:00",
          "1996-10-11T00:00:00",
          "1996-10-14T00:00:00",
          "1996-10-15T00:00:00",
          "1996-10-16T00:00:00",
          "1996-10-17T00:00:00",
          "1996-10-18T00:00:00",
          "1996-10-21T00:00:00",
          "1996-10-22T00:00:00",
          "1996-10-23T00:00:00",
          "1996-10-24T00:00:00",
          "1996-10-25T00:00:00",
          "1996-10-28T00:00:00",
          "1996-10-29T00:00:00",
          "1996-10-30T00:00:00",
          "1996-10-31T00:00:00",
          "1996-11-01T00:00:00",
          "1996-11-04T00:00:00",
          "1996-11-05T00:00:00",
          "1996-11-06T00:00:00",
          "1996-11-07T00:00:00",
          "1996-11-08T00:00:00",
          "1996-11-11T00:00:00",
          "1996-11-12T00:00:00",
          "1996-11-13T00:00:00",
          "1996-11-14T00:00:00",
          "1996-11-15T00:00:00",
          "1996-11-18T00:00:00",
          "1996-11-19T00:00:00",
          "1996-11-20T00:00:00",
          "1996-11-21T00:00:00",
          "1996-11-22T00:00:00",
          "1996-11-25T00:00:00",
          "1996-11-26T00:00:00",
          "1996-11-27T00:00:00",
          "1996-11-29T00:00:00",
          "1996-12-02T00:00:00",
          "1996-12-03T00:00:00",
          "1996-12-04T00:00:00",
          "1996-12-05T00:00:00",
          "1996-12-06T00:00:00",
          "1996-12-09T00:00:00",
          "1996-12-10T00:00:00",
          "1996-12-11T00:00:00",
          "1996-12-12T00:00:00",
          "1996-12-13T00:00:00",
          "1996-12-16T00:00:00",
          "1996-12-17T00:00:00",
          "1996-12-18T00:00:00",
          "1996-12-19T00:00:00",
          "1996-12-20T00:00:00",
          "1996-12-23T00:00:00",
          "1996-12-24T00:00:00",
          "1996-12-26T00:00:00",
          "1996-12-27T00:00:00",
          "1996-12-30T00:00:00",
          "1996-12-31T00:00:00",
          "1997-01-02T00:00:00",
          "1997-01-03T00:00:00",
          "1997-01-06T00:00:00",
          "1997-01-07T00:00:00",
          "1997-01-08T00:00:00",
          "1997-01-09T00:00:00",
          "1997-01-10T00:00:00",
          "1997-01-13T00:00:00",
          "1997-01-14T00:00:00",
          "1997-01-15T00:00:00",
          "1997-01-16T00:00:00",
          "1997-01-17T00:00:00",
          "1997-01-20T00:00:00",
          "1997-01-21T00:00:00",
          "1997-01-22T00:00:00",
          "1997-01-23T00:00:00",
          "1997-01-24T00:00:00",
          "1997-01-27T00:00:00",
          "1997-01-28T00:00:00",
          "1997-01-29T00:00:00",
          "1997-01-30T00:00:00",
          "1997-01-31T00:00:00",
          "1997-02-03T00:00:00",
          "1997-02-04T00:00:00",
          "1997-02-05T00:00:00",
          "1997-02-06T00:00:00",
          "1997-02-07T00:00:00",
          "1997-02-10T00:00:00",
          "1997-02-11T00:00:00",
          "1997-02-12T00:00:00",
          "1997-02-13T00:00:00",
          "1997-02-14T00:00:00",
          "1997-02-18T00:00:00",
          "1997-02-19T00:00:00",
          "1997-02-20T00:00:00",
          "1997-02-21T00:00:00",
          "1997-02-24T00:00:00",
          "1997-02-25T00:00:00",
          "1997-02-26T00:00:00",
          "1997-02-27T00:00:00",
          "1997-02-28T00:00:00",
          "1997-03-03T00:00:00",
          "1997-03-04T00:00:00",
          "1997-03-05T00:00:00",
          "1997-03-06T00:00:00",
          "1997-03-07T00:00:00",
          "1997-03-10T00:00:00",
          "1997-03-11T00:00:00",
          "1997-03-12T00:00:00",
          "1997-03-13T00:00:00",
          "1997-03-14T00:00:00",
          "1997-03-17T00:00:00",
          "1997-03-18T00:00:00",
          "1997-03-19T00:00:00",
          "1997-03-20T00:00:00",
          "1997-03-21T00:00:00",
          "1997-03-24T00:00:00",
          "1997-03-25T00:00:00",
          "1997-03-26T00:00:00",
          "1997-03-27T00:00:00",
          "1997-03-31T00:00:00",
          "1997-04-01T00:00:00",
          "1997-04-02T00:00:00",
          "1997-04-03T00:00:00",
          "1997-04-04T00:00:00",
          "1997-04-07T00:00:00",
          "1997-04-08T00:00:00",
          "1997-04-09T00:00:00",
          "1997-04-10T00:00:00",
          "1997-04-11T00:00:00",
          "1997-04-14T00:00:00",
          "1997-04-15T00:00:00",
          "1997-04-16T00:00:00",
          "1997-04-17T00:00:00",
          "1997-04-18T00:00:00",
          "1997-04-21T00:00:00",
          "1997-04-22T00:00:00",
          "1997-04-23T00:00:00",
          "1997-04-24T00:00:00",
          "1997-04-25T00:00:00",
          "1997-04-28T00:00:00",
          "1997-04-29T00:00:00",
          "1997-04-30T00:00:00",
          "1997-05-01T00:00:00",
          "1997-05-02T00:00:00",
          "1997-05-05T00:00:00",
          "1997-05-06T00:00:00",
          "1997-05-07T00:00:00",
          "1997-05-08T00:00:00",
          "1997-05-09T00:00:00",
          "1997-05-12T00:00:00",
          "1997-05-13T00:00:00",
          "1997-05-14T00:00:00",
          "1997-05-15T00:00:00",
          "1997-05-16T00:00:00",
          "1997-05-19T00:00:00",
          "1997-05-20T00:00:00",
          "1997-05-21T00:00:00",
          "1997-05-22T00:00:00",
          "1997-05-23T00:00:00",
          "1997-05-27T00:00:00",
          "1997-05-28T00:00:00",
          "1997-05-29T00:00:00",
          "1997-05-30T00:00:00",
          "1997-06-02T00:00:00",
          "1997-06-03T00:00:00",
          "1997-06-04T00:00:00",
          "1997-06-05T00:00:00",
          "1997-06-06T00:00:00",
          "1997-06-09T00:00:00",
          "1997-06-10T00:00:00",
          "1997-06-11T00:00:00",
          "1997-06-12T00:00:00",
          "1997-06-13T00:00:00",
          "1997-06-16T00:00:00",
          "1997-06-17T00:00:00",
          "1997-06-18T00:00:00",
          "1997-06-19T00:00:00",
          "1997-06-20T00:00:00",
          "1997-06-23T00:00:00",
          "1997-06-24T00:00:00",
          "1997-06-25T00:00:00",
          "1997-06-26T00:00:00",
          "1997-06-27T00:00:00",
          "1997-06-30T00:00:00",
          "1997-07-01T00:00:00",
          "1997-07-02T00:00:00",
          "1997-07-03T00:00:00",
          "1997-07-07T00:00:00",
          "1997-07-08T00:00:00",
          "1997-07-09T00:00:00",
          "1997-07-10T00:00:00",
          "1997-07-11T00:00:00",
          "1997-07-14T00:00:00",
          "1997-07-15T00:00:00",
          "1997-07-16T00:00:00",
          "1997-07-17T00:00:00",
          "1997-07-18T00:00:00",
          "1997-07-21T00:00:00",
          "1997-07-22T00:00:00",
          "1997-07-23T00:00:00",
          "1997-07-24T00:00:00",
          "1997-07-25T00:00:00",
          "1997-07-28T00:00:00",
          "1997-07-29T00:00:00",
          "1997-07-30T00:00:00",
          "1997-07-31T00:00:00",
          "1997-08-01T00:00:00",
          "1997-08-04T00:00:00",
          "1997-08-05T00:00:00",
          "1997-08-06T00:00:00",
          "1997-08-07T00:00:00",
          "1997-08-08T00:00:00",
          "1997-08-11T00:00:00",
          "1997-08-12T00:00:00",
          "1997-08-13T00:00:00",
          "1997-08-14T00:00:00",
          "1997-08-15T00:00:00",
          "1997-08-18T00:00:00",
          "1997-08-19T00:00:00",
          "1997-08-20T00:00:00",
          "1997-08-21T00:00:00",
          "1997-08-22T00:00:00",
          "1997-08-25T00:00:00",
          "1997-08-26T00:00:00",
          "1997-08-27T00:00:00",
          "1997-08-28T00:00:00",
          "1997-08-29T00:00:00",
          "1997-09-02T00:00:00",
          "1997-09-03T00:00:00",
          "1997-09-04T00:00:00",
          "1997-09-05T00:00:00",
          "1997-09-08T00:00:00",
          "1997-09-09T00:00:00",
          "1997-09-10T00:00:00",
          "1997-09-11T00:00:00",
          "1997-09-12T00:00:00",
          "1997-09-15T00:00:00",
          "1997-09-16T00:00:00",
          "1997-09-17T00:00:00",
          "1997-09-18T00:00:00",
          "1997-09-19T00:00:00",
          "1997-09-22T00:00:00",
          "1997-09-23T00:00:00",
          "1997-09-24T00:00:00",
          "1997-09-25T00:00:00",
          "1997-09-26T00:00:00",
          "1997-09-29T00:00:00",
          "1997-09-30T00:00:00",
          "1997-10-01T00:00:00",
          "1997-10-02T00:00:00",
          "1997-10-03T00:00:00",
          "1997-10-06T00:00:00",
          "1997-10-07T00:00:00",
          "1997-10-08T00:00:00",
          "1997-10-09T00:00:00",
          "1997-10-10T00:00:00",
          "1997-10-13T00:00:00",
          "1997-10-14T00:00:00",
          "1997-10-15T00:00:00",
          "1997-10-16T00:00:00",
          "1997-10-17T00:00:00",
          "1997-10-20T00:00:00",
          "1997-10-21T00:00:00",
          "1997-10-22T00:00:00",
          "1997-10-23T00:00:00",
          "1997-10-24T00:00:00",
          "1997-10-27T00:00:00",
          "1997-10-28T00:00:00",
          "1997-10-29T00:00:00",
          "1997-10-30T00:00:00",
          "1997-10-31T00:00:00",
          "1997-11-03T00:00:00",
          "1997-11-04T00:00:00",
          "1997-11-05T00:00:00",
          "1997-11-06T00:00:00",
          "1997-11-07T00:00:00",
          "1997-11-10T00:00:00",
          "1997-11-11T00:00:00",
          "1997-11-12T00:00:00",
          "1997-11-13T00:00:00",
          "1997-11-14T00:00:00",
          "1997-11-17T00:00:00",
          "1997-11-18T00:00:00",
          "1997-11-19T00:00:00",
          "1997-11-20T00:00:00",
          "1997-11-21T00:00:00",
          "1997-11-24T00:00:00",
          "1997-11-25T00:00:00",
          "1997-11-26T00:00:00",
          "1997-11-28T00:00:00",
          "1997-12-01T00:00:00",
          "1997-12-02T00:00:00",
          "1997-12-03T00:00:00",
          "1997-12-04T00:00:00",
          "1997-12-05T00:00:00",
          "1997-12-08T00:00:00",
          "1997-12-09T00:00:00",
          "1997-12-10T00:00:00",
          "1997-12-11T00:00:00",
          "1997-12-12T00:00:00",
          "1997-12-15T00:00:00",
          "1997-12-16T00:00:00",
          "1997-12-17T00:00:00",
          "1997-12-18T00:00:00",
          "1997-12-19T00:00:00",
          "1997-12-22T00:00:00",
          "1997-12-23T00:00:00",
          "1997-12-24T00:00:00",
          "1997-12-26T00:00:00",
          "1997-12-29T00:00:00",
          "1997-12-30T00:00:00",
          "1997-12-31T00:00:00",
          "1998-01-02T00:00:00",
          "1998-01-05T00:00:00",
          "1998-01-06T00:00:00",
          "1998-01-07T00:00:00",
          "1998-01-08T00:00:00",
          "1998-01-09T00:00:00",
          "1998-01-12T00:00:00",
          "1998-01-13T00:00:00",
          "1998-01-14T00:00:00",
          "1998-01-15T00:00:00",
          "1998-01-16T00:00:00",
          "1998-01-20T00:00:00",
          "1998-01-21T00:00:00",
          "1998-01-22T00:00:00",
          "1998-01-23T00:00:00",
          "1998-01-26T00:00:00",
          "1998-01-27T00:00:00",
          "1998-01-28T00:00:00",
          "1998-01-29T00:00:00",
          "1998-01-30T00:00:00",
          "1998-02-02T00:00:00",
          "1998-02-03T00:00:00",
          "1998-02-04T00:00:00",
          "1998-02-05T00:00:00",
          "1998-02-06T00:00:00",
          "1998-02-09T00:00:00",
          "1998-02-10T00:00:00",
          "1998-02-11T00:00:00",
          "1998-02-12T00:00:00",
          "1998-02-13T00:00:00",
          "1998-02-17T00:00:00",
          "1998-02-18T00:00:00",
          "1998-02-19T00:00:00",
          "1998-02-20T00:00:00",
          "1998-02-23T00:00:00",
          "1998-02-24T00:00:00",
          "1998-02-25T00:00:00",
          "1998-02-26T00:00:00",
          "1998-02-27T00:00:00",
          "1998-03-02T00:00:00",
          "1998-03-03T00:00:00",
          "1998-03-04T00:00:00",
          "1998-03-05T00:00:00",
          "1998-03-06T00:00:00",
          "1998-03-09T00:00:00",
          "1998-03-10T00:00:00",
          "1998-03-11T00:00:00",
          "1998-03-12T00:00:00",
          "1998-03-13T00:00:00",
          "1998-03-16T00:00:00",
          "1998-03-17T00:00:00",
          "1998-03-18T00:00:00",
          "1998-03-19T00:00:00",
          "1998-03-20T00:00:00",
          "1998-03-23T00:00:00",
          "1998-03-24T00:00:00",
          "1998-03-25T00:00:00",
          "1998-03-26T00:00:00",
          "1998-03-27T00:00:00",
          "1998-03-30T00:00:00",
          "1998-03-31T00:00:00",
          "1998-04-01T00:00:00",
          "1998-04-02T00:00:00",
          "1998-04-03T00:00:00",
          "1998-04-06T00:00:00",
          "1998-04-07T00:00:00",
          "1998-04-08T00:00:00",
          "1998-04-09T00:00:00",
          "1998-04-13T00:00:00",
          "1998-04-14T00:00:00",
          "1998-04-15T00:00:00",
          "1998-04-16T00:00:00",
          "1998-04-17T00:00:00",
          "1998-04-20T00:00:00",
          "1998-04-21T00:00:00",
          "1998-04-22T00:00:00",
          "1998-04-23T00:00:00",
          "1998-04-24T00:00:00",
          "1998-04-27T00:00:00",
          "1998-04-28T00:00:00",
          "1998-04-29T00:00:00",
          "1998-04-30T00:00:00",
          "1998-05-01T00:00:00",
          "1998-05-04T00:00:00",
          "1998-05-05T00:00:00",
          "1998-05-06T00:00:00",
          "1998-05-07T00:00:00",
          "1998-05-08T00:00:00",
          "1998-05-11T00:00:00",
          "1998-05-12T00:00:00",
          "1998-05-13T00:00:00",
          "1998-05-14T00:00:00",
          "1998-05-15T00:00:00",
          "1998-05-18T00:00:00",
          "1998-05-19T00:00:00",
          "1998-05-20T00:00:00",
          "1998-05-21T00:00:00",
          "1998-05-22T00:00:00",
          "1998-05-26T00:00:00",
          "1998-05-27T00:00:00",
          "1998-05-28T00:00:00",
          "1998-05-29T00:00:00",
          "1998-06-01T00:00:00",
          "1998-06-02T00:00:00",
          "1998-06-03T00:00:00",
          "1998-06-04T00:00:00",
          "1998-06-05T00:00:00",
          "1998-06-08T00:00:00",
          "1998-06-09T00:00:00",
          "1998-06-10T00:00:00",
          "1998-06-11T00:00:00",
          "1998-06-12T00:00:00",
          "1998-06-15T00:00:00",
          "1998-06-16T00:00:00",
          "1998-06-17T00:00:00",
          "1998-06-18T00:00:00",
          "1998-06-19T00:00:00",
          "1998-06-22T00:00:00",
          "1998-06-23T00:00:00",
          "1998-06-24T00:00:00",
          "1998-06-25T00:00:00",
          "1998-06-26T00:00:00",
          "1998-06-29T00:00:00",
          "1998-06-30T00:00:00",
          "1998-07-01T00:00:00",
          "1998-07-02T00:00:00",
          "1998-07-06T00:00:00",
          "1998-07-07T00:00:00",
          "1998-07-08T00:00:00",
          "1998-07-09T00:00:00",
          "1998-07-10T00:00:00",
          "1998-07-13T00:00:00",
          "1998-07-14T00:00:00",
          "1998-07-15T00:00:00",
          "1998-07-16T00:00:00",
          "1998-07-17T00:00:00",
          "1998-07-20T00:00:00",
          "1998-07-21T00:00:00",
          "1998-07-22T00:00:00",
          "1998-07-23T00:00:00",
          "1998-07-24T00:00:00",
          "1998-07-27T00:00:00",
          "1998-07-28T00:00:00",
          "1998-07-29T00:00:00",
          "1998-07-30T00:00:00",
          "1998-07-31T00:00:00",
          "1998-08-03T00:00:00",
          "1998-08-04T00:00:00",
          "1998-08-05T00:00:00",
          "1998-08-06T00:00:00",
          "1998-08-07T00:00:00",
          "1998-08-10T00:00:00",
          "1998-08-11T00:00:00",
          "1998-08-12T00:00:00",
          "1998-08-13T00:00:00",
          "1998-08-14T00:00:00",
          "1998-08-17T00:00:00",
          "1998-08-18T00:00:00",
          "1998-08-19T00:00:00",
          "1998-08-20T00:00:00",
          "1998-08-21T00:00:00",
          "1998-08-24T00:00:00",
          "1998-08-25T00:00:00",
          "1998-08-26T00:00:00",
          "1998-08-27T00:00:00",
          "1998-08-28T00:00:00",
          "1998-08-31T00:00:00",
          "1998-09-01T00:00:00",
          "1998-09-02T00:00:00",
          "1998-09-03T00:00:00",
          "1998-09-04T00:00:00",
          "1998-09-08T00:00:00",
          "1998-09-09T00:00:00",
          "1998-09-10T00:00:00",
          "1998-09-11T00:00:00",
          "1998-09-14T00:00:00",
          "1998-09-15T00:00:00",
          "1998-09-16T00:00:00",
          "1998-09-17T00:00:00",
          "1998-09-18T00:00:00",
          "1998-09-21T00:00:00",
          "1998-09-22T00:00:00",
          "1998-09-23T00:00:00",
          "1998-09-24T00:00:00",
          "1998-09-25T00:00:00",
          "1998-09-28T00:00:00",
          "1998-09-29T00:00:00",
          "1998-09-30T00:00:00",
          "1998-10-01T00:00:00",
          "1998-10-02T00:00:00",
          "1998-10-05T00:00:00",
          "1998-10-06T00:00:00",
          "1998-10-07T00:00:00",
          "1998-10-08T00:00:00",
          "1998-10-09T00:00:00",
          "1998-10-12T00:00:00",
          "1998-10-13T00:00:00",
          "1998-10-14T00:00:00",
          "1998-10-15T00:00:00",
          "1998-10-16T00:00:00",
          "1998-10-19T00:00:00",
          "1998-10-20T00:00:00",
          "1998-10-21T00:00:00",
          "1998-10-22T00:00:00",
          "1998-10-23T00:00:00",
          "1998-10-26T00:00:00",
          "1998-10-27T00:00:00",
          "1998-10-28T00:00:00",
          "1998-10-29T00:00:00",
          "1998-10-30T00:00:00",
          "1998-11-02T00:00:00",
          "1998-11-03T00:00:00",
          "1998-11-04T00:00:00",
          "1998-11-05T00:00:00",
          "1998-11-06T00:00:00",
          "1998-11-09T00:00:00",
          "1998-11-10T00:00:00",
          "1998-11-11T00:00:00",
          "1998-11-12T00:00:00",
          "1998-11-13T00:00:00",
          "1998-11-16T00:00:00",
          "1998-11-17T00:00:00",
          "1998-11-18T00:00:00",
          "1998-11-19T00:00:00",
          "1998-11-20T00:00:00",
          "1998-11-23T00:00:00",
          "1998-11-24T00:00:00",
          "1998-11-25T00:00:00",
          "1998-11-27T00:00:00",
          "1998-11-30T00:00:00",
          "1998-12-01T00:00:00",
          "1998-12-02T00:00:00",
          "1998-12-03T00:00:00",
          "1998-12-04T00:00:00",
          "1998-12-07T00:00:00",
          "1998-12-08T00:00:00",
          "1998-12-09T00:00:00",
          "1998-12-10T00:00:00",
          "1998-12-11T00:00:00",
          "1998-12-14T00:00:00",
          "1998-12-15T00:00:00",
          "1998-12-16T00:00:00",
          "1998-12-17T00:00:00",
          "1998-12-18T00:00:00",
          "1998-12-21T00:00:00",
          "1998-12-22T00:00:00",
          "1998-12-23T00:00:00",
          "1998-12-24T00:00:00",
          "1998-12-28T00:00:00",
          "1998-12-29T00:00:00",
          "1998-12-30T00:00:00",
          "1998-12-31T00:00:00",
          "1999-01-04T00:00:00",
          "1999-01-05T00:00:00",
          "1999-01-06T00:00:00",
          "1999-01-07T00:00:00",
          "1999-01-08T00:00:00",
          "1999-01-11T00:00:00",
          "1999-01-12T00:00:00",
          "1999-01-13T00:00:00",
          "1999-01-14T00:00:00",
          "1999-01-15T00:00:00",
          "1999-01-19T00:00:00",
          "1999-01-20T00:00:00",
          "1999-01-21T00:00:00",
          "1999-01-22T00:00:00",
          "1999-01-25T00:00:00",
          "1999-01-26T00:00:00",
          "1999-01-27T00:00:00",
          "1999-01-28T00:00:00",
          "1999-01-29T00:00:00",
          "1999-02-01T00:00:00",
          "1999-02-02T00:00:00",
          "1999-02-03T00:00:00",
          "1999-02-04T00:00:00",
          "1999-02-05T00:00:00",
          "1999-02-08T00:00:00",
          "1999-02-09T00:00:00",
          "1999-02-10T00:00:00",
          "1999-02-11T00:00:00",
          "1999-02-12T00:00:00",
          "1999-02-16T00:00:00",
          "1999-02-17T00:00:00",
          "1999-02-18T00:00:00",
          "1999-02-19T00:00:00",
          "1999-02-22T00:00:00",
          "1999-02-23T00:00:00",
          "1999-02-24T00:00:00",
          "1999-02-25T00:00:00",
          "1999-02-26T00:00:00",
          "1999-03-01T00:00:00",
          "1999-03-02T00:00:00",
          "1999-03-03T00:00:00",
          "1999-03-04T00:00:00",
          "1999-03-05T00:00:00",
          "1999-03-08T00:00:00",
          "1999-03-09T00:00:00",
          "1999-03-10T00:00:00",
          "1999-03-11T00:00:00",
          "1999-03-12T00:00:00",
          "1999-03-15T00:00:00",
          "1999-03-16T00:00:00",
          "1999-03-17T00:00:00",
          "1999-03-18T00:00:00",
          "1999-03-19T00:00:00",
          "1999-03-22T00:00:00",
          "1999-03-23T00:00:00",
          "1999-03-24T00:00:00",
          "1999-03-25T00:00:00",
          "1999-03-26T00:00:00",
          "1999-03-29T00:00:00",
          "1999-03-30T00:00:00",
          "1999-03-31T00:00:00",
          "1999-04-01T00:00:00",
          "1999-04-05T00:00:00",
          "1999-04-06T00:00:00",
          "1999-04-07T00:00:00",
          "1999-04-08T00:00:00",
          "1999-04-09T00:00:00",
          "1999-04-12T00:00:00",
          "1999-04-13T00:00:00",
          "1999-04-14T00:00:00",
          "1999-04-15T00:00:00",
          "1999-04-16T00:00:00",
          "1999-04-19T00:00:00",
          "1999-04-20T00:00:00",
          "1999-04-21T00:00:00",
          "1999-04-22T00:00:00",
          "1999-04-23T00:00:00",
          "1999-04-26T00:00:00",
          "1999-04-27T00:00:00",
          "1999-04-28T00:00:00",
          "1999-04-29T00:00:00",
          "1999-04-30T00:00:00",
          "1999-05-03T00:00:00",
          "1999-05-04T00:00:00",
          "1999-05-05T00:00:00",
          "1999-05-06T00:00:00",
          "1999-05-07T00:00:00",
          "1999-05-10T00:00:00",
          "1999-05-11T00:00:00",
          "1999-05-12T00:00:00",
          "1999-05-13T00:00:00",
          "1999-05-14T00:00:00",
          "1999-05-17T00:00:00",
          "1999-05-18T00:00:00",
          "1999-05-19T00:00:00",
          "1999-05-20T00:00:00",
          "1999-05-21T00:00:00",
          "1999-05-24T00:00:00",
          "1999-05-25T00:00:00",
          "1999-05-26T00:00:00",
          "1999-05-27T00:00:00",
          "1999-05-28T00:00:00",
          "1999-06-01T00:00:00",
          "1999-06-02T00:00:00",
          "1999-06-03T00:00:00",
          "1999-06-04T00:00:00",
          "1999-06-07T00:00:00",
          "1999-06-08T00:00:00",
          "1999-06-09T00:00:00",
          "1999-06-10T00:00:00",
          "1999-06-11T00:00:00",
          "1999-06-14T00:00:00",
          "1999-06-15T00:00:00",
          "1999-06-16T00:00:00",
          "1999-06-17T00:00:00",
          "1999-06-18T00:00:00",
          "1999-06-21T00:00:00",
          "1999-06-22T00:00:00",
          "1999-06-23T00:00:00",
          "1999-06-24T00:00:00",
          "1999-06-25T00:00:00",
          "1999-06-28T00:00:00",
          "1999-06-29T00:00:00",
          "1999-06-30T00:00:00",
          "1999-07-01T00:00:00",
          "1999-07-02T00:00:00",
          "1999-07-06T00:00:00",
          "1999-07-07T00:00:00",
          "1999-07-08T00:00:00",
          "1999-07-09T00:00:00",
          "1999-07-12T00:00:00",
          "1999-07-13T00:00:00",
          "1999-07-14T00:00:00",
          "1999-07-15T00:00:00",
          "1999-07-16T00:00:00",
          "1999-07-19T00:00:00",
          "1999-07-20T00:00:00",
          "1999-07-21T00:00:00",
          "1999-07-22T00:00:00",
          "1999-07-23T00:00:00",
          "1999-07-26T00:00:00",
          "1999-07-27T00:00:00",
          "1999-07-28T00:00:00",
          "1999-07-29T00:00:00",
          "1999-07-30T00:00:00",
          "1999-08-02T00:00:00",
          "1999-08-03T00:00:00",
          "1999-08-04T00:00:00",
          "1999-08-05T00:00:00",
          "1999-08-06T00:00:00",
          "1999-08-09T00:00:00",
          "1999-08-10T00:00:00",
          "1999-08-11T00:00:00",
          "1999-08-12T00:00:00",
          "1999-08-13T00:00:00",
          "1999-08-16T00:00:00",
          "1999-08-17T00:00:00",
          "1999-08-18T00:00:00",
          "1999-08-19T00:00:00",
          "1999-08-20T00:00:00",
          "1999-08-23T00:00:00",
          "1999-08-24T00:00:00",
          "1999-08-25T00:00:00",
          "1999-08-26T00:00:00",
          "1999-08-27T00:00:00",
          "1999-08-30T00:00:00",
          "1999-08-31T00:00:00",
          "1999-09-01T00:00:00",
          "1999-09-02T00:00:00",
          "1999-09-03T00:00:00",
          "1999-09-07T00:00:00",
          "1999-09-08T00:00:00",
          "1999-09-09T00:00:00",
          "1999-09-10T00:00:00",
          "1999-09-13T00:00:00",
          "1999-09-14T00:00:00",
          "1999-09-15T00:00:00",
          "1999-09-16T00:00:00",
          "1999-09-17T00:00:00",
          "1999-09-20T00:00:00",
          "1999-09-21T00:00:00",
          "1999-09-22T00:00:00",
          "1999-09-23T00:00:00",
          "1999-09-24T00:00:00",
          "1999-09-27T00:00:00",
          "1999-09-28T00:00:00",
          "1999-09-29T00:00:00",
          "1999-09-30T00:00:00",
          "1999-10-01T00:00:00",
          "1999-10-04T00:00:00",
          "1999-10-05T00:00:00",
          "1999-10-06T00:00:00",
          "1999-10-07T00:00:00",
          "1999-10-08T00:00:00",
          "1999-10-11T00:00:00",
          "1999-10-12T00:00:00",
          "1999-10-13T00:00:00",
          "1999-10-14T00:00:00",
          "1999-10-15T00:00:00",
          "1999-10-18T00:00:00",
          "1999-10-19T00:00:00",
          "1999-10-20T00:00:00",
          "1999-10-21T00:00:00",
          "1999-10-22T00:00:00",
          "1999-10-25T00:00:00",
          "1999-10-26T00:00:00",
          "1999-10-27T00:00:00",
          "1999-10-28T00:00:00",
          "1999-10-29T00:00:00",
          "1999-11-01T00:00:00",
          "1999-11-02T00:00:00",
          "1999-11-03T00:00:00",
          "1999-11-04T00:00:00",
          "1999-11-05T00:00:00",
          "1999-11-08T00:00:00",
          "1999-11-09T00:00:00",
          "1999-11-10T00:00:00",
          "1999-11-11T00:00:00",
          "1999-11-12T00:00:00",
          "1999-11-15T00:00:00",
          "1999-11-16T00:00:00",
          "1999-11-17T00:00:00",
          "1999-11-18T00:00:00",
          "1999-11-19T00:00:00",
          "1999-11-22T00:00:00",
          "1999-11-23T00:00:00",
          "1999-11-24T00:00:00",
          "1999-11-26T00:00:00",
          "1999-11-29T00:00:00",
          "1999-11-30T00:00:00",
          "1999-12-01T00:00:00",
          "1999-12-02T00:00:00",
          "1999-12-03T00:00:00",
          "1999-12-06T00:00:00",
          "1999-12-07T00:00:00",
          "1999-12-08T00:00:00",
          "1999-12-09T00:00:00",
          "1999-12-10T00:00:00",
          "1999-12-13T00:00:00",
          "1999-12-14T00:00:00",
          "1999-12-15T00:00:00",
          "1999-12-16T00:00:00",
          "1999-12-17T00:00:00",
          "1999-12-20T00:00:00",
          "1999-12-21T00:00:00",
          "1999-12-22T00:00:00",
          "1999-12-23T00:00:00",
          "1999-12-27T00:00:00",
          "1999-12-28T00:00:00",
          "1999-12-29T00:00:00",
          "1999-12-30T00:00:00",
          "1999-12-31T00:00:00",
          "2000-01-03T00:00:00",
          "2000-01-04T00:00:00",
          "2000-01-05T00:00:00",
          "2000-01-06T00:00:00",
          "2000-01-07T00:00:00",
          "2000-01-10T00:00:00",
          "2000-01-11T00:00:00",
          "2000-01-12T00:00:00",
          "2000-01-13T00:00:00",
          "2000-01-14T00:00:00",
          "2000-01-18T00:00:00",
          "2000-01-19T00:00:00",
          "2000-01-20T00:00:00",
          "2000-01-21T00:00:00",
          "2000-01-24T00:00:00",
          "2000-01-25T00:00:00",
          "2000-01-26T00:00:00",
          "2000-01-27T00:00:00",
          "2000-01-28T00:00:00",
          "2000-01-31T00:00:00",
          "2000-02-01T00:00:00"
         ],
         "xaxis": "x2",
         "y": [
          0.13996068855807908,
          0.13996068855807908,
          0.13996068855807908,
          0.13996068855807908,
          0.1423208718405753,
          0.1423208718405753,
          0.211336455066493,
          0.211336455066493,
          0.20249911439533785,
          0.20249911439533785,
          0.20013893111284167,
          0.20054211563812654,
          0.21360958190104168,
          0.21360958190104168,
          0.21360958190104168,
          0.24142849536857794,
          0.28537888334339506,
          0.2309170309641541,
          0.24109003425386272,
          0.17632492061032343,
          0.17838312597738085,
          0.17838312597738085,
          0.18262327903138773,
          0.052958098661658695,
          0.05577278432887076,
          0.05982588539231118,
          0.06185123990928691,
          0.08781986461687036,
          0.08485708424580925,
          0.04616122590648881,
          0.04616122590648881,
          0.05872889596294609,
          0.05872889596294609,
          0.05872889596294609,
          0.05872889596294609,
          0.04649844419275113,
          0.11119309309704012,
          0.11119309309704012,
          0.11119309309704012,
          0.09616469738166546,
          0.09384122642256394,
          0.09384122642256394,
          0.07063598545208798,
          0.09433645239811173,
          0.09256415145239559,
          0.09256415145239559,
          0.09501291937518822,
          0.08136781730251284,
          0.07992444196726867,
          0.08983955245865982,
          0.0705782233276467,
          0.06483287332011616,
          0.06860476504591907,
          0.06292602916744454,
          0.022521262025099482,
          0.022521262025099482,
          0.022521262025099482,
          0.03852308954732031,
          0.04053452127282843,
          0.03786955721979567,
          0.03786955721979567,
          0.03786955721979567,
          0.023428137501500558,
          0.023428137501500558,
          0.05039053425560627,
          0.028871273966216977,
          0.03195913099400102,
          0.037157514893262925,
          0.035074589257621934,
          0.0351697480819301,
          0.024152427093061306,
          0.022771695587519965,
          0.026076920841942273,
          0.026076920841942273,
          0.04813899428884249,
          0.04813899428884249,
          0.04813899428884249,
          0.04813899428884249,
          0.04813899428884249,
          0.047449432601702805,
          0.048846897694115925,
          0.0711849381227258,
          0.06721860607301171,
          0.09739534959388683,
          0.09182901481769562,
          0.08905105711092343,
          0.08905105711092343,
          0.08905105711092343,
          0.09798693452478109,
          0.10018807064419641,
          0.07994386817050549,
          0.07994386817050549,
          0.06863853056571603,
          0.059324344023413564,
          0.06194438520828362,
          0.06194438520828362,
          0.06194438520828362,
          0.057429833675367324,
          0.049486836947743786,
          0.047680679753269214,
          0.047680679753269214,
          0.047680679753269214,
          0.04865831570879984,
          0.04865831570879984,
          0.046292913136235195,
          0.025445088324536545,
          0.010091126259799925,
          0.010091126259799925,
          0.010091126259799925,
          0.014134333750148147,
          0.010286496257195608,
          0.010286496257195608,
          0.021648373593301934,
          0.029811358678186635,
          0.029811358678186635,
          0.029811358678186635,
          0.08749090079062914,
          0.08749090079062914,
          0.08749090079062914,
          0.08749090079062914,
          0.08749090079062914,
          0.015405084826454547,
          0.01327267602930213,
          0.012510389173041602,
          0.014106905008943535,
          0.014106905008943535,
          0.012512958690300249,
          0.012512958690300249,
          0.02257237947704192,
          0.034057690605857734,
          0.034057690605857734,
          0.020498306503648374,
          0.030095045586282926,
          0.029666304113070925,
          0.02952514068781184,
          0.02952514068781184,
          0.016386559554790178,
          0.024695251235474645,
          0.027359798349349776,
          0.03234989040113656,
          0.026645432703771094,
          0.024695251235474645,
          0.027320523011953545,
          0.027320523011953545,
          0.02095684292937973,
          0.02355851497039499,
          0.02355851497039499,
          0.03325384572024433,
          0.04339227706191837,
          0.03990953035239216,
          0.06399761931024278,
          0.06399761931024278,
          0.06399761931024278,
          0.06757025145762657,
          0.05865980155982995,
          0.06019720848815113,
          0.07281826950600588,
          0.047466288508264426,
          0.03606378963618479,
          0.04272253184651202,
          0.03335695500774996,
          0.02506805795077772,
          0.02506805795077772,
          0.026668868323330784,
          0.03205143627677679,
          0.03205143627677679,
          0.026672427236869505,
          0.03670855985992606,
          0.02166601442107473,
          0.030646148715982938,
          0.030646148715982938,
          0.030646148715982938,
          0.035383235179343435,
          0.035383235179343435,
          0.035383235179343435,
          0.02933416148501517,
          0.02933416148501517,
          0.03207445310606451,
          0.027542582132931502,
          0.030751048518230677,
          0.030751048518230677,
          0.029569839278853236,
          0.029569839278853236,
          0.051000083740079076,
          0.06733168197955725,
          0.07754280612020727,
          0.08081867491700769,
          0.0705810936509923,
          0.0693165345279347,
          0.06938464718279591,
          0.06845041284475807,
          0.06847620432400597,
          0.07223571270351703,
          0.07223571270351703,
          0.05568514146737262,
          0.06323053188111555,
          0.05413661533338468,
          0.04762134941830895,
          0.04762134941830895,
          0.050948250199152285,
          0.05100864870018087,
          0.05087776224790184,
          0.05087776224790184,
          0.04969653125793042,
          0.04969653125793042,
          0.04969653125793042,
          0.04969653125793042,
          0.04969653125793042,
          0.04969653125793042,
          0.04969653125793042,
          0.05320623277466612,
          0.05320623277466612,
          0.05320623277466612,
          0.05363678950909672,
          0.05363678950909672,
          0.0563146048506515,
          0.0524542721164141,
          0.0770112867333207,
          0.06934539033218674,
          0.06934539033218674,
          0.05996613066483713,
          0.05996613066483713,
          0.06715922863206177,
          0.07490879947081182,
          0.07194479022772597,
          0.07609264150633166,
          0.07609264150633166,
          0.07719357076473296,
          0.07719357076473296,
          0.07453404872005684,
          0.07453404872005684,
          0.05845030417411405,
          0.054243334001652675,
          0.03288059386064609,
          0.035300488637167726,
          0.11097341889337486,
          0.04252248756609259,
          0.06534981452361707,
          0.06534981452361707,
          0.038263116072081424,
          0.038263116072081424,
          0.034088876159342536,
          0.03774988813095915,
          0.03774988813095915,
          0.03774988813095915,
          0.038843622180830546,
          0.04047154285420114,
          0.0489795215146689,
          0.10568482444211368,
          0.051326070901324856,
          0.051326070901324856,
          0.051326070901324856,
          0.05441307775611574,
          0.05441307775611574,
          0.03873795036645872,
          0.029365404617899916,
          0.027313777429364212,
          0.022213209799602205,
          0.04112078006051219,
          0.04112078006051219,
          0.0396748684793547,
          0.0396748684793547,
          0.025851802559595086,
          0.038229018106755636,
          0.038229018106755636,
          0.038229018106755636,
          0.0740470234004292,
          0.07494169528348757,
          0.07494169528348757,
          0.06674534315553325,
          0.06674534315553325,
          0.033903963448081734,
          0.06625560393172525,
          0.04022704988318186,
          0.04022704988318186,
          0.04022704988318186,
          0.037742638119700855,
          0.0391152042866359,
          0.03781733584604918,
          0.07251696629740234,
          0.07372831703739673,
          0.07372831703739673,
          0.05393429934591109,
          0.05393429934591109,
          0.05393429934591109,
          0.059790583155296534,
          0.06397010512549549,
          0.06481661610291632,
          0.06481661610291632,
          0.026705587734545056,
          0.024940857018518416,
          0.04058227054908373,
          0.04681731703429412,
          0.06306762494969545,
          0.06306762494969545,
          0.05062699526568177,
          0.0591384707055727,
          0.19532430102962572,
          0.07710627457311627,
          0.08760306417085507,
          0.09764466513193457,
          0.09764466513193457,
          0.15094227288261602,
          0.09778956800309806,
          0.09778956800309806,
          0.10715103604992304,
          0.09764485976686904,
          0.13188707186557722,
          0.13188707186557722,
          0.25700076587991794,
          0.2473631910678908,
          0.24682236091666088,
          0.188160208709491,
          0.188160208709491,
          0.270048539841904,
          0.270048539841904,
          0.4717329056302898,
          0.4717329056302898,
          0.4717329056302898,
          0.47162227426642533,
          0.44434842155025384,
          0.44434842155025384,
          0.38963385644836707,
          0.3863500426686419,
          0.3863500426686419,
          0.4970068687818995,
          0.4970068687818995,
          0.4970068687818995,
          0.48803849434873137,
          0.47157183875527836,
          0.4925955280067851,
          0.30467717793769455,
          0.184970222900261,
          0.184970222900261,
          0.16737201793729498,
          0.16737201793729498,
          0.173483953478758,
          0.1886452083741365,
          0.1886452083741365,
          0.20868066357750104,
          0.2708977336686258,
          0.2708977336686258,
          0.2708977336686258,
          0.27931496324895,
          0.2750892956764691,
          0.2754720879116643,
          0.18034569429934383,
          0.16987988512238822,
          0.16987988512238822,
          0.1700348276828962,
          0.13624393407652488,
          0.13624393407652488,
          0.12916996983637227,
          0.12901502727586428,
          0.10121389125321356,
          0.07410125116295421,
          0.07410125116295421,
          0.06048948549253409,
          0.07168968834969,
          0.07168968834969,
          0.12712965816905486,
          0.12712965816905486,
          0.1261689786161113,
          0.1001163973708227,
          0.09259195314443458,
          0.10464504587045581,
          0.10703389446292015,
          0.10703389446292015,
          0.186412986661413,
          0.186412986661413,
          0.11847760520596326,
          0.11847760520596326,
          0.11915928908614491,
          0.1795315834987231,
          0.10886734312385395,
          0.08910528112250603,
          0.08910528112250603,
          0.08849125089388934,
          0.08225725659670734,
          0.08343237966428022,
          0.08026789553747035,
          0.10444196013603758,
          0.06670064327358316,
          0.04256897801149832,
          0.0343543794978008,
          0.027811617032277792,
          0.027811617032277792,
          0.027811617032277792,
          0.03131456889884379,
          0.028935629711370963,
          0.028935629711370963,
          0.08046460333035801,
          0.06485654841542055,
          0.054288416260506345,
          0.07108384389500803,
          0.07108384389500803,
          0.0696485684517341,
          0.07185406036507253,
          0.07185406036507253,
          0.07185406036507253,
          0.06657437888341694,
          0.06657437888341694,
          0.030653460179367365,
          0.030663249797773007,
          0.029084626078421133,
          0.030741727256120323,
          0.027601502665267223,
          0.01645613907165802,
          0.01645613907165802,
          0.036033165262638764,
          0.036033165262638764,
          0.04150631425888466,
          0.04150631425888466,
          0.050175850169177645,
          0.04946425997733255,
          0.047958611498040433,
          0.08172727999187372,
          0.08430901545793179,
          0.08430901545793179,
          0.08430901545793179,
          0.07597890779654796,
          0.07597890779654796,
          0.07439690428333055,
          0.07439690428333055,
          0.08141302580249597,
          0.07259299577876423,
          0.06612492171094733,
          0.07627358908187414,
          0.038137174871872105,
          0.05075034756064498,
          0.05075034756064498,
          0.05748744040362764,
          0.05748744040362764,
          0.05748744040362764,
          0.05748744040362764,
          0.05748744040362764,
          0.032210006242055604,
          0.03302437653968445,
          0.02428269393351473,
          0.02428269393351473,
          0.02428269393351473,
          0.02428269393351473,
          0.02428269393351473,
          0.02428269393351473,
          0.0231126442833257,
          0.018351046897804122,
          0.018207711116748248,
          0.018207711116748248,
          0.018207711116748248,
          0.004782676244192634,
          0.004782676244192634,
          0.028565152331235563,
          0.008789187023834596,
          0.008789187023834596,
          0.008789187023834596,
          0.016906266323176856,
          0.016906266323176856,
          0.0226176131132098,
          0.023511242136881952,
          0.023511242136881952,
          0.03314847590544113,
          0.03098198331860195,
          0.05192090124979461,
          0.048859511114439966,
          0.048859511114439966,
          0.048859511114439966,
          0.05099239857080058,
          0.045281051780767634,
          0.03513056656680485,
          0.041140218466489874,
          0.041140218466489874,
          0.03832624655001242,
          0.03623568755193882,
          0.03623568755193882,
          0.036670334323594914,
          0.06281171866503363,
          0.06281171866503363,
          0.03548671225404849,
          0.010095142130666342,
          0.010095142130666342,
          0.016030403881271547,
          0.016030403881271547,
          0.016510295152214145,
          0.016510295152214145,
          0.016510295152214145,
          0.049414671862507024,
          0.037738007654503004,
          0.03682346961190431,
          0.03682346961190431,
          0.04099774822754786,
          0.04099774822754786,
          0.04099774822754786,
          0.04099774822754786,
          0.04099774822754786,
          0.0550175024304239,
          0.05303838046939245,
          0.05303838046939245,
          0.06747145670367875,
          0.04911470995677012,
          0.060028760440684684,
          0.08025235550530938,
          0.08025235550530938,
          0.0774783367263729,
          0.07752534879632589,
          0.07752534879632589,
          0.07733513975453891,
          0.07733513975453891,
          0.05050802270734478,
          0.016014065336822828,
          0.04262081632635169,
          0.04262081632635169,
          0.04344419003026627,
          0.03954539705787962,
          0.04691725599614053,
          0.04691725599614053,
          0.16249216888070417,
          0.15960192708156298,
          0.14235762824972048,
          0.14235762824972048,
          0.17752168322937073,
          0.17619397387504315,
          0.18187683793344214,
          0.1844559784781324,
          0.1844559784781324,
          0.09237691637200275,
          0.0756059815625834,
          0.07786085365701739,
          0.07786085365701739,
          0.07786085365701739,
          0.07786085365701739,
          0.08079927409352333,
          0.08098021443510567,
          0.08901312612098981,
          0.08901312612098981,
          0.07987336470399369,
          0.07987336470399369,
          0.07330380039176533,
          0.07330380039176533,
          0.07330380039176533,
          0.07199776585751252,
          0.06510580805468529,
          0.06510580805468529,
          0.0268747893804188,
          0.026368942879675856,
          0.018928636015639776,
          0.013755273044907784,
          0.013755273044907784,
          0.02530961580944809,
          0.030379512666020677,
          0.030379512666020677,
          0.030379512666020677,
          0.03406413509007893,
          0.05857538273066491,
          0.04847552797942165,
          0.04847552797942165,
          0.04847552797942165,
          0.058372357084393735,
          0.05986067801266535,
          0.07343874989397076,
          0.07267142927314493,
          0.07286566319780262,
          0.07286566319780262,
          0.19855881439667097,
          0.19441300289997293,
          0.19441300289997293,
          0.21523615759367368,
          0.23293575578804349,
          0.20509360630466278,
          0.2127250281848349,
          0.13318283746458348,
          0.13318283746458348,
          0.08123441820602882,
          0.0709010038229351,
          0.0493466925853084,
          0.04701056974654587,
          0.0761248669720337,
          0.0834190453323317,
          0.0834190453323317,
          0.0834190453323317,
          0.07963361099985564,
          0.07581121539345738,
          0.0787423723494122,
          0.11980515027388952,
          0.12160399503070897,
          0.12160399503070897,
          0.04840706999430124,
          0.04816028585516997,
          0.06690618811602989,
          0.1654581899684844,
          0.17668230086907558,
          0.17668230086907558,
          0.18171446168728705,
          0.17227132585954882,
          0.1828776199796292,
          0.17850040834650385,
          0.17324821664411388,
          0.21112129271056465,
          0.20165278036983791,
          0.15433715642367593,
          0.15433715642367593,
          0.10712591218969088,
          0.1143758138181723,
          0.08676422922892463,
          0.14134681406478705,
          0.12274101609947892,
          0.11178368648825868,
          0.12679808115386956,
          0.12328028230262432,
          0.10630612275471073,
          0.1272038410663942,
          0.13268287879848187,
          0.15051250849821093,
          0.14828770249583964,
          0.14828770249583964,
          0.1673819334314785,
          0.14874700097177687,
          0.17702056347613018,
          0.2742898973868106,
          0.2762723593427484,
          0.21529388885808973,
          0.19721043289298743,
          0.19687737691048182,
          0.19687737691048182,
          0.21781127359648803,
          0.21781127359648803,
          0.188696915771361,
          0.17586940651852792,
          0.17586940651852792,
          0.16885447899249523,
          0.15988267690441207,
          0.12014686620789279,
          0.13179405290513713,
          0.10170327323630267,
          0.09971351986260069,
          0.09971351986260069,
          0.11127546310793655,
          0.13744715323639353,
          0.13744715323639353,
          0.1422146609134967,
          0.1422146609134967,
          0.1422146609134967,
          0.11877533279228507,
          0.09545562414517327,
          0.09847559605902438,
          0.09847559605902438,
          0.11027984803347991,
          0.11027984803347991,
          0.11027984803347991,
          0.15578325518659678,
          0.1555525434455084,
          0.1332754153483086,
          0.1332754153483086,
          0.13418184020014165,
          0.16613342590578373,
          0.16613342590578373,
          0.17108827386016145,
          0.16070951377540954,
          0.3914338024721027,
          0.39121231639280957,
          0.39121231639280957,
          0.39121231639280957,
          0.39121231639280957,
          0.32068273377477674,
          0.29548763515927434,
          0.20222469238779053,
          0.22561959337414206,
          0.22561959337414206,
          0.22561959337414206,
          0.2864306889948969,
          0.2864306889948969,
          0.26681538860276227,
          0.2858659086873797,
          0.24281896083730983,
          0.24281896083730983,
          0.2373028544423091,
          0.610472040934035,
          0.6151123080747737,
          0.7575381893230536,
          0.7601871301787151,
          0.7638067448756489,
          0.9358316395987076,
          0.9358316395987076,
          0.3335515835266664,
          0.338241371922902,
          0.39961793122901873,
          0.3469216788101471,
          0.3278711587255297,
          0.43176740130559205,
          0.4334098080694078,
          0.4811150410769012,
          0.4811150410769012,
          0.27583750989842437,
          0.26762065421866327,
          0.1687998301501622,
          0.24224987744391574,
          0.2057332746866718,
          0.2381248862587945,
          0.2868021317068254,
          0.29006731989028356,
          0.2033202451818984,
          0.20005505699844026,
          0.29952643612055135,
          0.29812763712972906,
          0.3353136156102061,
          0.3353136156102061,
          0.3353136156102061,
          0.3353136156102061,
          0.6437269394025132,
          0.2699538299859036,
          0.2699538299859036,
          0.718139917740147,
          0.6935809669063111,
          0.7162170733828933,
          0.6675327130793106,
          0.8646201673588723,
          1,
          0.9979869220736012,
          0.5543422481768349,
          0.5543422481768349,
          0.6150959814651412,
          0.43241636272021694,
          0.42821436042726285,
          0.4281420829598978,
          0.1487029623517261,
          0.16119163179081242,
          0.16119163179081242,
          0.1567224954007005,
          0.24841206311716324,
          0.24841206311716324,
          0.24841206311716324,
          0.6109232290689482,
          0.6109232290689482,
          0.6109232290689482,
          0.6109232290689482,
          0.6094281033467839,
          0.6106023967984759,
          0.6106023967984759,
          0.575060117987783,
          0.575060117987783,
          0.5738858245360909,
          0.5841539016693434,
          0.5830241847812843,
          0.5830241847812843,
          0.4445565602667273,
          0.4346871951715601,
          0.4346871951715601,
          0.4346871951715601,
          0.4325599672051392,
          0.27136971011032274,
          0.27136971011032274,
          0.2596855874945519,
          0.2527707681124773,
          0.2657870913001299,
          0.2657870913001299,
          0.024089362037409617,
          0.034337068338885224,
          0.034337068338885224,
          0.045663078580166015,
          0.0387085158697515,
          0.0387085158697515,
          0.0387085158697515,
          0.06095493948399476,
          0.06222684329306857,
          0.16145446114583314,
          0.16145446114583314,
          0.16602466355852527,
          0.36986110265392014,
          0.3747098069058994,
          0.35756275332348386,
          0.3043801737473875,
          0.3060474954634349,
          0.3117735355956534,
          0.3189892581751278,
          0.19356021800877843,
          0.1550404430278985,
          0.16371068564982008,
          0.16524249117909365,
          0.16515001603221663,
          0.15988886644634073,
          0.17284507191778825,
          0.17725200952506542,
          0.30714962290433295,
          0.30714962290433295,
          0.3237732297122519,
          0.35312467634315414,
          0.3063828762507493,
          0.3063828762507493,
          0.3011101365454507,
          0.3011101365454507,
          0.23554034633009188,
          0.23554034633009188,
          0.23554034633009188,
          0.2611898582088955,
          0.3121761969619147,
          0.30230617803366266,
          0.45820914761268483,
          0.4729218018413466,
          0.5274055150776576,
          0.5550245985312641,
          0.3092039994848603,
          0.3092039994848603,
          0.3105022927805543,
          0.31086030629092226,
          0.18545894776210153,
          0.16402256490816017,
          0.16402256490816017,
          0.20313769176463,
          0.19892475420832242,
          0.19577501079761228,
          0.15665988394114244,
          0.15665988394114244,
          0.15299759574794378,
          0.17443397860188514,
          0.17443397860188514,
          0.1839407281945485,
          0.2306977928684231,
          0.25715715545166656,
          0.2515452049303284,
          0.25255410123897887,
          0.2645702579490465,
          0.2645702579490465,
          0.24322667559969138,
          0.24193771352802598,
          0.24048300294258132,
          0.2752780175670618,
          0.30020452706078915,
          0.3266519314207725,
          0.35122029475717226,
          0.35122029475717226,
          0.35122029475717226,
          0.22886463254291103,
          0.23342890332749267,
          0.3701368800181895,
          0.17739917078013098,
          0.24399631011349368,
          0.24399631011349368,
          0.24399631011349368,
          0.24399631011349368,
          0.24399631011349368,
          0.41029292731596606,
          0.4194938175960413,
          0.42432566231230057,
          0.4242298562799484,
          0.4242298562799484,
          0.47285102645587473,
          0.4776363870107745,
          0.248853006064679,
          0.24481176932915738,
          0.22424571133280627,
          0.18851293585125092,
          0.20190190670451036,
          0.20167452886913628,
          0.23171215123105038,
          0.23171215123105038,
          0.21591276922559632,
          0.2025237983723369,
          0.2025237983723369,
          0.2025237983723369,
          0.19933288620214284,
          0.22461450173882108,
          0.19933288620214284,
          0.203349847082673,
          0.199453153882914,
          0.20569737324880308,
          0.20569737324880308,
          0.0352297442578619,
          0.02431651688657106,
          0.02431651688657106,
          0.02431651688657106,
          0.02014337919066238,
          0.02014337919066238,
          0.02522079546870605,
          0.02125952385421836,
          0.05604559525798728,
          0.06153153282407716,
          0.018867214871342564,
          0.025240622145925175,
          0.03204332252580545,
          0.03204332252580545,
          0.02361726468871546,
          0.05661851849588418,
          0.09631593776212427,
          0.09433154348634006,
          0.10269112027975534,
          0.1186546018457832,
          0.11154058769864962,
          0.0737462469312942,
          0.09926877112134386,
          0.09926877112134386,
          0.09056706540056414,
          0.09056706540056414,
          0.09056706540056414,
          0.08548964912252047,
          0.0913800132872883,
          0.0913800132872883,
          0.08519588206848769,
          0.08953913515442828,
          0.08953913515442828,
          0.08953913515442828,
          0.12812518555914593,
          0.12812518555914593,
          0.1327841424275222,
          0.14380822497702023,
          0.15113572904695227,
          0.10452132780990486,
          0.08109751331811753,
          0.19812108108663826,
          0.1920502923104974,
          0.1920502923104974,
          0.1920502923104974,
          0.16485784108269252,
          0.16485784108269252,
          0.2262355529267227,
          0.19209602694102984,
          0.19209602694102984,
          0.1910961262201425,
          0.1703723358146998,
          0.1647402898148488,
          0.17036549743282364,
          0.1585160645789601,
          0.1648280676128427,
          0.17237904883043906,
          0.17256553944621253,
          0.18346356251903498,
          0.18104577633229108,
          0.13204590917074344,
          0.12852088047564394,
          0.12852088047564394,
          0.12852088047564394,
          0.14960766437627568,
          0.14960766437627568,
          0.17844030665705224,
          0.20527700027400084,
          0.1617586953992055,
          0.1617586953992055,
          0.14608507649727187,
          0.14731868854396193,
          0.16299230744589552,
          0.16493477344509383,
          0.2280528194867296,
          0.28204203720697046,
          0.28204203720697046,
          0.3586907970233532,
          0.4066652321881199,
          0.40440792797295655,
          0.40440792797295655,
          0.4767881700122403,
          0.42047267241296493,
          0.3267407039248216,
          0.12543359100927196,
          0.06428575697930139,
          0.06325913710293661,
          0.09336515870144625,
          0.09336515870144625,
          0.08440607050535592,
          0.09624215273259314,
          0.09624215273259314,
          0.08722874188000908,
          0.08722874188000908,
          0.08722874188000908,
          0.09274976442074152,
          0.09274976442074152,
          0.09710964933097647,
          0.09274976442074152,
          0.09274976442074152,
          0.09969663497148501,
          0.15244026500668645,
          0.11624763062431491,
          0.1453448222376538,
          0.1453448222376538,
          0.14411790401542077,
          0.14076773981736873,
          0.1450103278662036,
          0.14076773981736873,
          0.15106170607615277,
          0.15106170607615277,
          0.1771652133048291,
          0.17168277361421694,
          0.1480343530385603,
          0.1443518619047877,
          0.1443518619047877,
          0.1443518619047877,
          0.11143107842673833,
          0.3625898939438499,
          0.36551538079031404,
          0.406038169968118,
          0.390718078327779,
          0.3503054433403941,
          0.3509601869543568,
          0.3509601869543568,
          0.3509601869543568,
          0.36971254441641593,
          0.36211579515080117,
          0.3066637180934685,
          0.3066637180934685,
          0.28205884729845104,
          0.2921975393306149,
          0.28927205248415067,
          0.313884793852166,
          0.32112761813451873,
          0.3556018157602204,
          0.5469050874765438,
          0.5469050874765438,
          0.5485584837949494,
          0.553343942069203,
          0.4419740176173718,
          0.4419740176173718,
          0.4419740176173718,
          0.4419740176173718,
          0.774699588554789
         ],
         "yaxis": "y2"
        },
        {
         "name": "vix_price",
         "type": "scatter",
         "x": [
          "1996-02-01T00:00:00",
          "1996-02-02T00:00:00",
          "1996-02-05T00:00:00",
          "1996-02-06T00:00:00",
          "1996-02-07T00:00:00",
          "1996-02-08T00:00:00",
          "1996-02-09T00:00:00",
          "1996-02-12T00:00:00",
          "1996-02-13T00:00:00",
          "1996-02-14T00:00:00",
          "1996-02-15T00:00:00",
          "1996-02-16T00:00:00",
          "1996-02-20T00:00:00",
          "1996-02-21T00:00:00",
          "1996-02-22T00:00:00",
          "1996-02-23T00:00:00",
          "1996-02-26T00:00:00",
          "1996-02-27T00:00:00",
          "1996-02-28T00:00:00",
          "1996-02-29T00:00:00",
          "1996-03-01T00:00:00",
          "1996-03-04T00:00:00",
          "1996-03-05T00:00:00",
          "1996-03-06T00:00:00",
          "1996-03-07T00:00:00",
          "1996-03-08T00:00:00",
          "1996-03-11T00:00:00",
          "1996-03-12T00:00:00",
          "1996-03-13T00:00:00",
          "1996-03-14T00:00:00",
          "1996-03-15T00:00:00",
          "1996-03-18T00:00:00",
          "1996-03-19T00:00:00",
          "1996-03-20T00:00:00",
          "1996-03-21T00:00:00",
          "1996-03-22T00:00:00",
          "1996-03-25T00:00:00",
          "1996-03-26T00:00:00",
          "1996-03-27T00:00:00",
          "1996-03-28T00:00:00",
          "1996-03-29T00:00:00",
          "1996-04-01T00:00:00",
          "1996-04-02T00:00:00",
          "1996-04-03T00:00:00",
          "1996-04-04T00:00:00",
          "1996-04-08T00:00:00",
          "1996-04-09T00:00:00",
          "1996-04-10T00:00:00",
          "1996-04-11T00:00:00",
          "1996-04-12T00:00:00",
          "1996-04-15T00:00:00",
          "1996-04-16T00:00:00",
          "1996-04-17T00:00:00",
          "1996-04-18T00:00:00",
          "1996-04-19T00:00:00",
          "1996-04-22T00:00:00",
          "1996-04-23T00:00:00",
          "1996-04-24T00:00:00",
          "1996-04-25T00:00:00",
          "1996-04-26T00:00:00",
          "1996-04-29T00:00:00",
          "1996-04-30T00:00:00",
          "1996-05-01T00:00:00",
          "1996-05-02T00:00:00",
          "1996-05-03T00:00:00",
          "1996-05-06T00:00:00",
          "1996-05-07T00:00:00",
          "1996-05-08T00:00:00",
          "1996-05-09T00:00:00",
          "1996-05-10T00:00:00",
          "1996-05-13T00:00:00",
          "1996-05-14T00:00:00",
          "1996-05-15T00:00:00",
          "1996-05-16T00:00:00",
          "1996-05-17T00:00:00",
          "1996-05-20T00:00:00",
          "1996-05-21T00:00:00",
          "1996-05-22T00:00:00",
          "1996-05-23T00:00:00",
          "1996-05-24T00:00:00",
          "1996-05-28T00:00:00",
          "1996-05-29T00:00:00",
          "1996-05-30T00:00:00",
          "1996-05-31T00:00:00",
          "1996-06-03T00:00:00",
          "1996-06-04T00:00:00",
          "1996-06-05T00:00:00",
          "1996-06-06T00:00:00",
          "1996-06-07T00:00:00",
          "1996-06-10T00:00:00",
          "1996-06-11T00:00:00",
          "1996-06-12T00:00:00",
          "1996-06-13T00:00:00",
          "1996-06-14T00:00:00",
          "1996-06-17T00:00:00",
          "1996-06-18T00:00:00",
          "1996-06-19T00:00:00",
          "1996-06-20T00:00:00",
          "1996-06-21T00:00:00",
          "1996-06-24T00:00:00",
          "1996-06-25T00:00:00",
          "1996-06-26T00:00:00",
          "1996-06-27T00:00:00",
          "1996-06-28T00:00:00",
          "1996-07-01T00:00:00",
          "1996-07-02T00:00:00",
          "1996-07-03T00:00:00",
          "1996-07-05T00:00:00",
          "1996-07-08T00:00:00",
          "1996-07-09T00:00:00",
          "1996-07-10T00:00:00",
          "1996-07-11T00:00:00",
          "1996-07-12T00:00:00",
          "1996-07-15T00:00:00",
          "1996-07-16T00:00:00",
          "1996-07-17T00:00:00",
          "1996-07-18T00:00:00",
          "1996-07-19T00:00:00",
          "1996-07-22T00:00:00",
          "1996-07-23T00:00:00",
          "1996-07-24T00:00:00",
          "1996-07-25T00:00:00",
          "1996-07-26T00:00:00",
          "1996-07-29T00:00:00",
          "1996-07-30T00:00:00",
          "1996-07-31T00:00:00",
          "1996-08-01T00:00:00",
          "1996-08-02T00:00:00",
          "1996-08-05T00:00:00",
          "1996-08-06T00:00:00",
          "1996-08-07T00:00:00",
          "1996-08-08T00:00:00",
          "1996-08-09T00:00:00",
          "1996-08-12T00:00:00",
          "1996-08-13T00:00:00",
          "1996-08-14T00:00:00",
          "1996-08-15T00:00:00",
          "1996-08-16T00:00:00",
          "1996-08-19T00:00:00",
          "1996-08-20T00:00:00",
          "1996-08-21T00:00:00",
          "1996-08-22T00:00:00",
          "1996-08-23T00:00:00",
          "1996-08-26T00:00:00",
          "1996-08-27T00:00:00",
          "1996-08-28T00:00:00",
          "1996-08-29T00:00:00",
          "1996-08-30T00:00:00",
          "1996-09-03T00:00:00",
          "1996-09-04T00:00:00",
          "1996-09-05T00:00:00",
          "1996-09-06T00:00:00",
          "1996-09-09T00:00:00",
          "1996-09-10T00:00:00",
          "1996-09-11T00:00:00",
          "1996-09-12T00:00:00",
          "1996-09-13T00:00:00",
          "1996-09-16T00:00:00",
          "1996-09-17T00:00:00",
          "1996-09-18T00:00:00",
          "1996-09-19T00:00:00",
          "1996-09-20T00:00:00",
          "1996-09-23T00:00:00",
          "1996-09-24T00:00:00",
          "1996-09-25T00:00:00",
          "1996-09-26T00:00:00",
          "1996-09-27T00:00:00",
          "1996-09-30T00:00:00",
          "1996-10-01T00:00:00",
          "1996-10-02T00:00:00",
          "1996-10-03T00:00:00",
          "1996-10-04T00:00:00",
          "1996-10-07T00:00:00",
          "1996-10-08T00:00:00",
          "1996-10-09T00:00:00",
          "1996-10-10T00:00:00",
          "1996-10-11T00:00:00",
          "1996-10-14T00:00:00",
          "1996-10-15T00:00:00",
          "1996-10-16T00:00:00",
          "1996-10-17T00:00:00",
          "1996-10-18T00:00:00",
          "1996-10-21T00:00:00",
          "1996-10-22T00:00:00",
          "1996-10-23T00:00:00",
          "1996-10-24T00:00:00",
          "1996-10-25T00:00:00",
          "1996-10-28T00:00:00",
          "1996-10-29T00:00:00",
          "1996-10-30T00:00:00",
          "1996-10-31T00:00:00",
          "1996-11-01T00:00:00",
          "1996-11-04T00:00:00",
          "1996-11-05T00:00:00",
          "1996-11-06T00:00:00",
          "1996-11-07T00:00:00",
          "1996-11-08T00:00:00",
          "1996-11-11T00:00:00",
          "1996-11-12T00:00:00",
          "1996-11-13T00:00:00",
          "1996-11-14T00:00:00",
          "1996-11-15T00:00:00",
          "1996-11-18T00:00:00",
          "1996-11-19T00:00:00",
          "1996-11-20T00:00:00",
          "1996-11-21T00:00:00",
          "1996-11-22T00:00:00",
          "1996-11-25T00:00:00",
          "1996-11-26T00:00:00",
          "1996-11-27T00:00:00",
          "1996-11-29T00:00:00",
          "1996-12-02T00:00:00",
          "1996-12-03T00:00:00",
          "1996-12-04T00:00:00",
          "1996-12-05T00:00:00",
          "1996-12-06T00:00:00",
          "1996-12-09T00:00:00",
          "1996-12-10T00:00:00",
          "1996-12-11T00:00:00",
          "1996-12-12T00:00:00",
          "1996-12-13T00:00:00",
          "1996-12-16T00:00:00",
          "1996-12-17T00:00:00",
          "1996-12-18T00:00:00",
          "1996-12-19T00:00:00",
          "1996-12-20T00:00:00",
          "1996-12-23T00:00:00",
          "1996-12-24T00:00:00",
          "1996-12-26T00:00:00",
          "1996-12-27T00:00:00",
          "1996-12-30T00:00:00",
          "1996-12-31T00:00:00",
          "1997-01-02T00:00:00",
          "1997-01-03T00:00:00",
          "1997-01-06T00:00:00",
          "1997-01-07T00:00:00",
          "1997-01-08T00:00:00",
          "1997-01-09T00:00:00",
          "1997-01-10T00:00:00",
          "1997-01-13T00:00:00",
          "1997-01-14T00:00:00",
          "1997-01-15T00:00:00",
          "1997-01-16T00:00:00",
          "1997-01-17T00:00:00",
          "1997-01-20T00:00:00",
          "1997-01-21T00:00:00",
          "1997-01-22T00:00:00",
          "1997-01-23T00:00:00",
          "1997-01-24T00:00:00",
          "1997-01-27T00:00:00",
          "1997-01-28T00:00:00",
          "1997-01-29T00:00:00",
          "1997-01-30T00:00:00",
          "1997-01-31T00:00:00",
          "1997-02-03T00:00:00",
          "1997-02-04T00:00:00",
          "1997-02-05T00:00:00",
          "1997-02-06T00:00:00",
          "1997-02-07T00:00:00",
          "1997-02-10T00:00:00",
          "1997-02-11T00:00:00",
          "1997-02-12T00:00:00",
          "1997-02-13T00:00:00",
          "1997-02-14T00:00:00",
          "1997-02-18T00:00:00",
          "1997-02-19T00:00:00",
          "1997-02-20T00:00:00",
          "1997-02-21T00:00:00",
          "1997-02-24T00:00:00",
          "1997-02-25T00:00:00",
          "1997-02-26T00:00:00",
          "1997-02-27T00:00:00",
          "1997-02-28T00:00:00",
          "1997-03-03T00:00:00",
          "1997-03-04T00:00:00",
          "1997-03-05T00:00:00",
          "1997-03-06T00:00:00",
          "1997-03-07T00:00:00",
          "1997-03-10T00:00:00",
          "1997-03-11T00:00:00",
          "1997-03-12T00:00:00",
          "1997-03-13T00:00:00",
          "1997-03-14T00:00:00",
          "1997-03-17T00:00:00",
          "1997-03-18T00:00:00",
          "1997-03-19T00:00:00",
          "1997-03-20T00:00:00",
          "1997-03-21T00:00:00",
          "1997-03-24T00:00:00",
          "1997-03-25T00:00:00",
          "1997-03-26T00:00:00",
          "1997-03-27T00:00:00",
          "1997-03-31T00:00:00",
          "1997-04-01T00:00:00",
          "1997-04-02T00:00:00",
          "1997-04-03T00:00:00",
          "1997-04-04T00:00:00",
          "1997-04-07T00:00:00",
          "1997-04-08T00:00:00",
          "1997-04-09T00:00:00",
          "1997-04-10T00:00:00",
          "1997-04-11T00:00:00",
          "1997-04-14T00:00:00",
          "1997-04-15T00:00:00",
          "1997-04-16T00:00:00",
          "1997-04-17T00:00:00",
          "1997-04-18T00:00:00",
          "1997-04-21T00:00:00",
          "1997-04-22T00:00:00",
          "1997-04-23T00:00:00",
          "1997-04-24T00:00:00",
          "1997-04-25T00:00:00",
          "1997-04-28T00:00:00",
          "1997-04-29T00:00:00",
          "1997-04-30T00:00:00",
          "1997-05-01T00:00:00",
          "1997-05-02T00:00:00",
          "1997-05-05T00:00:00",
          "1997-05-06T00:00:00",
          "1997-05-07T00:00:00",
          "1997-05-08T00:00:00",
          "1997-05-09T00:00:00",
          "1997-05-12T00:00:00",
          "1997-05-13T00:00:00",
          "1997-05-14T00:00:00",
          "1997-05-15T00:00:00",
          "1997-05-16T00:00:00",
          "1997-05-19T00:00:00",
          "1997-05-20T00:00:00",
          "1997-05-21T00:00:00",
          "1997-05-22T00:00:00",
          "1997-05-23T00:00:00",
          "1997-05-27T00:00:00",
          "1997-05-28T00:00:00",
          "1997-05-29T00:00:00",
          "1997-05-30T00:00:00",
          "1997-06-02T00:00:00",
          "1997-06-03T00:00:00",
          "1997-06-04T00:00:00",
          "1997-06-05T00:00:00",
          "1997-06-06T00:00:00",
          "1997-06-09T00:00:00",
          "1997-06-10T00:00:00",
          "1997-06-11T00:00:00",
          "1997-06-12T00:00:00",
          "1997-06-13T00:00:00",
          "1997-06-16T00:00:00",
          "1997-06-17T00:00:00",
          "1997-06-18T00:00:00",
          "1997-06-19T00:00:00",
          "1997-06-20T00:00:00",
          "1997-06-23T00:00:00",
          "1997-06-24T00:00:00",
          "1997-06-25T00:00:00",
          "1997-06-26T00:00:00",
          "1997-06-27T00:00:00",
          "1997-06-30T00:00:00",
          "1997-07-01T00:00:00",
          "1997-07-02T00:00:00",
          "1997-07-03T00:00:00",
          "1997-07-07T00:00:00",
          "1997-07-08T00:00:00",
          "1997-07-09T00:00:00",
          "1997-07-10T00:00:00",
          "1997-07-11T00:00:00",
          "1997-07-14T00:00:00",
          "1997-07-15T00:00:00",
          "1997-07-16T00:00:00",
          "1997-07-17T00:00:00",
          "1997-07-18T00:00:00",
          "1997-07-21T00:00:00",
          "1997-07-22T00:00:00",
          "1997-07-23T00:00:00",
          "1997-07-24T00:00:00",
          "1997-07-25T00:00:00",
          "1997-07-28T00:00:00",
          "1997-07-29T00:00:00",
          "1997-07-30T00:00:00",
          "1997-07-31T00:00:00",
          "1997-08-01T00:00:00",
          "1997-08-04T00:00:00",
          "1997-08-05T00:00:00",
          "1997-08-06T00:00:00",
          "1997-08-07T00:00:00",
          "1997-08-08T00:00:00",
          "1997-08-11T00:00:00",
          "1997-08-12T00:00:00",
          "1997-08-13T00:00:00",
          "1997-08-14T00:00:00",
          "1997-08-15T00:00:00",
          "1997-08-18T00:00:00",
          "1997-08-19T00:00:00",
          "1997-08-20T00:00:00",
          "1997-08-21T00:00:00",
          "1997-08-22T00:00:00",
          "1997-08-25T00:00:00",
          "1997-08-26T00:00:00",
          "1997-08-27T00:00:00",
          "1997-08-28T00:00:00",
          "1997-08-29T00:00:00",
          "1997-09-02T00:00:00",
          "1997-09-03T00:00:00",
          "1997-09-04T00:00:00",
          "1997-09-05T00:00:00",
          "1997-09-08T00:00:00",
          "1997-09-09T00:00:00",
          "1997-09-10T00:00:00",
          "1997-09-11T00:00:00",
          "1997-09-12T00:00:00",
          "1997-09-15T00:00:00",
          "1997-09-16T00:00:00",
          "1997-09-17T00:00:00",
          "1997-09-18T00:00:00",
          "1997-09-19T00:00:00",
          "1997-09-22T00:00:00",
          "1997-09-23T00:00:00",
          "1997-09-24T00:00:00",
          "1997-09-25T00:00:00",
          "1997-09-26T00:00:00",
          "1997-09-29T00:00:00",
          "1997-09-30T00:00:00",
          "1997-10-01T00:00:00",
          "1997-10-02T00:00:00",
          "1997-10-03T00:00:00",
          "1997-10-06T00:00:00",
          "1997-10-07T00:00:00",
          "1997-10-08T00:00:00",
          "1997-10-09T00:00:00",
          "1997-10-10T00:00:00",
          "1997-10-13T00:00:00",
          "1997-10-14T00:00:00",
          "1997-10-15T00:00:00",
          "1997-10-16T00:00:00",
          "1997-10-17T00:00:00",
          "1997-10-20T00:00:00",
          "1997-10-21T00:00:00",
          "1997-10-22T00:00:00",
          "1997-10-23T00:00:00",
          "1997-10-24T00:00:00",
          "1997-10-27T00:00:00",
          "1997-10-28T00:00:00",
          "1997-10-29T00:00:00",
          "1997-10-30T00:00:00",
          "1997-10-31T00:00:00",
          "1997-11-03T00:00:00",
          "1997-11-04T00:00:00",
          "1997-11-05T00:00:00",
          "1997-11-06T00:00:00",
          "1997-11-07T00:00:00",
          "1997-11-10T00:00:00",
          "1997-11-11T00:00:00",
          "1997-11-12T00:00:00",
          "1997-11-13T00:00:00",
          "1997-11-14T00:00:00",
          "1997-11-17T00:00:00",
          "1997-11-18T00:00:00",
          "1997-11-19T00:00:00",
          "1997-11-20T00:00:00",
          "1997-11-21T00:00:00",
          "1997-11-24T00:00:00",
          "1997-11-25T00:00:00",
          "1997-11-26T00:00:00",
          "1997-11-28T00:00:00",
          "1997-12-01T00:00:00",
          "1997-12-02T00:00:00",
          "1997-12-03T00:00:00",
          "1997-12-04T00:00:00",
          "1997-12-05T00:00:00",
          "1997-12-08T00:00:00",
          "1997-12-09T00:00:00",
          "1997-12-10T00:00:00",
          "1997-12-11T00:00:00",
          "1997-12-12T00:00:00",
          "1997-12-15T00:00:00",
          "1997-12-16T00:00:00",
          "1997-12-17T00:00:00",
          "1997-12-18T00:00:00",
          "1997-12-19T00:00:00",
          "1997-12-22T00:00:00",
          "1997-12-23T00:00:00",
          "1997-12-24T00:00:00",
          "1997-12-26T00:00:00",
          "1997-12-29T00:00:00",
          "1997-12-30T00:00:00",
          "1997-12-31T00:00:00",
          "1998-01-02T00:00:00",
          "1998-01-05T00:00:00",
          "1998-01-06T00:00:00",
          "1998-01-07T00:00:00",
          "1998-01-08T00:00:00",
          "1998-01-09T00:00:00",
          "1998-01-12T00:00:00",
          "1998-01-13T00:00:00",
          "1998-01-14T00:00:00",
          "1998-01-15T00:00:00",
          "1998-01-16T00:00:00",
          "1998-01-20T00:00:00",
          "1998-01-21T00:00:00",
          "1998-01-22T00:00:00",
          "1998-01-23T00:00:00",
          "1998-01-26T00:00:00",
          "1998-01-27T00:00:00",
          "1998-01-28T00:00:00",
          "1998-01-29T00:00:00",
          "1998-01-30T00:00:00",
          "1998-02-02T00:00:00",
          "1998-02-03T00:00:00",
          "1998-02-04T00:00:00",
          "1998-02-05T00:00:00",
          "1998-02-06T00:00:00",
          "1998-02-09T00:00:00",
          "1998-02-10T00:00:00",
          "1998-02-11T00:00:00",
          "1998-02-12T00:00:00",
          "1998-02-13T00:00:00",
          "1998-02-17T00:00:00",
          "1998-02-18T00:00:00",
          "1998-02-19T00:00:00",
          "1998-02-20T00:00:00",
          "1998-02-23T00:00:00",
          "1998-02-24T00:00:00",
          "1998-02-25T00:00:00",
          "1998-02-26T00:00:00",
          "1998-02-27T00:00:00",
          "1998-03-02T00:00:00",
          "1998-03-03T00:00:00",
          "1998-03-04T00:00:00",
          "1998-03-05T00:00:00",
          "1998-03-06T00:00:00",
          "1998-03-09T00:00:00",
          "1998-03-10T00:00:00",
          "1998-03-11T00:00:00",
          "1998-03-12T00:00:00",
          "1998-03-13T00:00:00",
          "1998-03-16T00:00:00",
          "1998-03-17T00:00:00",
          "1998-03-18T00:00:00",
          "1998-03-19T00:00:00",
          "1998-03-20T00:00:00",
          "1998-03-23T00:00:00",
          "1998-03-24T00:00:00",
          "1998-03-25T00:00:00",
          "1998-03-26T00:00:00",
          "1998-03-27T00:00:00",
          "1998-03-30T00:00:00",
          "1998-03-31T00:00:00",
          "1998-04-01T00:00:00",
          "1998-04-02T00:00:00",
          "1998-04-03T00:00:00",
          "1998-04-06T00:00:00",
          "1998-04-07T00:00:00",
          "1998-04-08T00:00:00",
          "1998-04-09T00:00:00",
          "1998-04-13T00:00:00",
          "1998-04-14T00:00:00",
          "1998-04-15T00:00:00",
          "1998-04-16T00:00:00",
          "1998-04-17T00:00:00",
          "1998-04-20T00:00:00",
          "1998-04-21T00:00:00",
          "1998-04-22T00:00:00",
          "1998-04-23T00:00:00",
          "1998-04-24T00:00:00",
          "1998-04-27T00:00:00",
          "1998-04-28T00:00:00",
          "1998-04-29T00:00:00",
          "1998-04-30T00:00:00",
          "1998-05-01T00:00:00",
          "1998-05-04T00:00:00",
          "1998-05-05T00:00:00",
          "1998-05-06T00:00:00",
          "1998-05-07T00:00:00",
          "1998-05-08T00:00:00",
          "1998-05-11T00:00:00",
          "1998-05-12T00:00:00",
          "1998-05-13T00:00:00",
          "1998-05-14T00:00:00",
          "1998-05-15T00:00:00",
          "1998-05-18T00:00:00",
          "1998-05-19T00:00:00",
          "1998-05-20T00:00:00",
          "1998-05-21T00:00:00",
          "1998-05-22T00:00:00",
          "1998-05-26T00:00:00",
          "1998-05-27T00:00:00",
          "1998-05-28T00:00:00",
          "1998-05-29T00:00:00",
          "1998-06-01T00:00:00",
          "1998-06-02T00:00:00",
          "1998-06-03T00:00:00",
          "1998-06-04T00:00:00",
          "1998-06-05T00:00:00",
          "1998-06-08T00:00:00",
          "1998-06-09T00:00:00",
          "1998-06-10T00:00:00",
          "1998-06-11T00:00:00",
          "1998-06-12T00:00:00",
          "1998-06-15T00:00:00",
          "1998-06-16T00:00:00",
          "1998-06-17T00:00:00",
          "1998-06-18T00:00:00",
          "1998-06-19T00:00:00",
          "1998-06-22T00:00:00",
          "1998-06-23T00:00:00",
          "1998-06-24T00:00:00",
          "1998-06-25T00:00:00",
          "1998-06-26T00:00:00",
          "1998-06-29T00:00:00",
          "1998-06-30T00:00:00",
          "1998-07-01T00:00:00",
          "1998-07-02T00:00:00",
          "1998-07-06T00:00:00",
          "1998-07-07T00:00:00",
          "1998-07-08T00:00:00",
          "1998-07-09T00:00:00",
          "1998-07-10T00:00:00",
          "1998-07-13T00:00:00",
          "1998-07-14T00:00:00",
          "1998-07-15T00:00:00",
          "1998-07-16T00:00:00",
          "1998-07-17T00:00:00",
          "1998-07-20T00:00:00",
          "1998-07-21T00:00:00",
          "1998-07-22T00:00:00",
          "1998-07-23T00:00:00",
          "1998-07-24T00:00:00",
          "1998-07-27T00:00:00",
          "1998-07-28T00:00:00",
          "1998-07-29T00:00:00",
          "1998-07-30T00:00:00",
          "1998-07-31T00:00:00",
          "1998-08-03T00:00:00",
          "1998-08-04T00:00:00",
          "1998-08-05T00:00:00",
          "1998-08-06T00:00:00",
          "1998-08-07T00:00:00",
          "1998-08-10T00:00:00",
          "1998-08-11T00:00:00",
          "1998-08-12T00:00:00",
          "1998-08-13T00:00:00",
          "1998-08-14T00:00:00",
          "1998-08-17T00:00:00",
          "1998-08-18T00:00:00",
          "1998-08-19T00:00:00",
          "1998-08-20T00:00:00",
          "1998-08-21T00:00:00",
          "1998-08-24T00:00:00",
          "1998-08-25T00:00:00",
          "1998-08-26T00:00:00",
          "1998-08-27T00:00:00",
          "1998-08-28T00:00:00",
          "1998-08-31T00:00:00",
          "1998-09-01T00:00:00",
          "1998-09-02T00:00:00",
          "1998-09-03T00:00:00",
          "1998-09-04T00:00:00",
          "1998-09-08T00:00:00",
          "1998-09-09T00:00:00",
          "1998-09-10T00:00:00",
          "1998-09-11T00:00:00",
          "1998-09-14T00:00:00",
          "1998-09-15T00:00:00",
          "1998-09-16T00:00:00",
          "1998-09-17T00:00:00",
          "1998-09-18T00:00:00",
          "1998-09-21T00:00:00",
          "1998-09-22T00:00:00",
          "1998-09-23T00:00:00",
          "1998-09-24T00:00:00",
          "1998-09-25T00:00:00",
          "1998-09-28T00:00:00",
          "1998-09-29T00:00:00",
          "1998-09-30T00:00:00",
          "1998-10-01T00:00:00",
          "1998-10-02T00:00:00",
          "1998-10-05T00:00:00",
          "1998-10-06T00:00:00",
          "1998-10-07T00:00:00",
          "1998-10-08T00:00:00",
          "1998-10-09T00:00:00",
          "1998-10-12T00:00:00",
          "1998-10-13T00:00:00",
          "1998-10-14T00:00:00",
          "1998-10-15T00:00:00",
          "1998-10-16T00:00:00",
          "1998-10-19T00:00:00",
          "1998-10-20T00:00:00",
          "1998-10-21T00:00:00",
          "1998-10-22T00:00:00",
          "1998-10-23T00:00:00",
          "1998-10-26T00:00:00",
          "1998-10-27T00:00:00",
          "1998-10-28T00:00:00",
          "1998-10-29T00:00:00",
          "1998-10-30T00:00:00",
          "1998-11-02T00:00:00",
          "1998-11-03T00:00:00",
          "1998-11-04T00:00:00",
          "1998-11-05T00:00:00",
          "1998-11-06T00:00:00",
          "1998-11-09T00:00:00",
          "1998-11-10T00:00:00",
          "1998-11-11T00:00:00",
          "1998-11-12T00:00:00",
          "1998-11-13T00:00:00",
          "1998-11-16T00:00:00",
          "1998-11-17T00:00:00",
          "1998-11-18T00:00:00",
          "1998-11-19T00:00:00",
          "1998-11-20T00:00:00",
          "1998-11-23T00:00:00",
          "1998-11-24T00:00:00",
          "1998-11-25T00:00:00",
          "1998-11-27T00:00:00",
          "1998-11-30T00:00:00",
          "1998-12-01T00:00:00",
          "1998-12-02T00:00:00",
          "1998-12-03T00:00:00",
          "1998-12-04T00:00:00",
          "1998-12-07T00:00:00",
          "1998-12-08T00:00:00",
          "1998-12-09T00:00:00",
          "1998-12-10T00:00:00",
          "1998-12-11T00:00:00",
          "1998-12-14T00:00:00",
          "1998-12-15T00:00:00",
          "1998-12-16T00:00:00",
          "1998-12-17T00:00:00",
          "1998-12-18T00:00:00",
          "1998-12-21T00:00:00",
          "1998-12-22T00:00:00",
          "1998-12-23T00:00:00",
          "1998-12-24T00:00:00",
          "1998-12-28T00:00:00",
          "1998-12-29T00:00:00",
          "1998-12-30T00:00:00",
          "1998-12-31T00:00:00",
          "1999-01-04T00:00:00",
          "1999-01-05T00:00:00",
          "1999-01-06T00:00:00",
          "1999-01-07T00:00:00",
          "1999-01-08T00:00:00",
          "1999-01-11T00:00:00",
          "1999-01-12T00:00:00",
          "1999-01-13T00:00:00",
          "1999-01-14T00:00:00",
          "1999-01-15T00:00:00",
          "1999-01-19T00:00:00",
          "1999-01-20T00:00:00",
          "1999-01-21T00:00:00",
          "1999-01-22T00:00:00",
          "1999-01-25T00:00:00",
          "1999-01-26T00:00:00",
          "1999-01-27T00:00:00",
          "1999-01-28T00:00:00",
          "1999-01-29T00:00:00",
          "1999-02-01T00:00:00",
          "1999-02-02T00:00:00",
          "1999-02-03T00:00:00",
          "1999-02-04T00:00:00",
          "1999-02-05T00:00:00",
          "1999-02-08T00:00:00",
          "1999-02-09T00:00:00",
          "1999-02-10T00:00:00",
          "1999-02-11T00:00:00",
          "1999-02-12T00:00:00",
          "1999-02-16T00:00:00",
          "1999-02-17T00:00:00",
          "1999-02-18T00:00:00",
          "1999-02-19T00:00:00",
          "1999-02-22T00:00:00",
          "1999-02-23T00:00:00",
          "1999-02-24T00:00:00",
          "1999-02-25T00:00:00",
          "1999-02-26T00:00:00",
          "1999-03-01T00:00:00",
          "1999-03-02T00:00:00",
          "1999-03-03T00:00:00",
          "1999-03-04T00:00:00",
          "1999-03-05T00:00:00",
          "1999-03-08T00:00:00",
          "1999-03-09T00:00:00",
          "1999-03-10T00:00:00",
          "1999-03-11T00:00:00",
          "1999-03-12T00:00:00",
          "1999-03-15T00:00:00",
          "1999-03-16T00:00:00",
          "1999-03-17T00:00:00",
          "1999-03-18T00:00:00",
          "1999-03-19T00:00:00",
          "1999-03-22T00:00:00",
          "1999-03-23T00:00:00",
          "1999-03-24T00:00:00",
          "1999-03-25T00:00:00",
          "1999-03-26T00:00:00",
          "1999-03-29T00:00:00",
          "1999-03-30T00:00:00",
          "1999-03-31T00:00:00",
          "1999-04-01T00:00:00",
          "1999-04-05T00:00:00",
          "1999-04-06T00:00:00",
          "1999-04-07T00:00:00",
          "1999-04-08T00:00:00",
          "1999-04-09T00:00:00",
          "1999-04-12T00:00:00",
          "1999-04-13T00:00:00",
          "1999-04-14T00:00:00",
          "1999-04-15T00:00:00",
          "1999-04-16T00:00:00",
          "1999-04-19T00:00:00",
          "1999-04-20T00:00:00",
          "1999-04-21T00:00:00",
          "1999-04-22T00:00:00",
          "1999-04-23T00:00:00",
          "1999-04-26T00:00:00",
          "1999-04-27T00:00:00",
          "1999-04-28T00:00:00",
          "1999-04-29T00:00:00",
          "1999-04-30T00:00:00",
          "1999-05-03T00:00:00",
          "1999-05-04T00:00:00",
          "1999-05-05T00:00:00",
          "1999-05-06T00:00:00",
          "1999-05-07T00:00:00",
          "1999-05-10T00:00:00",
          "1999-05-11T00:00:00",
          "1999-05-12T00:00:00",
          "1999-05-13T00:00:00",
          "1999-05-14T00:00:00",
          "1999-05-17T00:00:00",
          "1999-05-18T00:00:00",
          "1999-05-19T00:00:00",
          "1999-05-20T00:00:00",
          "1999-05-21T00:00:00",
          "1999-05-24T00:00:00",
          "1999-05-25T00:00:00",
          "1999-05-26T00:00:00",
          "1999-05-27T00:00:00",
          "1999-05-28T00:00:00",
          "1999-06-01T00:00:00",
          "1999-06-02T00:00:00",
          "1999-06-03T00:00:00",
          "1999-06-04T00:00:00",
          "1999-06-07T00:00:00",
          "1999-06-08T00:00:00",
          "1999-06-09T00:00:00",
          "1999-06-10T00:00:00",
          "1999-06-11T00:00:00",
          "1999-06-14T00:00:00",
          "1999-06-15T00:00:00",
          "1999-06-16T00:00:00",
          "1999-06-17T00:00:00",
          "1999-06-18T00:00:00",
          "1999-06-21T00:00:00",
          "1999-06-22T00:00:00",
          "1999-06-23T00:00:00",
          "1999-06-24T00:00:00",
          "1999-06-25T00:00:00",
          "1999-06-28T00:00:00",
          "1999-06-29T00:00:00",
          "1999-06-30T00:00:00",
          "1999-07-01T00:00:00",
          "1999-07-02T00:00:00",
          "1999-07-06T00:00:00",
          "1999-07-07T00:00:00",
          "1999-07-08T00:00:00",
          "1999-07-09T00:00:00",
          "1999-07-12T00:00:00",
          "1999-07-13T00:00:00",
          "1999-07-14T00:00:00",
          "1999-07-15T00:00:00",
          "1999-07-16T00:00:00",
          "1999-07-19T00:00:00",
          "1999-07-20T00:00:00",
          "1999-07-21T00:00:00",
          "1999-07-22T00:00:00",
          "1999-07-23T00:00:00",
          "1999-07-26T00:00:00",
          "1999-07-27T00:00:00",
          "1999-07-28T00:00:00",
          "1999-07-29T00:00:00",
          "1999-07-30T00:00:00",
          "1999-08-02T00:00:00",
          "1999-08-03T00:00:00",
          "1999-08-04T00:00:00",
          "1999-08-05T00:00:00",
          "1999-08-06T00:00:00",
          "1999-08-09T00:00:00",
          "1999-08-10T00:00:00",
          "1999-08-11T00:00:00",
          "1999-08-12T00:00:00",
          "1999-08-13T00:00:00",
          "1999-08-16T00:00:00",
          "1999-08-17T00:00:00",
          "1999-08-18T00:00:00",
          "1999-08-19T00:00:00",
          "1999-08-20T00:00:00",
          "1999-08-23T00:00:00",
          "1999-08-24T00:00:00",
          "1999-08-25T00:00:00",
          "1999-08-26T00:00:00",
          "1999-08-27T00:00:00",
          "1999-08-30T00:00:00",
          "1999-08-31T00:00:00",
          "1999-09-01T00:00:00",
          "1999-09-02T00:00:00",
          "1999-09-03T00:00:00",
          "1999-09-07T00:00:00",
          "1999-09-08T00:00:00",
          "1999-09-09T00:00:00",
          "1999-09-10T00:00:00",
          "1999-09-13T00:00:00",
          "1999-09-14T00:00:00",
          "1999-09-15T00:00:00",
          "1999-09-16T00:00:00",
          "1999-09-17T00:00:00",
          "1999-09-20T00:00:00",
          "1999-09-21T00:00:00",
          "1999-09-22T00:00:00",
          "1999-09-23T00:00:00",
          "1999-09-24T00:00:00",
          "1999-09-27T00:00:00",
          "1999-09-28T00:00:00",
          "1999-09-29T00:00:00",
          "1999-09-30T00:00:00",
          "1999-10-01T00:00:00",
          "1999-10-04T00:00:00",
          "1999-10-05T00:00:00",
          "1999-10-06T00:00:00",
          "1999-10-07T00:00:00",
          "1999-10-08T00:00:00",
          "1999-10-11T00:00:00",
          "1999-10-12T00:00:00",
          "1999-10-13T00:00:00",
          "1999-10-14T00:00:00",
          "1999-10-15T00:00:00",
          "1999-10-18T00:00:00",
          "1999-10-19T00:00:00",
          "1999-10-20T00:00:00",
          "1999-10-21T00:00:00",
          "1999-10-22T00:00:00",
          "1999-10-25T00:00:00",
          "1999-10-26T00:00:00",
          "1999-10-27T00:00:00",
          "1999-10-28T00:00:00",
          "1999-10-29T00:00:00",
          "1999-11-01T00:00:00",
          "1999-11-02T00:00:00",
          "1999-11-03T00:00:00",
          "1999-11-04T00:00:00",
          "1999-11-05T00:00:00",
          "1999-11-08T00:00:00",
          "1999-11-09T00:00:00",
          "1999-11-10T00:00:00",
          "1999-11-11T00:00:00",
          "1999-11-12T00:00:00",
          "1999-11-15T00:00:00",
          "1999-11-16T00:00:00",
          "1999-11-17T00:00:00",
          "1999-11-18T00:00:00",
          "1999-11-19T00:00:00",
          "1999-11-22T00:00:00",
          "1999-11-23T00:00:00",
          "1999-11-24T00:00:00",
          "1999-11-26T00:00:00",
          "1999-11-29T00:00:00",
          "1999-11-30T00:00:00",
          "1999-12-01T00:00:00",
          "1999-12-02T00:00:00",
          "1999-12-03T00:00:00",
          "1999-12-06T00:00:00",
          "1999-12-07T00:00:00",
          "1999-12-08T00:00:00",
          "1999-12-09T00:00:00",
          "1999-12-10T00:00:00",
          "1999-12-13T00:00:00",
          "1999-12-14T00:00:00",
          "1999-12-15T00:00:00",
          "1999-12-16T00:00:00",
          "1999-12-17T00:00:00",
          "1999-12-20T00:00:00",
          "1999-12-21T00:00:00",
          "1999-12-22T00:00:00",
          "1999-12-23T00:00:00",
          "1999-12-27T00:00:00",
          "1999-12-28T00:00:00",
          "1999-12-29T00:00:00",
          "1999-12-30T00:00:00",
          "1999-12-31T00:00:00",
          "2000-01-03T00:00:00",
          "2000-01-04T00:00:00",
          "2000-01-05T00:00:00",
          "2000-01-06T00:00:00",
          "2000-01-07T00:00:00",
          "2000-01-10T00:00:00",
          "2000-01-11T00:00:00",
          "2000-01-12T00:00:00",
          "2000-01-13T00:00:00",
          "2000-01-14T00:00:00",
          "2000-01-18T00:00:00",
          "2000-01-19T00:00:00",
          "2000-01-20T00:00:00",
          "2000-01-21T00:00:00",
          "2000-01-24T00:00:00",
          "2000-01-25T00:00:00",
          "2000-01-26T00:00:00",
          "2000-01-27T00:00:00",
          "2000-01-28T00:00:00",
          "2000-01-31T00:00:00",
          "2000-02-01T00:00:00"
         ],
         "xaxis": "x3",
         "y": [
          null,
          null,
          null,
          null,
          null,
          null,
          null,
          null,
          null,
          null,
          null,
          null,
          null,
          null,
          null,
          null,
          null,
          null,
          null,
          null,
          null,
          null,
          null,
          null,
          null,
          null,
          null,
          null,
          null,
          null,
          null,
          null,
          null,
          null,
          null,
          null,
          null,
          null,
          null,
          null,
          null,
          null,
          null,
          null,
          null,
          null,
          null,
          null,
          null,
          null,
          16.829999923706055,
          16.450000762939453,
          17.06999969482422,
          16.40999984741211,
          15.119999885559082,
          15.380000114440918,
          15.010000228881836,
          14.90999984741211,
          14.720000267028809,
          14.75,
          15.449999809265137,
          15.829999923706055,
          16.06999969482422,
          18.6200008392334,
          16.700000762939453,
          16.920000076293945,
          16.8700008392334,
          15.779999732971191,
          16.989999771118164,
          15.609999656677246,
          15.15999984741211,
          14.899999618530273,
          15.59000015258789,
          15.710000038146973,
          15.130000114440918,
          15.800000190734863,
          16,
          15.5,
          16.170000076293945,
          15.539999961853027,
          16.920000076293945,
          17.149999618530273,
          16.020000457763672,
          16.06999969482422,
          16.860000610351562,
          16.18000030517578,
          16.040000915527344,
          16.84000015258789,
          16.100000381469727,
          16.780000686645508,
          16.68000030517578,
          17,
          17.1200008392334,
          18.639999389648438,
          17.459999084472656,
          17.450000762939453,
          17.540000915527344,
          16.969999313354492,
          15.800000190734863,
          15.90999984741211,
          15.430000305175781,
          15.229999542236328,
          14.1899995803833,
          13.680000305175781,
          13.779999732971191,
          14.1899995803833,
          14.210000038146973,
          16.09000015258789,
          16.420000076293945,
          15.489999771118164,
          15.510000228881836,
          17.809999465942383,
          17.09000015258789,
          20.110000610351562,
          20.100000381469727,
          19.219999313354492,
          17.93000030517578,
          17.260000228881836,
          20.40999984741211,
          21.549999237060547,
          21.440000534057617,
          19.389999389648438,
          17.450000762939453,
          20.09000015258789,
          20.530000686645508,
          19.459999084472656,
          18.760000228881836,
          16.190000534057617,
          17.360000610351562,
          16.93000030517578,
          16.239999771118164,
          16.040000915527344,
          15.770000457763672,
          15.569999694824219,
          16.40999984741211,
          15.960000038146973,
          15.460000038146973,
          14.8100004196167,
          15.270000457763672,
          14.729999542236328,
          14.520000457763672,
          13.710000038146973,
          14.180000305175781,
          15.380000114440918,
          15.109999656677246,
          15.100000381469727,
          16.219999313354492,
          17.010000228881836,
          18.469999313354492,
          18.639999389648438,
          20.510000228881836,
          17.100000381469727,
          16.360000610351562,
          16.25,
          16.059999465942383,
          15.970000267028809,
          15.199999809265137,
          15.430000305175781,
          15.739999771118164,
          15.859999656677246,
          16.030000686645508,
          15.649999618530273,
          16.459999084472656,
          16.450000762939453,
          16.219999313354492,
          16.110000610351562,
          16.100000381469727,
          16.950000762939453,
          17.049999237060547,
          16.780000686645508,
          16.770000457763672,
          14.800000190734863,
          15.109999656677246,
          15.579999923706055,
          16.09000015258789,
          16.260000228881836,
          15.069999694824219,
          15.130000114440918,
          15.829999923706055,
          15.600000381469727,
          15.40999984741211,
          15.079999923706055,
          15.979999542236328,
          16.399999618530273,
          16.450000762939453,
          16.889999389648438,
          17.290000915527344,
          18.34000015258789,
          18.280000686645508,
          18.479999542236328,
          18.110000610351562,
          17.889999389648438,
          18.040000915527344,
          17.649999618530273,
          16.969999313354492,
          17.209999084472656,
          15.779999732971191,
          14.039999961853027,
          15.359999656677246,
          14.890000343322754,
          13.789999961853027,
          14.359999656677246,
          15.119999885559082,
          15.229999542236328,
          15.9399995803833,
          15.770000457763672,
          14.920000076293945,
          15.90999984741211,
          16.969999313354492,
          16.959999084472656,
          17.139999389648438,
          17.93000030517578,
          18.68000030517578,
          17.93000030517578,
          18.139999389648438,
          18.81999969482422,
          17.75,
          17.8799991607666,
          19.68000030517578,
          20.450000762939453,
          21.09000015258789,
          21.989999771118164,
          20.770000457763672,
          19.420000076293945,
          18.770000457763672,
          18.850000381469727,
          19.5,
          18.68000030517578,
          18.59000015258789,
          19.1299991607666,
          19.510000228881836,
          20.920000076293945,
          21.139999389648438,
          19.1299991607666,
          19.889999389648438,
          19.350000381469727,
          20.239999771118164,
          20.90999984741211,
          19.6299991607666,
          19.84000015258789,
          19.270000457763672,
          19.399999618530273,
          19.610000610351562,
          18.6299991607666,
          18.600000381469727,
          17.809999465942383,
          17.09000015258789,
          18.469999313354492,
          19.329999923706055,
          20.15999984741211,
          20.739999771118164,
          20.229999542236328,
          19.469999313354492,
          19.469999313354492,
          19.579999923706055,
          19.43000030517578,
          21.059999465942383,
          20.15999984741211,
          18.899999618530273,
          20.649999618530273,
          19.969999313354492,
          19.479999542236328,
          19.229999542236328,
          19.18000030517578,
          19.700000762939453,
          20.610000610351562,
          21.40999984741211,
          20.549999237060547,
          19.84000015258789,
          19.979999542236328,
          20.739999771118164,
          21.079999923706055,
          21.100000381469727,
          20.889999389648438,
          20.6200008392334,
          19.489999771118164,
          20.479999542236328,
          19.31999969482422,
          19,
          19.25,
          19.610000610351562,
          19.790000915527344,
          19.809999465942383,
          20.950000762939453,
          21.260000228881836,
          21.739999771118164,
          21.219999313354492,
          19.690000534057617,
          20.059999465942383,
          19.260000228881836,
          18.31999969482422,
          20.5,
          22.139999389648438,
          20.84000015258789,
          21.299999237060547,
          21.190000534057617,
          19.229999542236328,
          18.510000228881836,
          18.440000534057617,
          18.559999465942383,
          19.010000228881836,
          19.760000228881836,
          19.09000015258789,
          18.25,
          17.639999389648438,
          18.709999084472656,
          18.75,
          20.100000381469727,
          19.520000457763672,
          20.479999542236328,
          20.829999923706055,
          21.149999618530273,
          21.34000015258789,
          19.809999465942383,
          20.059999465942383,
          19.8700008392334,
          17.510000228881836,
          20.1299991607666,
          20.850000381469727,
          21.34000015258789,
          21.260000228881836,
          20.110000610351562,
          20.25,
          20.809999465942383,
          21.09000015258789,
          19.90999984741211,
          21.56999969482422,
          21.479999542236328,
          19.260000228881836,
          19.280000686645508,
          18.770000457763672,
          18.079999923706055,
          19.360000610351562,
          19.280000686645508,
          19.020000457763672,
          19.190000534057617,
          20.850000381469727,
          20.010000228881836,
          20.100000381469727,
          20.360000610351562,
          18.940000534057617,
          19.459999084472656,
          19.040000915527344,
          18.850000381469727,
          18.510000228881836,
          19.270000457763672,
          19.770000457763672,
          20.170000076293945,
          20.450000762939453,
          20.100000381469727,
          20.200000762939453,
          21.190000534057617,
          20.739999771118164,
          21.5,
          21.81999969482422,
          21.219999313354492,
          21.530000686645508,
          21,
          19.700000762939453,
          17.81999969482422,
          19.1299991607666,
          18.760000228881836,
          20.399999618530273,
          19.920000076293945,
          19.059999465942383,
          19.579999923706055,
          19,
          19.360000610351562,
          20.540000915527344,
          22.280000686645508,
          23.510000228881836,
          21.770000457763672,
          21.299999237060547,
          20.959999084472656,
          20.81999969482422,
          21.84000015258789,
          22.020000457763672,
          21.389999389648438,
          21.479999542236328,
          22.290000915527344,
          21.940000534057617,
          20.639999389648438,
          20.049999237060547,
          19.770000457763672,
          22.459999084472656,
          22.770000457763672,
          23.75,
          24.520000457763672,
          23.110000610351562,
          24.450000762939453,
          24.3700008392334,
          22.639999389648438,
          21.09000015258789,
          23.829999923706055,
          24.739999771118164,
          24.100000381469727,
          24.729999542236328,
          24.260000228881836,
          24.510000228881836,
          24.760000228881836,
          24.530000686645508,
          24.950000762939453,
          25.270000457763672,
          24.309999465942383,
          24.399999618530273,
          23.889999389648438,
          24.639999389648438,
          25.989999771118164,
          25.170000076293945,
          25.739999771118164,
          23.770000457763672,
          24.100000381469727,
          23.479999542236328,
          22.739999771118164,
          22.079999923706055,
          22,
          22.639999389648438,
          22.959999084472656,
          22.260000228881836,
          22.229999542236328,
          22.90999984741211,
          22.31999969482422,
          22.270000457763672,
          21.540000915527344,
          21.610000610351562,
          20.290000915527344,
          20.770000457763672,
          22.309999465942383,
          19.75,
          20.260000228881836,
          19.989999771118164,
          20.049999237060547,
          20.530000686645508,
          21.690000534057617,
          20.719999313354492,
          19.530000686645508,
          19.860000610351562,
          22.989999771118164,
          23.170000076293945,
          31.1200008392334,
          31.219999313354492,
          33.75,
          38.20000076293945,
          35.09000015258789,
          32.09000015258789,
          32.2400016784668,
          32.18000030517578,
          32.56999969482422,
          36.27000045776367,
          36.630001068115234,
          36.380001068115234,
          37.84000015258789,
          36.63999938964844,
          33.65999984741211,
          31.579999923706055,
          31.549999237060547,
          29.93000030517578,
          27.31999969482422,
          26.649999618530273,
          29.799999237060547,
          28.950000762939453,
          28.950000762939453,
          27.43000030517578,
          26.010000228881836,
          25.65999984741211,
          23.920000076293945,
          23.84000015258789,
          22.649999618530273,
          23.219999313354492,
          23.360000610351562,
          24.549999237060547,
          27.6299991607666,
          27.920000076293945,
          27.3700008392334,
          26.110000610351562,
          26.329999923706055,
          27.190000534057617,
          29.18000030517578,
          28.559999465942383,
          29.860000610351562,
          30.270000457763672,
          29.270000457763672,
          26.790000915527344,
          24.3799991607666,
          24.010000228881836,
          23.420000076293945,
          24.360000610351562,
          25.65999984741211,
          25.06999969482422,
          26.010000228881836,
          28.690000534057617,
          28.020000457763672,
          25.170000076293945,
          23.75,
          23.450000762939453,
          21.649999618530273,
          21.649999618530273,
          22.530000686645508,
          23.15999984741211,
          23.31999969482422,
          23.969999313354492,
          22.270000457763672,
          22.059999465942383,
          21.649999618530273,
          21.469999313354492,
          21.360000610351562,
          20.670000076293945,
          20.549999237060547,
          21.290000915527344,
          20.510000228881836,
          21.549999237060547,
          20.65999984741211,
          20.3799991607666,
          19.729999542236328,
          19.84000015258789,
          20.760000228881836,
          19.65999984741211,
          19.8799991607666,
          19,
          18.989999771118164,
          19.350000381469727,
          18.6200008392334,
          18.6299991607666,
          18.549999237060547,
          19.190000534057617,
          19.040000915527344,
          19.579999923706055,
          20.93000030517578,
          19.139999389648438,
          20.229999542236328,
          19.43000030517578,
          18.889999389648438,
          18.25,
          18.709999084472656,
          18.510000228881836,
          18.65999984741211,
          18.290000915527344,
          17.760000228881836,
          18.690000534057617,
          19.979999542236328,
          20.510000228881836,
          22.540000915527344,
          22.809999465942383,
          23.469999313354492,
          24.65999984741211,
          24.219999313354492,
          23.3700008392334,
          21.979999542236328,
          21.81999969482422,
          22.469999313354492,
          23.65999984741211,
          23.170000076293945,
          21.510000228881836,
          22.770000457763672,
          21.610000610351562,
          20.889999389648438,
          22.059999465942383,
          20.760000228881836,
          20.389999389648438,
          19.90999984741211,
          19.440000534057617,
          20.600000381469727,
          21.969999313354492,
          26.09000015258789,
          24.170000076293945,
          22.780000686645508,
          21.18000030517578,
          19.34000015258789,
          20.31999969482422,
          21.459999084472656,
          22.790000915527344,
          23.389999389648438,
          20.56999969482422,
          21.049999237060547,
          20.979999542236328,
          20.440000534057617,
          19.639999389648438,
          20.440000534057617,
          21.690000534057617,
          20.389999389648438,
          19.889999389648438,
          19.3799991607666,
          18.989999771118164,
          22.06999969482422,
          22.59000015258789,
          20.739999771118164,
          21.31999969482422,
          22.829999923706055,
          22,
          22.850000381469727,
          21.219999313354492,
          19.780000686645508,
          20.579999923706055,
          20.520000457763672,
          21.479999542236328,
          23.56999969482422,
          22.780000686645508,
          25.940000534057617,
          24.799999237060547,
          22.889999389648438,
          22.399999618530273,
          21.920000076293945,
          21.940000534057617,
          20.170000076293945,
          20.020000457763672,
          20.25,
          19.360000610351562,
          19.56999969482422,
          19.709999084472656,
          18,
          17.670000076293945,
          18.6299991607666,
          18.6200008392334,
          17.81999969482422,
          18.15999984741211,
          17.920000076293945,
          18.260000228881836,
          17.8799991607666,
          17.889999389648438,
          16.969999313354492,
          16.229999542236328,
          17.34000015258789,
          20.100000381469727,
          20.31999969482422,
          23.010000228881836,
          23.010000228881836,
          23.1299991607666,
          25.25,
          24.790000915527344,
          22.65999984741211,
          24.799999237060547,
          25.979999542236328,
          31.059999465942383,
          29.829999923706055,
          28.200000762939453,
          27.020000457763672,
          28.75,
          31.90999984741211,
          28.549999237060547,
          29.920000076293945,
          34.34000015258789,
          31.860000610351562,
          28.399999618530273,
          28.690000534057617,
          30,
          33.13999938964844,
          31.799999237060547,
          30.329999923706055,
          31.139999389648438,
          38.54999923706055,
          39.599998474121094,
          44.279998779296875,
          36.47999954223633,
          36.7599983215332,
          41.43000030517578,
          43.310001373291016,
          37.900001525878906,
          39.65999984741211,
          45.290000915527344,
          43.7400016784668,
          38.56999969482422,
          36.58000183105469,
          35.939998626708984,
          39.22999954223633,
          38.630001068115234,
          38.58000183105469,
          36.619998931884766,
          32.470001220703125,
          34.65999984741211,
          34.54999923706055,
          34.869998931884766,
          36.08000183105469,
          40.95000076293945,
          43.47999954223633,
          40.470001220703125,
          42.810001373291016,
          41.20000076293945,
          43.5099983215332,
          45.7400016784668,
          42.20000076293945,
          40.06999969482422,
          40.22999954223633,
          38.959999084472656,
          33.34000015258789,
          34.81999969482422,
          33.130001068115234,
          33.11000061035156,
          33.209999084472656,
          31.530000686645508,
          32.27000045776367,
          32.380001068115234,
          32.95000076293945,
          32.41999816894531,
          29.5,
          28.049999237060547,
          27.260000228881836,
          27.760000228881836,
          27.3700008392334,
          26.010000228881836,
          25.700000762939453,
          28.09000015258789,
          28.170000076293945,
          28.469999313354492,
          29.280000686645508,
          29.030000686645508,
          28.899999618530273,
          27.950000762939453,
          27.1299991607666,
          25.5,
          22.469999313354492,
          21.84000015258789,
          23.280000686645508,
          22.149999618530273,
          22.09000015258789,
          26.010000228881836,
          24.969999313354492,
          25.43000030517578,
          28.700000762939453,
          25.309999465942383,
          24.899999618530273,
          25.579999923706055,
          25.65999984741211,
          26.809999465942383,
          27.719999313354492,
          31.309999465942383,
          29.420000076293945,
          29.959999084472656,
          27.959999084472656,
          25.040000915527344,
          23.860000610351562,
          22.780000686645508,
          20.209999084472656,
          21.479999542236328,
          23.5,
          22.18000030517578,
          23.34000015258789,
          24.420000076293945,
          26.170000076293945,
          24.459999084472656,
          23.34000015258789,
          24.3700008392334,
          23.280000686645508,
          25.459999084472656,
          28.100000381469727,
          30.110000610351562,
          32.97999954223633,
          29.239999771118164,
          29.239999771118164,
          28.600000381469727,
          30.920000076293945,
          31.950000762939453,
          31.1299991607666,
          29.229999542236328,
          29.729999542236328,
          28.110000610351562,
          26.25,
          27.670000076293945,
          28.15999984741211,
          27.8799991607666,
          29.479999542236328,
          29.670000076293945,
          30.270000457763672,
          31.360000610351562,
          30.450000762939453,
          27.420000076293945,
          29.760000228881836,
          29.649999618530273,
          30.649999618530273,
          30.450000762939453,
          29.299999237060547,
          25.8700008392334,
          26.489999771118164,
          27.209999084472656,
          28.010000228881836,
          27.8799991607666,
          28.3700008392334,
          29.219999313354492,
          29.040000915527344,
          26.670000076293945,
          24.079999923706055,
          24.540000915527344,
          25.020000457763672,
          24.790000915527344,
          24.3700008392334,
          24.84000015258789,
          25.239999771118164,
          25.149999618530273,
          25.56999969482422,
          24.1299991607666,
          24.31999969482422,
          25,
          27.270000457763672,
          26.600000381469727,
          24.329999923706055,
          24.040000915527344,
          23.540000915527344,
          22.729999542236328,
          23.260000228881836,
          22.059999465942383,
          22.190000534057617,
          22.649999618530273,
          22.809999465942383,
          22.59000015258789,
          21.770000457763672,
          21.93000030517578,
          22.729999542236328,
          24.940000534057617,
          23.93000030517578,
          23.899999618530273,
          26.420000076293945,
          25.020000457763672,
          23.309999465942383,
          22.6200008392334,
          22.760000228881836,
          23.530000686645508,
          23.360000610351562,
          24.399999618530273,
          25.059999465942383,
          25.06999969482422,
          24.149999618530273,
          25.6200008392334,
          25.190000534057617,
          27.440000534057617,
          25.360000610351562,
          26.6200008392334,
          25.6200008392334,
          26.1299991607666,
          25.020000457763672,
          26.860000610351562,
          27.280000686645508,
          27.260000228881836,
          25.079999923706055,
          24.459999084472656,
          24.399999618530273,
          27.6200008392334,
          28.899999618530273,
          27.56999969482422,
          28.1200008392334,
          25.389999389648438,
          26.6200008392334,
          26.209999084472656,
          26.200000762939453,
          23.43000030517578,
          23.780000686645508,
          24.020000457763672,
          23.899999618530273,
          25.31999969482422,
          25.899999618530273,
          26.510000228881836,
          25.90999984741211,
          22.399999618530273,
          21.950000762939453,
          21.75,
          21.809999465942383,
          21.700000762939453,
          21.31999969482422,
          23.059999465942383,
          21.760000228881836,
          22.6299991607666,
          22.510000228881836,
          21.09000015258789,
          19.690000534057617,
          18.65999984741211,
          20.729999542236328,
          20.350000381469727,
          20.239999771118164,
          17.959999084472656,
          19.729999542236328,
          19.950000762939453,
          19.709999084472656,
          18.68000030517578,
          17.420000076293945,
          19.06999969482422,
          21.790000915527344,
          21.459999084472656,
          23.049999237060547,
          23.31999969482422,
          24.979999542236328,
          23.229999542236328,
          22.850000381469727,
          24.520000457763672,
          24.639999389648438,
          25.59000015258789,
          26.270000457763672,
          27.399999618530273,
          27.010000228881836,
          26.600000381469727,
          27.65999984741211,
          28.450000762939453,
          25.389999389648438,
          25.030000686645508,
          22.309999465942383,
          23.06999969482422,
          21.670000076293945,
          23.299999237060547,
          24.389999389648438,
          22.950000762939453,
          22.549999237060547,
          22.399999618530273,
          20.959999084472656,
          21.209999084472656,
          21.829999923706055,
          24.6299991607666,
          24.450000762939453,
          22.93000030517578,
          24.530000686645508,
          20.979999542236328,
          23.440000534057617,
          23.81999969482422,
          23.010000228881836,
          22.030000686645508,
          22.889999389648438,
          23.770000457763672,
          24.559999465942383,
          25.25,
          23.299999237060547,
          24.030000686645508,
          25.649999618530273,
          25.190000534057617,
          27.84000015258789,
          27.790000915527344,
          26.399999618530273,
          26.059999465942383,
          26.489999771118164,
          25.40999984741211,
          24.93000030517578,
          24.459999084472656,
          24.790000915527344,
          22.059999465942383,
          23.579999923706055,
          20.489999771118164,
          20.6299991607666,
          22.84000015258789,
          25.959999084472656,
          26.049999237060547,
          28.75,
          28.190000534057617,
          26.559999465942383,
          23.899999618530273,
          24.020000457763672,
          21.639999389648438,
          23.600000381469727,
          24.260000228881836,
          24.200000762939453,
          21.34000015258789,
          22.200000762939453,
          22.09000015258789,
          23.100000381469727,
          23.15999984741211,
          23,
          21.65999984741211,
          21.8700008392334,
          22.700000762939453,
          22.260000228881836,
          22.06999969482422,
          21.649999618530273,
          22.739999771118164,
          20.729999542236328,
          20.959999084472656,
          19.760000228881836,
          19.110000610351562,
          19.979999542236328,
          21,
          20.260000228881836,
          22.329999923706055,
          23.56999969482422,
          24.18000030517578,
          22.229999542236328,
          21.770000457763672,
          19.31999969482422,
          20.579999923706055,
          21.09000015258789,
          21.25,
          21.190000534057617,
          21.479999542236328,
          21.719999313354492,
          23.059999465942383,
          22.030000686645508,
          21.90999984741211,
          21.350000381469727,
          23.780000686645508,
          22.65999984741211,
          22.43000030517578,
          21.1200008392334,
          23.06999969482422,
          22.969999313354492,
          23.09000015258789,
          24.760000228881836,
          24.639999389648438,
          24.209999084472656,
          27.010000228881836,
          26.40999984741211,
          25.729999542236328,
          21.719999313354492,
          21.709999084472656,
          22.5,
          22.84000015258789,
          21.709999084472656,
          19.65999984741211,
          21.5,
          21.719999313354492,
          21.75,
          20.81999969482422,
          24.06999969482422,
          23.020000457763672,
          23.030000686645508,
          23.540000915527344,
          26.139999389648438,
          24.950000762939453,
          null
         ],
         "yaxis": "y3"
        }
       ],
       "layout": {
        "height": 1000,
        "template": {
         "data": {
          "bar": [
           {
            "error_x": {
             "color": "#2a3f5f"
            },
            "error_y": {
             "color": "#2a3f5f"
            },
            "marker": {
             "line": {
              "color": "#E5ECF6",
              "width": 0.5
             },
             "pattern": {
              "fillmode": "overlay",
              "size": 10,
              "solidity": 0.2
             }
            },
            "type": "bar"
           }
          ],
          "barpolar": [
           {
            "marker": {
             "line": {
              "color": "#E5ECF6",
              "width": 0.5
             },
             "pattern": {
              "fillmode": "overlay",
              "size": 10,
              "solidity": 0.2
             }
            },
            "type": "barpolar"
           }
          ],
          "carpet": [
           {
            "aaxis": {
             "endlinecolor": "#2a3f5f",
             "gridcolor": "white",
             "linecolor": "white",
             "minorgridcolor": "white",
             "startlinecolor": "#2a3f5f"
            },
            "baxis": {
             "endlinecolor": "#2a3f5f",
             "gridcolor": "white",
             "linecolor": "white",
             "minorgridcolor": "white",
             "startlinecolor": "#2a3f5f"
            },
            "type": "carpet"
           }
          ],
          "choropleth": [
           {
            "colorbar": {
             "outlinewidth": 0,
             "ticks": ""
            },
            "type": "choropleth"
           }
          ],
          "contour": [
           {
            "colorbar": {
             "outlinewidth": 0,
             "ticks": ""
            },
            "colorscale": [
             [
              0,
              "#0d0887"
             ],
             [
              0.1111111111111111,
              "#46039f"
             ],
             [
              0.2222222222222222,
              "#7201a8"
             ],
             [
              0.3333333333333333,
              "#9c179e"
             ],
             [
              0.4444444444444444,
              "#bd3786"
             ],
             [
              0.5555555555555556,
              "#d8576b"
             ],
             [
              0.6666666666666666,
              "#ed7953"
             ],
             [
              0.7777777777777778,
              "#fb9f3a"
             ],
             [
              0.8888888888888888,
              "#fdca26"
             ],
             [
              1,
              "#f0f921"
             ]
            ],
            "type": "contour"
           }
          ],
          "contourcarpet": [
           {
            "colorbar": {
             "outlinewidth": 0,
             "ticks": ""
            },
            "type": "contourcarpet"
           }
          ],
          "heatmap": [
           {
            "colorbar": {
             "outlinewidth": 0,
             "ticks": ""
            },
            "colorscale": [
             [
              0,
              "#0d0887"
             ],
             [
              0.1111111111111111,
              "#46039f"
             ],
             [
              0.2222222222222222,
              "#7201a8"
             ],
             [
              0.3333333333333333,
              "#9c179e"
             ],
             [
              0.4444444444444444,
              "#bd3786"
             ],
             [
              0.5555555555555556,
              "#d8576b"
             ],
             [
              0.6666666666666666,
              "#ed7953"
             ],
             [
              0.7777777777777778,
              "#fb9f3a"
             ],
             [
              0.8888888888888888,
              "#fdca26"
             ],
             [
              1,
              "#f0f921"
             ]
            ],
            "type": "heatmap"
           }
          ],
          "heatmapgl": [
           {
            "colorbar": {
             "outlinewidth": 0,
             "ticks": ""
            },
            "colorscale": [
             [
              0,
              "#0d0887"
             ],
             [
              0.1111111111111111,
              "#46039f"
             ],
             [
              0.2222222222222222,
              "#7201a8"
             ],
             [
              0.3333333333333333,
              "#9c179e"
             ],
             [
              0.4444444444444444,
              "#bd3786"
             ],
             [
              0.5555555555555556,
              "#d8576b"
             ],
             [
              0.6666666666666666,
              "#ed7953"
             ],
             [
              0.7777777777777778,
              "#fb9f3a"
             ],
             [
              0.8888888888888888,
              "#fdca26"
             ],
             [
              1,
              "#f0f921"
             ]
            ],
            "type": "heatmapgl"
           }
          ],
          "histogram": [
           {
            "marker": {
             "pattern": {
              "fillmode": "overlay",
              "size": 10,
              "solidity": 0.2
             }
            },
            "type": "histogram"
           }
          ],
          "histogram2d": [
           {
            "colorbar": {
             "outlinewidth": 0,
             "ticks": ""
            },
            "colorscale": [
             [
              0,
              "#0d0887"
             ],
             [
              0.1111111111111111,
              "#46039f"
             ],
             [
              0.2222222222222222,
              "#7201a8"
             ],
             [
              0.3333333333333333,
              "#9c179e"
             ],
             [
              0.4444444444444444,
              "#bd3786"
             ],
             [
              0.5555555555555556,
              "#d8576b"
             ],
             [
              0.6666666666666666,
              "#ed7953"
             ],
             [
              0.7777777777777778,
              "#fb9f3a"
             ],
             [
              0.8888888888888888,
              "#fdca26"
             ],
             [
              1,
              "#f0f921"
             ]
            ],
            "type": "histogram2d"
           }
          ],
          "histogram2dcontour": [
           {
            "colorbar": {
             "outlinewidth": 0,
             "ticks": ""
            },
            "colorscale": [
             [
              0,
              "#0d0887"
             ],
             [
              0.1111111111111111,
              "#46039f"
             ],
             [
              0.2222222222222222,
              "#7201a8"
             ],
             [
              0.3333333333333333,
              "#9c179e"
             ],
             [
              0.4444444444444444,
              "#bd3786"
             ],
             [
              0.5555555555555556,
              "#d8576b"
             ],
             [
              0.6666666666666666,
              "#ed7953"
             ],
             [
              0.7777777777777778,
              "#fb9f3a"
             ],
             [
              0.8888888888888888,
              "#fdca26"
             ],
             [
              1,
              "#f0f921"
             ]
            ],
            "type": "histogram2dcontour"
           }
          ],
          "mesh3d": [
           {
            "colorbar": {
             "outlinewidth": 0,
             "ticks": ""
            },
            "type": "mesh3d"
           }
          ],
          "parcoords": [
           {
            "line": {
             "colorbar": {
              "outlinewidth": 0,
              "ticks": ""
             }
            },
            "type": "parcoords"
           }
          ],
          "pie": [
           {
            "automargin": true,
            "type": "pie"
           }
          ],
          "scatter": [
           {
            "marker": {
             "colorbar": {
              "outlinewidth": 0,
              "ticks": ""
             }
            },
            "type": "scatter"
           }
          ],
          "scatter3d": [
           {
            "line": {
             "colorbar": {
              "outlinewidth": 0,
              "ticks": ""
             }
            },
            "marker": {
             "colorbar": {
              "outlinewidth": 0,
              "ticks": ""
             }
            },
            "type": "scatter3d"
           }
          ],
          "scattercarpet": [
           {
            "marker": {
             "colorbar": {
              "outlinewidth": 0,
              "ticks": ""
             }
            },
            "type": "scattercarpet"
           }
          ],
          "scattergeo": [
           {
            "marker": {
             "colorbar": {
              "outlinewidth": 0,
              "ticks": ""
             }
            },
            "type": "scattergeo"
           }
          ],
          "scattergl": [
           {
            "marker": {
             "colorbar": {
              "outlinewidth": 0,
              "ticks": ""
             }
            },
            "type": "scattergl"
           }
          ],
          "scattermapbox": [
           {
            "marker": {
             "colorbar": {
              "outlinewidth": 0,
              "ticks": ""
             }
            },
            "type": "scattermapbox"
           }
          ],
          "scatterpolar": [
           {
            "marker": {
             "colorbar": {
              "outlinewidth": 0,
              "ticks": ""
             }
            },
            "type": "scatterpolar"
           }
          ],
          "scatterpolargl": [
           {
            "marker": {
             "colorbar": {
              "outlinewidth": 0,
              "ticks": ""
             }
            },
            "type": "scatterpolargl"
           }
          ],
          "scatterternary": [
           {
            "marker": {
             "colorbar": {
              "outlinewidth": 0,
              "ticks": ""
             }
            },
            "type": "scatterternary"
           }
          ],
          "surface": [
           {
            "colorbar": {
             "outlinewidth": 0,
             "ticks": ""
            },
            "colorscale": [
             [
              0,
              "#0d0887"
             ],
             [
              0.1111111111111111,
              "#46039f"
             ],
             [
              0.2222222222222222,
              "#7201a8"
             ],
             [
              0.3333333333333333,
              "#9c179e"
             ],
             [
              0.4444444444444444,
              "#bd3786"
             ],
             [
              0.5555555555555556,
              "#d8576b"
             ],
             [
              0.6666666666666666,
              "#ed7953"
             ],
             [
              0.7777777777777778,
              "#fb9f3a"
             ],
             [
              0.8888888888888888,
              "#fdca26"
             ],
             [
              1,
              "#f0f921"
             ]
            ],
            "type": "surface"
           }
          ],
          "table": [
           {
            "cells": {
             "fill": {
              "color": "#EBF0F8"
             },
             "line": {
              "color": "white"
             }
            },
            "header": {
             "fill": {
              "color": "#C8D4E3"
             },
             "line": {
              "color": "white"
             }
            },
            "type": "table"
           }
          ]
         },
         "layout": {
          "annotationdefaults": {
           "arrowcolor": "#2a3f5f",
           "arrowhead": 0,
           "arrowwidth": 1
          },
          "autotypenumbers": "strict",
          "coloraxis": {
           "colorbar": {
            "outlinewidth": 0,
            "ticks": ""
           }
          },
          "colorscale": {
           "diverging": [
            [
             0,
             "#8e0152"
            ],
            [
             0.1,
             "#c51b7d"
            ],
            [
             0.2,
             "#de77ae"
            ],
            [
             0.3,
             "#f1b6da"
            ],
            [
             0.4,
             "#fde0ef"
            ],
            [
             0.5,
             "#f7f7f7"
            ],
            [
             0.6,
             "#e6f5d0"
            ],
            [
             0.7,
             "#b8e186"
            ],
            [
             0.8,
             "#7fbc41"
            ],
            [
             0.9,
             "#4d9221"
            ],
            [
             1,
             "#276419"
            ]
           ],
           "sequential": [
            [
             0,
             "#0d0887"
            ],
            [
             0.1111111111111111,
             "#46039f"
            ],
            [
             0.2222222222222222,
             "#7201a8"
            ],
            [
             0.3333333333333333,
             "#9c179e"
            ],
            [
             0.4444444444444444,
             "#bd3786"
            ],
            [
             0.5555555555555556,
             "#d8576b"
            ],
            [
             0.6666666666666666,
             "#ed7953"
            ],
            [
             0.7777777777777778,
             "#fb9f3a"
            ],
            [
             0.8888888888888888,
             "#fdca26"
            ],
            [
             1,
             "#f0f921"
            ]
           ],
           "sequentialminus": [
            [
             0,
             "#0d0887"
            ],
            [
             0.1111111111111111,
             "#46039f"
            ],
            [
             0.2222222222222222,
             "#7201a8"
            ],
            [
             0.3333333333333333,
             "#9c179e"
            ],
            [
             0.4444444444444444,
             "#bd3786"
            ],
            [
             0.5555555555555556,
             "#d8576b"
            ],
            [
             0.6666666666666666,
             "#ed7953"
            ],
            [
             0.7777777777777778,
             "#fb9f3a"
            ],
            [
             0.8888888888888888,
             "#fdca26"
            ],
            [
             1,
             "#f0f921"
            ]
           ]
          },
          "colorway": [
           "#636efa",
           "#EF553B",
           "#00cc96",
           "#ab63fa",
           "#FFA15A",
           "#19d3f3",
           "#FF6692",
           "#B6E880",
           "#FF97FF",
           "#FECB52"
          ],
          "font": {
           "color": "#2a3f5f"
          },
          "geo": {
           "bgcolor": "white",
           "lakecolor": "white",
           "landcolor": "#E5ECF6",
           "showlakes": true,
           "showland": true,
           "subunitcolor": "white"
          },
          "hoverlabel": {
           "align": "left"
          },
          "hovermode": "closest",
          "mapbox": {
           "style": "light"
          },
          "paper_bgcolor": "white",
          "plot_bgcolor": "#E5ECF6",
          "polar": {
           "angularaxis": {
            "gridcolor": "white",
            "linecolor": "white",
            "ticks": ""
           },
           "bgcolor": "#E5ECF6",
           "radialaxis": {
            "gridcolor": "white",
            "linecolor": "white",
            "ticks": ""
           }
          },
          "scene": {
           "xaxis": {
            "backgroundcolor": "#E5ECF6",
            "gridcolor": "white",
            "gridwidth": 2,
            "linecolor": "white",
            "showbackground": true,
            "ticks": "",
            "zerolinecolor": "white"
           },
           "yaxis": {
            "backgroundcolor": "#E5ECF6",
            "gridcolor": "white",
            "gridwidth": 2,
            "linecolor": "white",
            "showbackground": true,
            "ticks": "",
            "zerolinecolor": "white"
           },
           "zaxis": {
            "backgroundcolor": "#E5ECF6",
            "gridcolor": "white",
            "gridwidth": 2,
            "linecolor": "white",
            "showbackground": true,
            "ticks": "",
            "zerolinecolor": "white"
           }
          },
          "shapedefaults": {
           "line": {
            "color": "#2a3f5f"
           }
          },
          "ternary": {
           "aaxis": {
            "gridcolor": "white",
            "linecolor": "white",
            "ticks": ""
           },
           "baxis": {
            "gridcolor": "white",
            "linecolor": "white",
            "ticks": ""
           },
           "bgcolor": "#E5ECF6",
           "caxis": {
            "gridcolor": "white",
            "linecolor": "white",
            "ticks": ""
           }
          },
          "title": {
           "x": 0.05
          },
          "xaxis": {
           "automargin": true,
           "gridcolor": "white",
           "linecolor": "white",
           "ticks": "",
           "title": {
            "standoff": 15
           },
           "zerolinecolor": "white",
           "zerolinewidth": 2
          },
          "yaxis": {
           "automargin": true,
           "gridcolor": "white",
           "linecolor": "white",
           "ticks": "",
           "title": {
            "standoff": 15
           },
           "zerolinecolor": "white",
           "zerolinewidth": 2
          }
         }
        },
        "xaxis": {
         "anchor": "y",
         "domain": [
          0,
          1
         ],
         "matches": "x3",
         "showticklabels": false
        },
        "xaxis2": {
         "anchor": "y2",
         "domain": [
          0,
          1
         ],
         "matches": "x3",
         "showticklabels": false
        },
        "xaxis3": {
         "anchor": "y3",
         "domain": [
          0,
          1
         ]
        },
        "yaxis": {
         "anchor": "x",
         "domain": [
          0.6733333333333333,
          1
         ]
        },
        "yaxis2": {
         "anchor": "x2",
         "domain": [
          0.33666666666666667,
          0.6633333333333333
         ]
        },
        "yaxis3": {
         "anchor": "x3",
         "domain": [
          0,
          0.32666666666666666
         ]
        }
       }
      }
     },
     "metadata": {}
    }
   ],
   "metadata": {}
  },
  {
   "cell_type": "code",
   "execution_count": null,
   "source": [],
   "outputs": [],
   "metadata": {}
  }
 ],
 "metadata": {
  "orig_nbformat": 4,
  "language_info": {
   "name": "python",
   "version": "3.7.10",
   "mimetype": "text/x-python",
   "codemirror_mode": {
    "name": "ipython",
    "version": 3
   },
   "pygments_lexer": "ipython3",
   "nbconvert_exporter": "python",
   "file_extension": ".py"
  },
  "kernelspec": {
   "name": "python3",
   "display_name": "Python 3.7.10 64-bit ('tda': conda)"
  },
  "interpreter": {
   "hash": "fe7e40918e936608d3d372707ad407c82a45124dfe21f6d77866cbb39f6abe77"
  }
 },
 "nbformat": 4,
 "nbformat_minor": 2
}